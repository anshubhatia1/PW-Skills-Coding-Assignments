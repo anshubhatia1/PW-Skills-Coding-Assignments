{
  "nbformat": 4,
  "nbformat_minor": 0,
  "metadata": {
    "colab": {
      "provenance": []
    },
    "kernelspec": {
      "name": "python3",
      "display_name": "Python 3"
    },
    "language_info": {
      "name": "python"
    }
  },
  "cells": [
    {
      "cell_type": "code",
      "execution_count": 1,
      "metadata": {
        "id": "U-w5LJVwwgk5",
        "colab": {
          "base_uri": "https://localhost:8080/"
        },
        "outputId": "e92ba23c-f230-429c-a689-28433840f836"
      },
      "outputs": [
        {
          "output_type": "stream",
          "name": "stdout",
          "text": [
            "Requirement already satisfied: tensorflow in /usr/local/lib/python3.10/dist-packages (2.15.0)\n",
            "Requirement already satisfied: absl-py>=1.0.0 in /usr/local/lib/python3.10/dist-packages (from tensorflow) (1.4.0)\n",
            "Requirement already satisfied: astunparse>=1.6.0 in /usr/local/lib/python3.10/dist-packages (from tensorflow) (1.6.3)\n",
            "Requirement already satisfied: flatbuffers>=23.5.26 in /usr/local/lib/python3.10/dist-packages (from tensorflow) (24.3.25)\n",
            "Requirement already satisfied: gast!=0.5.0,!=0.5.1,!=0.5.2,>=0.2.1 in /usr/local/lib/python3.10/dist-packages (from tensorflow) (0.6.0)\n",
            "Requirement already satisfied: google-pasta>=0.1.1 in /usr/local/lib/python3.10/dist-packages (from tensorflow) (0.2.0)\n",
            "Requirement already satisfied: h5py>=2.9.0 in /usr/local/lib/python3.10/dist-packages (from tensorflow) (3.9.0)\n",
            "Requirement already satisfied: libclang>=13.0.0 in /usr/local/lib/python3.10/dist-packages (from tensorflow) (18.1.1)\n",
            "Requirement already satisfied: ml-dtypes~=0.2.0 in /usr/local/lib/python3.10/dist-packages (from tensorflow) (0.2.0)\n",
            "Requirement already satisfied: numpy<2.0.0,>=1.23.5 in /usr/local/lib/python3.10/dist-packages (from tensorflow) (1.25.2)\n",
            "Requirement already satisfied: opt-einsum>=2.3.2 in /usr/local/lib/python3.10/dist-packages (from tensorflow) (3.3.0)\n",
            "Requirement already satisfied: packaging in /usr/local/lib/python3.10/dist-packages (from tensorflow) (24.1)\n",
            "Requirement already satisfied: protobuf!=4.21.0,!=4.21.1,!=4.21.2,!=4.21.3,!=4.21.4,!=4.21.5,<5.0.0dev,>=3.20.3 in /usr/local/lib/python3.10/dist-packages (from tensorflow) (3.20.3)\n",
            "Requirement already satisfied: setuptools in /usr/local/lib/python3.10/dist-packages (from tensorflow) (67.7.2)\n",
            "Requirement already satisfied: six>=1.12.0 in /usr/local/lib/python3.10/dist-packages (from tensorflow) (1.16.0)\n",
            "Requirement already satisfied: termcolor>=1.1.0 in /usr/local/lib/python3.10/dist-packages (from tensorflow) (2.4.0)\n",
            "Requirement already satisfied: typing-extensions>=3.6.6 in /usr/local/lib/python3.10/dist-packages (from tensorflow) (4.12.2)\n",
            "Requirement already satisfied: wrapt<1.15,>=1.11.0 in /usr/local/lib/python3.10/dist-packages (from tensorflow) (1.14.1)\n",
            "Requirement already satisfied: tensorflow-io-gcs-filesystem>=0.23.1 in /usr/local/lib/python3.10/dist-packages (from tensorflow) (0.37.0)\n",
            "Requirement already satisfied: grpcio<2.0,>=1.24.3 in /usr/local/lib/python3.10/dist-packages (from tensorflow) (1.64.1)\n",
            "Requirement already satisfied: tensorboard<2.16,>=2.15 in /usr/local/lib/python3.10/dist-packages (from tensorflow) (2.15.2)\n",
            "Requirement already satisfied: tensorflow-estimator<2.16,>=2.15.0 in /usr/local/lib/python3.10/dist-packages (from tensorflow) (2.15.0)\n",
            "Requirement already satisfied: keras<2.16,>=2.15.0 in /usr/local/lib/python3.10/dist-packages (from tensorflow) (2.15.0)\n",
            "Requirement already satisfied: wheel<1.0,>=0.23.0 in /usr/local/lib/python3.10/dist-packages (from astunparse>=1.6.0->tensorflow) (0.43.0)\n",
            "Requirement already satisfied: google-auth<3,>=1.6.3 in /usr/local/lib/python3.10/dist-packages (from tensorboard<2.16,>=2.15->tensorflow) (2.27.0)\n",
            "Requirement already satisfied: google-auth-oauthlib<2,>=0.5 in /usr/local/lib/python3.10/dist-packages (from tensorboard<2.16,>=2.15->tensorflow) (1.2.0)\n",
            "Requirement already satisfied: markdown>=2.6.8 in /usr/local/lib/python3.10/dist-packages (from tensorboard<2.16,>=2.15->tensorflow) (3.6)\n",
            "Requirement already satisfied: requests<3,>=2.21.0 in /usr/local/lib/python3.10/dist-packages (from tensorboard<2.16,>=2.15->tensorflow) (2.31.0)\n",
            "Requirement already satisfied: tensorboard-data-server<0.8.0,>=0.7.0 in /usr/local/lib/python3.10/dist-packages (from tensorboard<2.16,>=2.15->tensorflow) (0.7.2)\n",
            "Requirement already satisfied: werkzeug>=1.0.1 in /usr/local/lib/python3.10/dist-packages (from tensorboard<2.16,>=2.15->tensorflow) (3.0.3)\n",
            "Requirement already satisfied: cachetools<6.0,>=2.0.0 in /usr/local/lib/python3.10/dist-packages (from google-auth<3,>=1.6.3->tensorboard<2.16,>=2.15->tensorflow) (5.3.3)\n",
            "Requirement already satisfied: pyasn1-modules>=0.2.1 in /usr/local/lib/python3.10/dist-packages (from google-auth<3,>=1.6.3->tensorboard<2.16,>=2.15->tensorflow) (0.4.0)\n",
            "Requirement already satisfied: rsa<5,>=3.1.4 in /usr/local/lib/python3.10/dist-packages (from google-auth<3,>=1.6.3->tensorboard<2.16,>=2.15->tensorflow) (4.9)\n",
            "Requirement already satisfied: requests-oauthlib>=0.7.0 in /usr/local/lib/python3.10/dist-packages (from google-auth-oauthlib<2,>=0.5->tensorboard<2.16,>=2.15->tensorflow) (1.3.1)\n",
            "Requirement already satisfied: charset-normalizer<4,>=2 in /usr/local/lib/python3.10/dist-packages (from requests<3,>=2.21.0->tensorboard<2.16,>=2.15->tensorflow) (3.3.2)\n",
            "Requirement already satisfied: idna<4,>=2.5 in /usr/local/lib/python3.10/dist-packages (from requests<3,>=2.21.0->tensorboard<2.16,>=2.15->tensorflow) (3.7)\n",
            "Requirement already satisfied: urllib3<3,>=1.21.1 in /usr/local/lib/python3.10/dist-packages (from requests<3,>=2.21.0->tensorboard<2.16,>=2.15->tensorflow) (2.0.7)\n",
            "Requirement already satisfied: certifi>=2017.4.17 in /usr/local/lib/python3.10/dist-packages (from requests<3,>=2.21.0->tensorboard<2.16,>=2.15->tensorflow) (2024.6.2)\n",
            "Requirement already satisfied: MarkupSafe>=2.1.1 in /usr/local/lib/python3.10/dist-packages (from werkzeug>=1.0.1->tensorboard<2.16,>=2.15->tensorflow) (2.1.5)\n",
            "Requirement already satisfied: pyasn1<0.7.0,>=0.4.6 in /usr/local/lib/python3.10/dist-packages (from pyasn1-modules>=0.2.1->google-auth<3,>=1.6.3->tensorboard<2.16,>=2.15->tensorflow) (0.6.0)\n",
            "Requirement already satisfied: oauthlib>=3.0.0 in /usr/local/lib/python3.10/dist-packages (from requests-oauthlib>=0.7.0->google-auth-oauthlib<2,>=0.5->tensorboard<2.16,>=2.15->tensorflow) (3.2.2)\n"
          ]
        }
      ],
      "source": [
        "pip install tensorflow"
      ]
    },
    {
      "cell_type": "code",
      "source": [
        "import tensorflow as tf\n",
        "import seaborn as sns\n",
        "import numpy as np\n",
        "import pandas as pd\n",
        "import matplotlib.pyplot as plt"
      ],
      "metadata": {
        "id": "QrKqPXXNxmbX"
      },
      "execution_count": 2,
      "outputs": []
    },
    {
      "cell_type": "code",
      "source": [
        "mnist = tf.keras.datasets.mnist"
      ],
      "metadata": {
        "id": "shQ927stxtO0"
      },
      "execution_count": 3,
      "outputs": []
    },
    {
      "cell_type": "code",
      "source": [
        "(X_train, y_train), (X_test, y_test) = mnist.load_data()"
      ],
      "metadata": {
        "colab": {
          "base_uri": "https://localhost:8080/"
        },
        "id": "Rv5v-lCsxu7B",
        "outputId": "fd2d8c57-3429-4ba2-9a27-b0811675abd6"
      },
      "execution_count": 4,
      "outputs": [
        {
          "output_type": "stream",
          "name": "stdout",
          "text": [
            "Downloading data from https://storage.googleapis.com/tensorflow/tf-keras-datasets/mnist.npz\n",
            "11490434/11490434 [==============================] - 0s 0us/step\n"
          ]
        }
      ]
    },
    {
      "cell_type": "code",
      "source": [
        "X_train = tf.keras.utils.normalize(X_train, axis=1)\n",
        "X_test = tf.keras.utils.normalize(X_test, axis=1)"
      ],
      "metadata": {
        "id": "PCOe_maRxwbL"
      },
      "execution_count": 5,
      "outputs": []
    },
    {
      "cell_type": "code",
      "source": [
        "from tensorflow.keras.callbacks import EarlyStopping\n",
        "earlyStopping = EarlyStopping(monitor='val_loss',patience=3)"
      ],
      "metadata": {
        "id": "VBVILGfgxySH"
      },
      "execution_count": 6,
      "outputs": []
    },
    {
      "cell_type": "markdown",
      "source": [
        "## **zero weight initialization**"
      ],
      "metadata": {
        "id": "rdC5CiTAzYQ6"
      }
    },
    {
      "cell_type": "code",
      "source": [
        "from tensorflow.keras.models import Sequential\n",
        "from tensorflow.keras.layers import Dense\n",
        "LAYERS = [tf.keras.layers.Flatten(input_shape=[28, 28], name=\"inputLayer\"),\n",
        "          tf.keras.layers.Dense(300, activation=\"relu\", name=\"hiddenLayer1\", kernel_regularizer='l2', kernel_initializer = tf.keras.initializers.Zeros()),\n",
        "          tf.keras.layers.BatchNormalization(),  # Batch Normalization Layer\n",
        "          tf.keras.layers.Dense(100, activation=\"relu\", name=\"hiddenLayer2\", kernel_regularizer='l2', kernel_initializer = tf.keras.initializers.Zeros()),\n",
        "          tf.keras.layers.BatchNormalization(),  # Batch Normalization Layer\n",
        "          tf.keras.layers.Dense(10, activation=\"softmax\", name=\"outputLayer\")]\n",
        "\n",
        "model = tf.keras.models.Sequential(LAYERS)"
      ],
      "metadata": {
        "id": "erSGD5Ykxz4J"
      },
      "execution_count": 8,
      "outputs": []
    },
    {
      "cell_type": "code",
      "source": [
        "model.compile(optimizer='sgd', loss='sparse_categorical_crossentropy', metrics=['accuracy'])"
      ],
      "metadata": {
        "id": "AR3j8xzgyU--"
      },
      "execution_count": 9,
      "outputs": []
    },
    {
      "cell_type": "code",
      "source": [
        "VALIDATION_SET = (X_test, y_test)\n",
        "\n",
        "history = model.fit(X_train, y_train, epochs=30,\n",
        "                    validation_data=VALIDATION_SET, batch_size=32, callbacks=[earlyStopping])"
      ],
      "metadata": {
        "colab": {
          "base_uri": "https://localhost:8080/"
        },
        "id": "ZgcNzg7Syj2G",
        "outputId": "a525627f-5b1e-4950-dbf7-7d218fe2ecea"
      },
      "execution_count": 10,
      "outputs": [
        {
          "output_type": "stream",
          "name": "stdout",
          "text": [
            "Epoch 1/30\n",
            "1875/1875 [==============================] - 12s 6ms/step - loss: 2.3015 - accuracy: 0.1116 - val_loss: 2.3010 - val_accuracy: 0.1135\n",
            "Epoch 2/30\n",
            "1875/1875 [==============================] - 11s 6ms/step - loss: 2.3014 - accuracy: 0.1124 - val_loss: 2.3012 - val_accuracy: 0.1135\n",
            "Epoch 3/30\n",
            "1875/1875 [==============================] - 12s 6ms/step - loss: 2.3014 - accuracy: 0.1123 - val_loss: 2.3012 - val_accuracy: 0.1135\n",
            "Epoch 4/30\n",
            "1875/1875 [==============================] - 11s 6ms/step - loss: 2.3014 - accuracy: 0.1124 - val_loss: 2.3011 - val_accuracy: 0.1135\n"
          ]
        }
      ]
    },
    {
      "cell_type": "code",
      "source": [
        "loss, accuracy = model.evaluate(X_test, y_test)\n",
        "print(\"loss: \", loss)\n",
        "print(\"Accuracy: \", accuracy)"
      ],
      "metadata": {
        "colab": {
          "base_uri": "https://localhost:8080/"
        },
        "id": "Vc1rAQ4Uyk7Z",
        "outputId": "36907e36-7a61-4987-c6cf-88346a956a55"
      },
      "execution_count": 11,
      "outputs": [
        {
          "output_type": "stream",
          "name": "stdout",
          "text": [
            "313/313 [==============================] - 1s 2ms/step - loss: 2.3011 - accuracy: 0.1135\n",
            "loss:  2.301091432571411\n",
            "Accuracy:  0.11349999904632568\n"
          ]
        }
      ]
    },
    {
      "cell_type": "markdown",
      "source": [
        "## **Ones weight initialization**"
      ],
      "metadata": {
        "id": "BIKyP9c-0W5c"
      }
    },
    {
      "cell_type": "code",
      "source": [
        "from tensorflow.keras.models import Sequential\n",
        "from tensorflow.keras.layers import Dense\n",
        "LAYERS = [tf.keras.layers.Flatten(input_shape=[28, 28], name=\"inputLayer\"),\n",
        "          tf.keras.layers.Dense(300, activation=\"relu\", name=\"hiddenLayer1\", kernel_regularizer='l2', kernel_initializer = tf.keras.initializers.Ones()),\n",
        "          tf.keras.layers.BatchNormalization(),  # Batch Normalization Layer\n",
        "          tf.keras.layers.Dense(100, activation=\"relu\", name=\"hiddenLayer2\", kernel_regularizer='l2', kernel_initializer = tf.keras.initializers.Ones()),\n",
        "          tf.keras.layers.BatchNormalization(),  # Batch Normalization Layer\n",
        "          tf.keras.layers.Dense(10, activation=\"softmax\", name=\"outputLayer\")]\n",
        "\n",
        "model2 = tf.keras.models.Sequential(LAYERS)\n",
        "model2.compile(optimizer='sgd', loss='sparse_categorical_crossentropy', metrics=['accuracy'])"
      ],
      "metadata": {
        "id": "bc2_Dhk6y_xd"
      },
      "execution_count": 12,
      "outputs": []
    },
    {
      "cell_type": "code",
      "source": [
        "VALIDATION_SET = (X_test, y_test)\n",
        "\n",
        "history2 = model2.fit(X_train, y_train, epochs=30,\n",
        "                    validation_data=VALIDATION_SET, batch_size=32, callbacks=[earlyStopping])"
      ],
      "metadata": {
        "colab": {
          "base_uri": "https://localhost:8080/"
        },
        "id": "7zoY5SKg0sDC",
        "outputId": "a0149ebd-f2f1-4b5e-8a1d-a2d050e6fe97"
      },
      "execution_count": 13,
      "outputs": [
        {
          "output_type": "stream",
          "name": "stdout",
          "text": [
            "Epoch 1/30\n",
            "1875/1875 [==============================] - 12s 6ms/step - loss: 1868.1830 - accuracy: 0.1989 - val_loss: 1254.7834 - val_accuracy: 0.1949\n",
            "Epoch 2/30\n",
            "1875/1875 [==============================] - 10s 6ms/step - loss: 883.5311 - accuracy: 0.2050 - val_loss: 593.8213 - val_accuracy: 0.1832\n",
            "Epoch 3/30\n",
            "1875/1875 [==============================] - 11s 6ms/step - loss: 418.4522 - accuracy: 0.2046 - val_loss: 281.6197 - val_accuracy: 0.1969\n",
            "Epoch 4/30\n",
            "1875/1875 [==============================] - 10s 5ms/step - loss: 198.7804 - accuracy: 0.2051 - val_loss: 134.1503 - val_accuracy: 0.2010\n",
            "Epoch 5/30\n",
            "1875/1875 [==============================] - 10s 5ms/step - loss: 95.0195 - accuracy: 0.2065 - val_loss: 64.5065 - val_accuracy: 0.1946\n",
            "Epoch 6/30\n",
            "1875/1875 [==============================] - 11s 6ms/step - loss: 46.0103 - accuracy: 0.2055 - val_loss: 31.6124 - val_accuracy: 0.1854\n",
            "Epoch 7/30\n",
            "1875/1875 [==============================] - 11s 6ms/step - loss: 22.8578 - accuracy: 0.2066 - val_loss: 16.0591 - val_accuracy: 0.2015\n",
            "Epoch 8/30\n",
            "1875/1875 [==============================] - 12s 6ms/step - loss: 11.9150 - accuracy: 0.2113 - val_loss: 8.7044 - val_accuracy: 0.2037\n",
            "Epoch 9/30\n",
            "1875/1875 [==============================] - 12s 6ms/step - loss: 6.7350 - accuracy: 0.2131 - val_loss: 5.2198 - val_accuracy: 0.1964\n",
            "Epoch 10/30\n",
            "1875/1875 [==============================] - 11s 6ms/step - loss: 4.2570 - accuracy: 0.2169 - val_loss: 3.5171 - val_accuracy: 0.2149\n",
            "Epoch 11/30\n",
            "1875/1875 [==============================] - 10s 6ms/step - loss: 3.0421 - accuracy: 0.2224 - val_loss: 2.6573 - val_accuracy: 0.2298\n",
            "Epoch 12/30\n",
            "1875/1875 [==============================] - 11s 6ms/step - loss: 2.4180 - accuracy: 0.2337 - val_loss: 2.2124 - val_accuracy: 0.2427\n",
            "Epoch 13/30\n",
            "1875/1875 [==============================] - 11s 6ms/step - loss: 1.7862 - accuracy: 0.3949 - val_loss: 1.4128 - val_accuracy: 0.5015\n",
            "Epoch 14/30\n",
            "1875/1875 [==============================] - 11s 6ms/step - loss: 1.2406 - accuracy: 0.6044 - val_loss: 1.0998 - val_accuracy: 0.6318\n",
            "Epoch 15/30\n",
            "1875/1875 [==============================] - 12s 6ms/step - loss: 1.0965 - accuracy: 0.6423 - val_loss: 1.0032 - val_accuracy: 0.6768\n",
            "Epoch 16/30\n",
            "1875/1875 [==============================] - 12s 7ms/step - loss: 1.0483 - accuracy: 0.6500 - val_loss: 0.9441 - val_accuracy: 0.6879\n",
            "Epoch 17/30\n",
            "1875/1875 [==============================] - 10s 5ms/step - loss: 1.0205 - accuracy: 0.6603 - val_loss: 0.9156 - val_accuracy: 0.7019\n",
            "Epoch 18/30\n",
            "1875/1875 [==============================] - 11s 6ms/step - loss: 1.0085 - accuracy: 0.6672 - val_loss: 0.9278 - val_accuracy: 0.6960\n",
            "Epoch 19/30\n",
            "1875/1875 [==============================] - 11s 6ms/step - loss: 0.9991 - accuracy: 0.6727 - val_loss: 0.9249 - val_accuracy: 0.7011\n",
            "Epoch 20/30\n",
            "1875/1875 [==============================] - 11s 6ms/step - loss: 1.0016 - accuracy: 0.6675 - val_loss: 0.9307 - val_accuracy: 0.6940\n"
          ]
        }
      ]
    },
    {
      "cell_type": "code",
      "source": [
        "loss, accuracy = model2.evaluate(X_test, y_test)\n",
        "print(\"loss: \", loss)\n",
        "print(\"Accuracy: \", accuracy)"
      ],
      "metadata": {
        "colab": {
          "base_uri": "https://localhost:8080/"
        },
        "id": "ZYp2j6841THX",
        "outputId": "c10e2702-c3a3-4c33-cd71-0610f6eb4dcb"
      },
      "execution_count": 14,
      "outputs": [
        {
          "output_type": "stream",
          "name": "stdout",
          "text": [
            "313/313 [==============================] - 1s 2ms/step - loss: 0.9307 - accuracy: 0.6940\n",
            "loss:  0.9306530356407166\n",
            "Accuracy:  0.6940000057220459\n"
          ]
        }
      ]
    },
    {
      "cell_type": "markdown",
      "source": [
        "## **Xavier normal initializer**"
      ],
      "metadata": {
        "id": "hUn5YxsO1I-A"
      }
    },
    {
      "cell_type": "code",
      "source": [
        "from tensorflow.keras.models import Sequential\n",
        "from tensorflow.keras.layers import Dense\n",
        "LAYERS = [tf.keras.layers.Flatten(input_shape=[28, 28], name=\"inputLayer\"),\n",
        "          tf.keras.layers.Dense(300, activation=\"relu\", name=\"hiddenLayer1\", kernel_regularizer='l2', kernel_initializer = tf.keras.initializers.GlorotNormal()),\n",
        "          tf.keras.layers.BatchNormalization(),  # Batch Normalization Layer\n",
        "          tf.keras.layers.Dense(100, activation=\"relu\", name=\"hiddenLayer2\", kernel_regularizer='l2', kernel_initializer = tf.keras.initializers.GlorotNormal()),\n",
        "          tf.keras.layers.BatchNormalization(),  # Batch Normalization Layer\n",
        "          tf.keras.layers.Dense(10, activation=\"softmax\", name=\"outputLayer\")]\n",
        "\n",
        "model3 = tf.keras.models.Sequential(LAYERS)\n",
        "model3.compile(optimizer='sgd', loss='sparse_categorical_crossentropy', metrics=['accuracy'])"
      ],
      "metadata": {
        "id": "LOK_V3ip0xFc"
      },
      "execution_count": 16,
      "outputs": []
    },
    {
      "cell_type": "code",
      "source": [
        "VALIDATION_SET = (X_test, y_test)\n",
        "\n",
        "history3 = model3.fit(X_train, y_train, epochs=30,\n",
        "                    validation_data=VALIDATION_SET, batch_size=32, callbacks=[earlyStopping])"
      ],
      "metadata": {
        "colab": {
          "base_uri": "https://localhost:8080/"
        },
        "id": "UPxcV8W91VwU",
        "outputId": "df24f67e-3cbb-45bc-bb26-b76437278ad5"
      },
      "execution_count": 17,
      "outputs": [
        {
          "output_type": "stream",
          "name": "stdout",
          "text": [
            "Epoch 1/30\n",
            "1875/1875 [==============================] - 11s 6ms/step - loss: 4.4471 - accuracy: 0.9046 - val_loss: 2.9347 - val_accuracy: 0.9533\n",
            "Epoch 2/30\n",
            "1875/1875 [==============================] - 11s 6ms/step - loss: 2.1151 - accuracy: 0.9557 - val_loss: 1.4536 - val_accuracy: 0.9652\n",
            "Epoch 3/30\n",
            "1875/1875 [==============================] - 10s 6ms/step - loss: 1.0664 - accuracy: 0.9663 - val_loss: 0.7735 - val_accuracy: 0.9657\n",
            "Epoch 4/30\n",
            "1875/1875 [==============================] - 10s 5ms/step - loss: 0.5906 - accuracy: 0.9686 - val_loss: 0.4880 - val_accuracy: 0.9567\n",
            "Epoch 5/30\n",
            "1875/1875 [==============================] - 10s 5ms/step - loss: 0.3703 - accuracy: 0.9713 - val_loss: 0.3390 - val_accuracy: 0.9625\n",
            "Epoch 6/30\n",
            "1875/1875 [==============================] - 11s 6ms/step - loss: 0.2723 - accuracy: 0.9718 - val_loss: 0.2662 - val_accuracy: 0.9674\n",
            "Epoch 7/30\n",
            "1875/1875 [==============================] - 11s 6ms/step - loss: 0.2265 - accuracy: 0.9722 - val_loss: 0.2470 - val_accuracy: 0.9622\n",
            "Epoch 8/30\n",
            "1875/1875 [==============================] - 11s 6ms/step - loss: 0.2017 - accuracy: 0.9729 - val_loss: 0.2365 - val_accuracy: 0.9619\n",
            "Epoch 9/30\n",
            "1875/1875 [==============================] - 11s 6ms/step - loss: 0.1937 - accuracy: 0.9726 - val_loss: 0.2102 - val_accuracy: 0.9685\n",
            "Epoch 10/30\n",
            "1875/1875 [==============================] - 10s 5ms/step - loss: 0.1874 - accuracy: 0.9732 - val_loss: 0.1921 - val_accuracy: 0.9736\n",
            "Epoch 11/30\n",
            "1875/1875 [==============================] - 11s 6ms/step - loss: 0.1829 - accuracy: 0.9736 - val_loss: 0.2066 - val_accuracy: 0.9702\n",
            "Epoch 12/30\n",
            "1875/1875 [==============================] - 11s 6ms/step - loss: 0.1767 - accuracy: 0.9750 - val_loss: 0.1990 - val_accuracy: 0.9689\n",
            "Epoch 13/30\n",
            "1875/1875 [==============================] - 11s 6ms/step - loss: 0.1833 - accuracy: 0.9729 - val_loss: 0.2062 - val_accuracy: 0.9662\n"
          ]
        }
      ]
    },
    {
      "cell_type": "code",
      "source": [
        "loss, accuracy = model3.evaluate(X_test, y_test)\n",
        "print(\"loss: \", loss)\n",
        "print(\"Accuracy: \", accuracy)"
      ],
      "metadata": {
        "colab": {
          "base_uri": "https://localhost:8080/"
        },
        "id": "Co67ci4P1YJR",
        "outputId": "5fdf5551-a318-42e2-88ea-5fc25493e2ad"
      },
      "execution_count": 18,
      "outputs": [
        {
          "output_type": "stream",
          "name": "stdout",
          "text": [
            "313/313 [==============================] - 1s 3ms/step - loss: 0.2062 - accuracy: 0.9662\n",
            "loss:  0.20624612271785736\n",
            "Accuracy:  0.9661999940872192\n"
          ]
        }
      ]
    },
    {
      "cell_type": "markdown",
      "source": [
        "## **He Normal Initializers**"
      ],
      "metadata": {
        "id": "A6zF3Px72LN3"
      }
    },
    {
      "cell_type": "code",
      "source": [
        "from tensorflow.keras.models import Sequential\n",
        "from tensorflow.keras.layers import Dense\n",
        "LAYERS = [tf.keras.layers.Flatten(input_shape=[28, 28], name=\"inputLayer\"),\n",
        "          tf.keras.layers.Dense(300, activation=\"relu\", name=\"hiddenLayer1\", kernel_regularizer='l2', kernel_initializer = tf.keras.initializers.HeNormal()),\n",
        "          tf.keras.layers.BatchNormalization(),  # Batch Normalization Layer\n",
        "          tf.keras.layers.Dense(100, activation=\"relu\", name=\"hiddenLayer2\", kernel_regularizer='l2', kernel_initializer = tf.keras.initializers.HeNormal()),\n",
        "          tf.keras.layers.BatchNormalization(),  # Batch Normalization Layer\n",
        "          tf.keras.layers.Dense(10, activation=\"softmax\", name=\"outputLayer\")]\n",
        "\n",
        "model4 = tf.keras.models.Sequential(LAYERS)\n",
        "model4.compile(optimizer='sgd', loss='sparse_categorical_crossentropy', metrics=['accuracy'])"
      ],
      "metadata": {
        "id": "DvseP3V11coT"
      },
      "execution_count": 20,
      "outputs": []
    },
    {
      "cell_type": "code",
      "source": [
        "VALIDATION_SET = (X_test, y_test)\n",
        "\n",
        "history4 = model4.fit(X_train, y_train, epochs=30,\n",
        "                    validation_data=VALIDATION_SET, batch_size=32, callbacks=[earlyStopping])"
      ],
      "metadata": {
        "colab": {
          "base_uri": "https://localhost:8080/"
        },
        "id": "VEYTNjL02V0j",
        "outputId": "bfcc8587-6a7f-462a-910f-7b23331c2a90"
      },
      "execution_count": 21,
      "outputs": [
        {
          "output_type": "stream",
          "name": "stdout",
          "text": [
            "Epoch 1/30\n",
            "1875/1875 [==============================] - 12s 6ms/step - loss: 5.9996 - accuracy: 0.8953 - val_loss: 3.9651 - val_accuracy: 0.9517\n",
            "Epoch 2/30\n",
            "1875/1875 [==============================] - 11s 6ms/step - loss: 2.8416 - accuracy: 0.9540 - val_loss: 1.9379 - val_accuracy: 0.9619\n",
            "Epoch 3/30\n",
            "1875/1875 [==============================] - 12s 6ms/step - loss: 1.4060 - accuracy: 0.9658 - val_loss: 0.9948 - val_accuracy: 0.9665\n",
            "Epoch 4/30\n",
            "1875/1875 [==============================] - 9s 5ms/step - loss: 0.7433 - accuracy: 0.9697 - val_loss: 0.5697 - val_accuracy: 0.9647\n",
            "Epoch 5/30\n",
            "1875/1875 [==============================] - 10s 6ms/step - loss: 0.4440 - accuracy: 0.9698 - val_loss: 0.3801 - val_accuracy: 0.9652\n",
            "Epoch 6/30\n",
            "1875/1875 [==============================] - 10s 6ms/step - loss: 0.3096 - accuracy: 0.9705 - val_loss: 0.2957 - val_accuracy: 0.9651\n",
            "Epoch 7/30\n",
            "1875/1875 [==============================] - 10s 5ms/step - loss: 0.2414 - accuracy: 0.9716 - val_loss: 0.2459 - val_accuracy: 0.9645\n",
            "Epoch 8/30\n",
            "1875/1875 [==============================] - 10s 5ms/step - loss: 0.2125 - accuracy: 0.9716 - val_loss: 0.2205 - val_accuracy: 0.9666\n",
            "Epoch 9/30\n",
            "1875/1875 [==============================] - 10s 5ms/step - loss: 0.1987 - accuracy: 0.9726 - val_loss: 0.2394 - val_accuracy: 0.9577\n",
            "Epoch 10/30\n",
            "1875/1875 [==============================] - 11s 6ms/step - loss: 0.1849 - accuracy: 0.9741 - val_loss: 0.2279 - val_accuracy: 0.9634\n",
            "Epoch 11/30\n",
            "1875/1875 [==============================] - 11s 6ms/step - loss: 0.1836 - accuracy: 0.9737 - val_loss: 0.1891 - val_accuracy: 0.9720\n",
            "Epoch 12/30\n",
            "1875/1875 [==============================] - 10s 6ms/step - loss: 0.1781 - accuracy: 0.9740 - val_loss: 0.2221 - val_accuracy: 0.9630\n",
            "Epoch 13/30\n",
            "1875/1875 [==============================] - 9s 5ms/step - loss: 0.1807 - accuracy: 0.9742 - val_loss: 0.2217 - val_accuracy: 0.9645\n",
            "Epoch 14/30\n",
            "1875/1875 [==============================] - 11s 6ms/step - loss: 0.1800 - accuracy: 0.9744 - val_loss: 0.2011 - val_accuracy: 0.9684\n"
          ]
        }
      ]
    },
    {
      "cell_type": "code",
      "source": [
        "loss, accuracy = model4.evaluate(X_test, y_test)\n",
        "print(\"loss: \", loss)\n",
        "print(\"Accuracy: \", accuracy)"
      ],
      "metadata": {
        "colab": {
          "base_uri": "https://localhost:8080/"
        },
        "id": "GF2bA2Ar2bTQ",
        "outputId": "01b4f790-4a3e-4d99-8537-ef5f29833ba4"
      },
      "execution_count": 22,
      "outputs": [
        {
          "output_type": "stream",
          "name": "stdout",
          "text": [
            "313/313 [==============================] - 1s 2ms/step - loss: 0.2011 - accuracy: 0.9684\n",
            "loss:  0.20106013119220734\n",
            "Accuracy:  0.9684000015258789\n"
          ]
        }
      ]
    },
    {
      "cell_type": "code",
      "source": [],
      "metadata": {
        "id": "NYsj2-7v2c-x"
      },
      "execution_count": null,
      "outputs": []
    },
    {
      "cell_type": "code",
      "source": [],
      "metadata": {
        "id": "NP8Yro363QA5"
      },
      "execution_count": null,
      "outputs": []
    }
  ]
}
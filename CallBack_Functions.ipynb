{
  "nbformat": 4,
  "nbformat_minor": 0,
  "metadata": {
    "colab": {
      "provenance": []
    },
    "kernelspec": {
      "name": "python3",
      "display_name": "Python 3"
    },
    "language_info": {
      "name": "python"
    }
  },
  "cells": [
    {
      "cell_type": "code",
      "execution_count": 2,
      "metadata": {
        "id": "IcuOrPe8fuNc"
      },
      "outputs": [],
      "source": [
        "# pip install tensorflow"
      ]
    },
    {
      "cell_type": "code",
      "source": [
        "import numpy as np\n",
        "import pandas as pd\n",
        "import tensorflow as tf"
      ],
      "metadata": {
        "id": "evUhrcvtf5Dc"
      },
      "execution_count": 3,
      "outputs": []
    },
    {
      "cell_type": "code",
      "source": [
        "from google.colab import drive\n",
        "drive.mount(\"/content/drive\")"
      ],
      "metadata": {
        "colab": {
          "base_uri": "https://localhost:8080/"
        },
        "id": "JSfVVWB9gAot",
        "outputId": "16004dce-40a6-4089-ca5c-2f1553530e6f"
      },
      "execution_count": 5,
      "outputs": [
        {
          "output_type": "stream",
          "name": "stdout",
          "text": [
            "Mounted at /content/drive\n"
          ]
        }
      ]
    },
    {
      "cell_type": "code",
      "source": [
        "df = pd.read_csv('/content/drive/MyDrive/wines_dataset.csv')"
      ],
      "metadata": {
        "id": "_9FOlpCsgBsc"
      },
      "execution_count": 7,
      "outputs": []
    },
    {
      "cell_type": "code",
      "source": [
        "df.head()"
      ],
      "metadata": {
        "colab": {
          "base_uri": "https://localhost:8080/",
          "height": 206
        },
        "id": "mmcUp8qtgpSb",
        "outputId": "3029d919-4fd9-4664-e02c-e89a66d8649e"
      },
      "execution_count": 8,
      "outputs": [
        {
          "output_type": "execute_result",
          "data": {
            "text/plain": [
              "   fixed acidity  volatile acidity  citric acid  residual sugar  chlorides  \\\n",
              "0            7.4              0.70         0.00             1.9      0.076   \n",
              "1            7.8              0.88         0.00             2.6      0.098   \n",
              "2            7.8              0.76         0.04             2.3      0.092   \n",
              "3           11.2              0.28         0.56             1.9      0.075   \n",
              "4            7.4              0.70         0.00             1.9      0.076   \n",
              "\n",
              "   free sulfur dioxide  total sulfur dioxide  density    pH  sulphates  \\\n",
              "0                 11.0                  34.0   0.9978  3.51       0.56   \n",
              "1                 25.0                  67.0   0.9968  3.20       0.68   \n",
              "2                 15.0                  54.0   0.9970  3.26       0.65   \n",
              "3                 17.0                  60.0   0.9980  3.16       0.58   \n",
              "4                 11.0                  34.0   0.9978  3.51       0.56   \n",
              "\n",
              "   alcohol quality  \n",
              "0      9.4     bad  \n",
              "1      9.8     bad  \n",
              "2      9.8     bad  \n",
              "3      9.8    good  \n",
              "4      9.4     bad  "
            ],
            "text/html": [
              "\n",
              "  <div id=\"df-6f02c6ca-b43e-4ffe-9f0c-1e41fca51e62\" class=\"colab-df-container\">\n",
              "    <div>\n",
              "<style scoped>\n",
              "    .dataframe tbody tr th:only-of-type {\n",
              "        vertical-align: middle;\n",
              "    }\n",
              "\n",
              "    .dataframe tbody tr th {\n",
              "        vertical-align: top;\n",
              "    }\n",
              "\n",
              "    .dataframe thead th {\n",
              "        text-align: right;\n",
              "    }\n",
              "</style>\n",
              "<table border=\"1\" class=\"dataframe\">\n",
              "  <thead>\n",
              "    <tr style=\"text-align: right;\">\n",
              "      <th></th>\n",
              "      <th>fixed acidity</th>\n",
              "      <th>volatile acidity</th>\n",
              "      <th>citric acid</th>\n",
              "      <th>residual sugar</th>\n",
              "      <th>chlorides</th>\n",
              "      <th>free sulfur dioxide</th>\n",
              "      <th>total sulfur dioxide</th>\n",
              "      <th>density</th>\n",
              "      <th>pH</th>\n",
              "      <th>sulphates</th>\n",
              "      <th>alcohol</th>\n",
              "      <th>quality</th>\n",
              "    </tr>\n",
              "  </thead>\n",
              "  <tbody>\n",
              "    <tr>\n",
              "      <th>0</th>\n",
              "      <td>7.4</td>\n",
              "      <td>0.70</td>\n",
              "      <td>0.00</td>\n",
              "      <td>1.9</td>\n",
              "      <td>0.076</td>\n",
              "      <td>11.0</td>\n",
              "      <td>34.0</td>\n",
              "      <td>0.9978</td>\n",
              "      <td>3.51</td>\n",
              "      <td>0.56</td>\n",
              "      <td>9.4</td>\n",
              "      <td>bad</td>\n",
              "    </tr>\n",
              "    <tr>\n",
              "      <th>1</th>\n",
              "      <td>7.8</td>\n",
              "      <td>0.88</td>\n",
              "      <td>0.00</td>\n",
              "      <td>2.6</td>\n",
              "      <td>0.098</td>\n",
              "      <td>25.0</td>\n",
              "      <td>67.0</td>\n",
              "      <td>0.9968</td>\n",
              "      <td>3.20</td>\n",
              "      <td>0.68</td>\n",
              "      <td>9.8</td>\n",
              "      <td>bad</td>\n",
              "    </tr>\n",
              "    <tr>\n",
              "      <th>2</th>\n",
              "      <td>7.8</td>\n",
              "      <td>0.76</td>\n",
              "      <td>0.04</td>\n",
              "      <td>2.3</td>\n",
              "      <td>0.092</td>\n",
              "      <td>15.0</td>\n",
              "      <td>54.0</td>\n",
              "      <td>0.9970</td>\n",
              "      <td>3.26</td>\n",
              "      <td>0.65</td>\n",
              "      <td>9.8</td>\n",
              "      <td>bad</td>\n",
              "    </tr>\n",
              "    <tr>\n",
              "      <th>3</th>\n",
              "      <td>11.2</td>\n",
              "      <td>0.28</td>\n",
              "      <td>0.56</td>\n",
              "      <td>1.9</td>\n",
              "      <td>0.075</td>\n",
              "      <td>17.0</td>\n",
              "      <td>60.0</td>\n",
              "      <td>0.9980</td>\n",
              "      <td>3.16</td>\n",
              "      <td>0.58</td>\n",
              "      <td>9.8</td>\n",
              "      <td>good</td>\n",
              "    </tr>\n",
              "    <tr>\n",
              "      <th>4</th>\n",
              "      <td>7.4</td>\n",
              "      <td>0.70</td>\n",
              "      <td>0.00</td>\n",
              "      <td>1.9</td>\n",
              "      <td>0.076</td>\n",
              "      <td>11.0</td>\n",
              "      <td>34.0</td>\n",
              "      <td>0.9978</td>\n",
              "      <td>3.51</td>\n",
              "      <td>0.56</td>\n",
              "      <td>9.4</td>\n",
              "      <td>bad</td>\n",
              "    </tr>\n",
              "  </tbody>\n",
              "</table>\n",
              "</div>\n",
              "    <div class=\"colab-df-buttons\">\n",
              "\n",
              "  <div class=\"colab-df-container\">\n",
              "    <button class=\"colab-df-convert\" onclick=\"convertToInteractive('df-6f02c6ca-b43e-4ffe-9f0c-1e41fca51e62')\"\n",
              "            title=\"Convert this dataframe to an interactive table.\"\n",
              "            style=\"display:none;\">\n",
              "\n",
              "  <svg xmlns=\"http://www.w3.org/2000/svg\" height=\"24px\" viewBox=\"0 -960 960 960\">\n",
              "    <path d=\"M120-120v-720h720v720H120Zm60-500h600v-160H180v160Zm220 220h160v-160H400v160Zm0 220h160v-160H400v160ZM180-400h160v-160H180v160Zm440 0h160v-160H620v160ZM180-180h160v-160H180v160Zm440 0h160v-160H620v160Z\"/>\n",
              "  </svg>\n",
              "    </button>\n",
              "\n",
              "  <style>\n",
              "    .colab-df-container {\n",
              "      display:flex;\n",
              "      gap: 12px;\n",
              "    }\n",
              "\n",
              "    .colab-df-convert {\n",
              "      background-color: #E8F0FE;\n",
              "      border: none;\n",
              "      border-radius: 50%;\n",
              "      cursor: pointer;\n",
              "      display: none;\n",
              "      fill: #1967D2;\n",
              "      height: 32px;\n",
              "      padding: 0 0 0 0;\n",
              "      width: 32px;\n",
              "    }\n",
              "\n",
              "    .colab-df-convert:hover {\n",
              "      background-color: #E2EBFA;\n",
              "      box-shadow: 0px 1px 2px rgba(60, 64, 67, 0.3), 0px 1px 3px 1px rgba(60, 64, 67, 0.15);\n",
              "      fill: #174EA6;\n",
              "    }\n",
              "\n",
              "    .colab-df-buttons div {\n",
              "      margin-bottom: 4px;\n",
              "    }\n",
              "\n",
              "    [theme=dark] .colab-df-convert {\n",
              "      background-color: #3B4455;\n",
              "      fill: #D2E3FC;\n",
              "    }\n",
              "\n",
              "    [theme=dark] .colab-df-convert:hover {\n",
              "      background-color: #434B5C;\n",
              "      box-shadow: 0px 1px 3px 1px rgba(0, 0, 0, 0.15);\n",
              "      filter: drop-shadow(0px 1px 2px rgba(0, 0, 0, 0.3));\n",
              "      fill: #FFFFFF;\n",
              "    }\n",
              "  </style>\n",
              "\n",
              "    <script>\n",
              "      const buttonEl =\n",
              "        document.querySelector('#df-6f02c6ca-b43e-4ffe-9f0c-1e41fca51e62 button.colab-df-convert');\n",
              "      buttonEl.style.display =\n",
              "        google.colab.kernel.accessAllowed ? 'block' : 'none';\n",
              "\n",
              "      async function convertToInteractive(key) {\n",
              "        const element = document.querySelector('#df-6f02c6ca-b43e-4ffe-9f0c-1e41fca51e62');\n",
              "        const dataTable =\n",
              "          await google.colab.kernel.invokeFunction('convertToInteractive',\n",
              "                                                    [key], {});\n",
              "        if (!dataTable) return;\n",
              "\n",
              "        const docLinkHtml = 'Like what you see? Visit the ' +\n",
              "          '<a target=\"_blank\" href=https://colab.research.google.com/notebooks/data_table.ipynb>data table notebook</a>'\n",
              "          + ' to learn more about interactive tables.';\n",
              "        element.innerHTML = '';\n",
              "        dataTable['output_type'] = 'display_data';\n",
              "        await google.colab.output.renderOutput(dataTable, element);\n",
              "        const docLink = document.createElement('div');\n",
              "        docLink.innerHTML = docLinkHtml;\n",
              "        element.appendChild(docLink);\n",
              "      }\n",
              "    </script>\n",
              "  </div>\n",
              "\n",
              "\n",
              "<div id=\"df-e1a61f17-3930-4cc4-bd05-72fa0a01bdfa\">\n",
              "  <button class=\"colab-df-quickchart\" onclick=\"quickchart('df-e1a61f17-3930-4cc4-bd05-72fa0a01bdfa')\"\n",
              "            title=\"Suggest charts\"\n",
              "            style=\"display:none;\">\n",
              "\n",
              "<svg xmlns=\"http://www.w3.org/2000/svg\" height=\"24px\"viewBox=\"0 0 24 24\"\n",
              "     width=\"24px\">\n",
              "    <g>\n",
              "        <path d=\"M19 3H5c-1.1 0-2 .9-2 2v14c0 1.1.9 2 2 2h14c1.1 0 2-.9 2-2V5c0-1.1-.9-2-2-2zM9 17H7v-7h2v7zm4 0h-2V7h2v10zm4 0h-2v-4h2v4z\"/>\n",
              "    </g>\n",
              "</svg>\n",
              "  </button>\n",
              "\n",
              "<style>\n",
              "  .colab-df-quickchart {\n",
              "      --bg-color: #E8F0FE;\n",
              "      --fill-color: #1967D2;\n",
              "      --hover-bg-color: #E2EBFA;\n",
              "      --hover-fill-color: #174EA6;\n",
              "      --disabled-fill-color: #AAA;\n",
              "      --disabled-bg-color: #DDD;\n",
              "  }\n",
              "\n",
              "  [theme=dark] .colab-df-quickchart {\n",
              "      --bg-color: #3B4455;\n",
              "      --fill-color: #D2E3FC;\n",
              "      --hover-bg-color: #434B5C;\n",
              "      --hover-fill-color: #FFFFFF;\n",
              "      --disabled-bg-color: #3B4455;\n",
              "      --disabled-fill-color: #666;\n",
              "  }\n",
              "\n",
              "  .colab-df-quickchart {\n",
              "    background-color: var(--bg-color);\n",
              "    border: none;\n",
              "    border-radius: 50%;\n",
              "    cursor: pointer;\n",
              "    display: none;\n",
              "    fill: var(--fill-color);\n",
              "    height: 32px;\n",
              "    padding: 0;\n",
              "    width: 32px;\n",
              "  }\n",
              "\n",
              "  .colab-df-quickchart:hover {\n",
              "    background-color: var(--hover-bg-color);\n",
              "    box-shadow: 0 1px 2px rgba(60, 64, 67, 0.3), 0 1px 3px 1px rgba(60, 64, 67, 0.15);\n",
              "    fill: var(--button-hover-fill-color);\n",
              "  }\n",
              "\n",
              "  .colab-df-quickchart-complete:disabled,\n",
              "  .colab-df-quickchart-complete:disabled:hover {\n",
              "    background-color: var(--disabled-bg-color);\n",
              "    fill: var(--disabled-fill-color);\n",
              "    box-shadow: none;\n",
              "  }\n",
              "\n",
              "  .colab-df-spinner {\n",
              "    border: 2px solid var(--fill-color);\n",
              "    border-color: transparent;\n",
              "    border-bottom-color: var(--fill-color);\n",
              "    animation:\n",
              "      spin 1s steps(1) infinite;\n",
              "  }\n",
              "\n",
              "  @keyframes spin {\n",
              "    0% {\n",
              "      border-color: transparent;\n",
              "      border-bottom-color: var(--fill-color);\n",
              "      border-left-color: var(--fill-color);\n",
              "    }\n",
              "    20% {\n",
              "      border-color: transparent;\n",
              "      border-left-color: var(--fill-color);\n",
              "      border-top-color: var(--fill-color);\n",
              "    }\n",
              "    30% {\n",
              "      border-color: transparent;\n",
              "      border-left-color: var(--fill-color);\n",
              "      border-top-color: var(--fill-color);\n",
              "      border-right-color: var(--fill-color);\n",
              "    }\n",
              "    40% {\n",
              "      border-color: transparent;\n",
              "      border-right-color: var(--fill-color);\n",
              "      border-top-color: var(--fill-color);\n",
              "    }\n",
              "    60% {\n",
              "      border-color: transparent;\n",
              "      border-right-color: var(--fill-color);\n",
              "    }\n",
              "    80% {\n",
              "      border-color: transparent;\n",
              "      border-right-color: var(--fill-color);\n",
              "      border-bottom-color: var(--fill-color);\n",
              "    }\n",
              "    90% {\n",
              "      border-color: transparent;\n",
              "      border-bottom-color: var(--fill-color);\n",
              "    }\n",
              "  }\n",
              "</style>\n",
              "\n",
              "  <script>\n",
              "    async function quickchart(key) {\n",
              "      const quickchartButtonEl =\n",
              "        document.querySelector('#' + key + ' button');\n",
              "      quickchartButtonEl.disabled = true;  // To prevent multiple clicks.\n",
              "      quickchartButtonEl.classList.add('colab-df-spinner');\n",
              "      try {\n",
              "        const charts = await google.colab.kernel.invokeFunction(\n",
              "            'suggestCharts', [key], {});\n",
              "      } catch (error) {\n",
              "        console.error('Error during call to suggestCharts:', error);\n",
              "      }\n",
              "      quickchartButtonEl.classList.remove('colab-df-spinner');\n",
              "      quickchartButtonEl.classList.add('colab-df-quickchart-complete');\n",
              "    }\n",
              "    (() => {\n",
              "      let quickchartButtonEl =\n",
              "        document.querySelector('#df-e1a61f17-3930-4cc4-bd05-72fa0a01bdfa button');\n",
              "      quickchartButtonEl.style.display =\n",
              "        google.colab.kernel.accessAllowed ? 'block' : 'none';\n",
              "    })();\n",
              "  </script>\n",
              "</div>\n",
              "\n",
              "    </div>\n",
              "  </div>\n"
            ],
            "application/vnd.google.colaboratory.intrinsic+json": {
              "type": "dataframe",
              "variable_name": "df",
              "summary": "{\n  \"name\": \"df\",\n  \"rows\": 1599,\n  \"fields\": [\n    {\n      \"column\": \"fixed acidity\",\n      \"properties\": {\n        \"dtype\": \"number\",\n        \"std\": 1.7410963181276953,\n        \"min\": 4.6,\n        \"max\": 15.9,\n        \"num_unique_values\": 96,\n        \"samples\": [\n          5.3,\n          12.7,\n          12.6\n        ],\n        \"semantic_type\": \"\",\n        \"description\": \"\"\n      }\n    },\n    {\n      \"column\": \"volatile acidity\",\n      \"properties\": {\n        \"dtype\": \"number\",\n        \"std\": 0.17905970415353537,\n        \"min\": 0.12,\n        \"max\": 1.58,\n        \"num_unique_values\": 143,\n        \"samples\": [\n          1.025,\n          0.4,\n          0.87\n        ],\n        \"semantic_type\": \"\",\n        \"description\": \"\"\n      }\n    },\n    {\n      \"column\": \"citric acid\",\n      \"properties\": {\n        \"dtype\": \"number\",\n        \"std\": 0.19480113740531857,\n        \"min\": 0.0,\n        \"max\": 1.0,\n        \"num_unique_values\": 80,\n        \"samples\": [\n          0.37,\n          0.0,\n          0.09\n        ],\n        \"semantic_type\": \"\",\n        \"description\": \"\"\n      }\n    },\n    {\n      \"column\": \"residual sugar\",\n      \"properties\": {\n        \"dtype\": \"number\",\n        \"std\": 1.4099280595072798,\n        \"min\": 0.9,\n        \"max\": 15.5,\n        \"num_unique_values\": 91,\n        \"samples\": [\n          11.0,\n          3.0,\n          15.5\n        ],\n        \"semantic_type\": \"\",\n        \"description\": \"\"\n      }\n    },\n    {\n      \"column\": \"chlorides\",\n      \"properties\": {\n        \"dtype\": \"number\",\n        \"std\": 0.047065302010090106,\n        \"min\": 0.012,\n        \"max\": 0.611,\n        \"num_unique_values\": 153,\n        \"samples\": [\n          0.096,\n          0.343,\n          0.159\n        ],\n        \"semantic_type\": \"\",\n        \"description\": \"\"\n      }\n    },\n    {\n      \"column\": \"free sulfur dioxide\",\n      \"properties\": {\n        \"dtype\": \"number\",\n        \"std\": 10.460156969809725,\n        \"min\": 1.0,\n        \"max\": 72.0,\n        \"num_unique_values\": 60,\n        \"samples\": [\n          11.0,\n          9.0,\n          32.0\n        ],\n        \"semantic_type\": \"\",\n        \"description\": \"\"\n      }\n    },\n    {\n      \"column\": \"total sulfur dioxide\",\n      \"properties\": {\n        \"dtype\": \"number\",\n        \"std\": 32.895324478299074,\n        \"min\": 6.0,\n        \"max\": 289.0,\n        \"num_unique_values\": 144,\n        \"samples\": [\n          68.0,\n          35.0,\n          101.0\n        ],\n        \"semantic_type\": \"\",\n        \"description\": \"\"\n      }\n    },\n    {\n      \"column\": \"density\",\n      \"properties\": {\n        \"dtype\": \"number\",\n        \"std\": 0.0018873339538425554,\n        \"min\": 0.99007,\n        \"max\": 1.00369,\n        \"num_unique_values\": 436,\n        \"samples\": [\n          0.99974,\n          1.0001,\n          0.99471\n        ],\n        \"semantic_type\": \"\",\n        \"description\": \"\"\n      }\n    },\n    {\n      \"column\": \"pH\",\n      \"properties\": {\n        \"dtype\": \"number\",\n        \"std\": 0.15438646490354277,\n        \"min\": 2.74,\n        \"max\": 4.01,\n        \"num_unique_values\": 89,\n        \"samples\": [\n          3.07,\n          3.0,\n          3.15\n        ],\n        \"semantic_type\": \"\",\n        \"description\": \"\"\n      }\n    },\n    {\n      \"column\": \"sulphates\",\n      \"properties\": {\n        \"dtype\": \"number\",\n        \"std\": 0.16950697959010996,\n        \"min\": 0.33,\n        \"max\": 2.0,\n        \"num_unique_values\": 96,\n        \"samples\": [\n          1.07,\n          1.04,\n          1.18\n        ],\n        \"semantic_type\": \"\",\n        \"description\": \"\"\n      }\n    },\n    {\n      \"column\": \"alcohol\",\n      \"properties\": {\n        \"dtype\": \"number\",\n        \"std\": 1.0656675818473946,\n        \"min\": 8.4,\n        \"max\": 14.9,\n        \"num_unique_values\": 65,\n        \"samples\": [\n          8.5,\n          9.95,\n          9.4\n        ],\n        \"semantic_type\": \"\",\n        \"description\": \"\"\n      }\n    },\n    {\n      \"column\": \"quality\",\n      \"properties\": {\n        \"dtype\": \"category\",\n        \"num_unique_values\": 2,\n        \"samples\": [\n          \"good\",\n          \"bad\"\n        ],\n        \"semantic_type\": \"\",\n        \"description\": \"\"\n      }\n    }\n  ]\n}"
            }
          },
          "metadata": {},
          "execution_count": 8
        }
      ]
    },
    {
      "cell_type": "code",
      "source": [
        "##checking for null values\n",
        "df.isnull().sum()"
      ],
      "metadata": {
        "colab": {
          "base_uri": "https://localhost:8080/"
        },
        "id": "4uK4mjBCgzA3",
        "outputId": "1694ab34-f545-4e8d-c5d1-831d211c3393"
      },
      "execution_count": 9,
      "outputs": [
        {
          "output_type": "execute_result",
          "data": {
            "text/plain": [
              "fixed acidity           0\n",
              "volatile acidity        0\n",
              "citric acid             0\n",
              "residual sugar          0\n",
              "chlorides               0\n",
              "free sulfur dioxide     0\n",
              "total sulfur dioxide    0\n",
              "density                 0\n",
              "pH                      0\n",
              "sulphates               0\n",
              "alcohol                 0\n",
              "quality                 0\n",
              "dtype: int64"
            ]
          },
          "metadata": {},
          "execution_count": 9
        }
      ]
    },
    {
      "cell_type": "code",
      "source": [
        "df['quality'].unique()"
      ],
      "metadata": {
        "colab": {
          "base_uri": "https://localhost:8080/"
        },
        "id": "p_Q0-Y8Zg2bs",
        "outputId": "d2b963f6-f4b5-4c58-b690-1e3ef17c64b2"
      },
      "execution_count": 10,
      "outputs": [
        {
          "output_type": "execute_result",
          "data": {
            "text/plain": [
              "array(['bad', 'good'], dtype=object)"
            ]
          },
          "metadata": {},
          "execution_count": 10
        }
      ]
    },
    {
      "cell_type": "code",
      "source": [
        "df['wine_quality'] = df['quality'].map({'bad': 0, 'good': 1})\n",
        "df = df.drop(columns=['quality'])"
      ],
      "metadata": {
        "id": "gkqsOGJpg6o1"
      },
      "execution_count": 11,
      "outputs": []
    },
    {
      "cell_type": "code",
      "source": [
        "## Independent and dependent features\n",
        "X=df.iloc[:,:-1]\n",
        "y=df.iloc[:,-1]"
      ],
      "metadata": {
        "id": "b883lTsAg9ht"
      },
      "execution_count": 12,
      "outputs": []
    },
    {
      "cell_type": "code",
      "source": [
        "from sklearn.model_selection import train_test_split\n",
        "X_train, X_test, y_train, y_test = train_test_split(X, y, test_size=0.20, random_state=42)"
      ],
      "metadata": {
        "id": "mNYfOo-0g-yt"
      },
      "execution_count": 13,
      "outputs": []
    },
    {
      "cell_type": "code",
      "source": [
        "from sklearn.preprocessing import StandardScaler\n",
        "scaler = StandardScaler()"
      ],
      "metadata": {
        "id": "xcSgFJLkhAok"
      },
      "execution_count": 14,
      "outputs": []
    },
    {
      "cell_type": "code",
      "source": [
        "scaled_X_train = scaler.fit_transform(X_train)\n",
        "scaled_X_test = scaler.transform(X_test)"
      ],
      "metadata": {
        "id": "vLEOJ2E-hBpR"
      },
      "execution_count": 15,
      "outputs": []
    },
    {
      "cell_type": "code",
      "source": [
        "import tensorflow as tf\n",
        "from tensorflow.keras.models import Sequential\n",
        "from tensorflow.keras.layers import Dense\n",
        "model = Sequential([\n",
        "    Dense(128, input_shape=(scaled_X_train.shape[1],), activation='relu'),\n",
        "    Dense(64, activation = 'relu'),\n",
        "    Dense(32, activation = 'relu'),\n",
        "    Dense(1, activation = 'sigmoid'),\n",
        "])"
      ],
      "metadata": {
        "id": "ORejRD3GhOWi"
      },
      "execution_count": 25,
      "outputs": []
    },
    {
      "cell_type": "code",
      "source": [
        "model.layers"
      ],
      "metadata": {
        "colab": {
          "base_uri": "https://localhost:8080/"
        },
        "id": "Sd1OGCn7hTmk",
        "outputId": "741d8348-01ab-4b65-afe0-8f67fa72fe05"
      },
      "execution_count": 26,
      "outputs": [
        {
          "output_type": "execute_result",
          "data": {
            "text/plain": [
              "[<keras.src.layers.core.dense.Dense at 0x7e0a5c50ee90>,\n",
              " <keras.src.layers.core.dense.Dense at 0x7e0a5cdf0eb0>,\n",
              " <keras.src.layers.core.dense.Dense at 0x7e0a64097250>,\n",
              " <keras.src.layers.core.dense.Dense at 0x7e0a5cdbb520>]"
            ]
          },
          "metadata": {},
          "execution_count": 26
        }
      ]
    },
    {
      "cell_type": "code",
      "source": [
        "model.compile(optimizer='sgd', loss='binary_crossentropy', metrics=['accuracy'])\n",
        "model.summary()"
      ],
      "metadata": {
        "colab": {
          "base_uri": "https://localhost:8080/"
        },
        "id": "dVOeeAashuOu",
        "outputId": "b31586d2-6a1a-458d-cbc5-9259ff80fc6c"
      },
      "execution_count": 27,
      "outputs": [
        {
          "output_type": "stream",
          "name": "stdout",
          "text": [
            "Model: \"sequential_1\"\n",
            "_________________________________________________________________\n",
            " Layer (type)                Output Shape              Param #   \n",
            "=================================================================\n",
            " dense (Dense)               (None, 128)               1536      \n",
            "                                                                 \n",
            " dense_1 (Dense)             (None, 64)                8256      \n",
            "                                                                 \n",
            " dense_2 (Dense)             (None, 32)                2080      \n",
            "                                                                 \n",
            " dense_3 (Dense)             (None, 1)                 33        \n",
            "                                                                 \n",
            "=================================================================\n",
            "Total params: 11905 (46.50 KB)\n",
            "Trainable params: 11905 (46.50 KB)\n",
            "Non-trainable params: 0 (0.00 Byte)\n",
            "_________________________________________________________________\n"
          ]
        }
      ]
    },
    {
      "cell_type": "code",
      "source": [
        "log_folder = \"logs\"\n",
        "%load_ext tensorboard\n",
        "!rm -rf logs\n",
        "tb_cb = tf.keras.callbacks.TensorBoard(log_dir = log_folder, histogram_freq =1)"
      ],
      "metadata": {
        "id": "lyeHx3bns6zH"
      },
      "execution_count": 31,
      "outputs": []
    },
    {
      "cell_type": "code",
      "source": [
        "early_stopping_cb = tf.keras.callbacks.EarlyStopping(patience=5, restore_best_weights=True)"
      ],
      "metadata": {
        "id": "H6Pq8x4zs62e"
      },
      "execution_count": 32,
      "outputs": []
    },
    {
      "cell_type": "code",
      "source": [
        "CKPT_path = \"Model_ckpt.h5\"\n",
        "checkpointing_cb = tf.keras.callbacks.ModelCheckpoint(CKPT_path, save_best_only=True)"
      ],
      "metadata": {
        "id": "lYkE89lptb0J"
      },
      "execution_count": 34,
      "outputs": []
    },
    {
      "cell_type": "code",
      "source": [
        "EPOCHS = 30\n",
        "VALIDATION_SET = (scaled_X_test, y_test)\n",
        "\n",
        "history = model.fit(scaled_X_train, y_train, epochs=100,\n",
        "                    validation_data=VALIDATION_SET, batch_size=32, callbacks=[tb_cb, early_stopping_cb,checkpointing_cb] )"
      ],
      "metadata": {
        "colab": {
          "base_uri": "https://localhost:8080/"
        },
        "id": "8iQwmD35tb23",
        "outputId": "f368aefe-bf54-4e52-93f8-241ba94bf354"
      },
      "execution_count": 36,
      "outputs": [
        {
          "output_type": "stream",
          "name": "stdout",
          "text": [
            "Epoch 1/100\n",
            "40/40 [==============================] - 1s 18ms/step - loss: 0.4672 - accuracy: 0.7740 - val_loss: 0.4894 - val_accuracy: 0.7531\n",
            "Epoch 2/100\n",
            "40/40 [==============================] - 0s 8ms/step - loss: 0.4661 - accuracy: 0.7725 - val_loss: 0.4887 - val_accuracy: 0.7594\n",
            "Epoch 3/100\n",
            "40/40 [==============================] - 0s 9ms/step - loss: 0.4649 - accuracy: 0.7717 - val_loss: 0.4885 - val_accuracy: 0.7531\n",
            "Epoch 4/100\n",
            "40/40 [==============================] - 0s 9ms/step - loss: 0.4644 - accuracy: 0.7748 - val_loss: 0.4880 - val_accuracy: 0.7531\n",
            "Epoch 5/100\n",
            "40/40 [==============================] - 0s 8ms/step - loss: 0.4634 - accuracy: 0.7748 - val_loss: 0.4874 - val_accuracy: 0.7531\n",
            "Epoch 6/100\n",
            "40/40 [==============================] - 0s 8ms/step - loss: 0.4624 - accuracy: 0.7772 - val_loss: 0.4860 - val_accuracy: 0.7531\n",
            "Epoch 7/100\n",
            "40/40 [==============================] - 0s 11ms/step - loss: 0.4614 - accuracy: 0.7780 - val_loss: 0.4858 - val_accuracy: 0.7531\n",
            "Epoch 8/100\n",
            "40/40 [==============================] - 0s 7ms/step - loss: 0.4606 - accuracy: 0.7787 - val_loss: 0.4857 - val_accuracy: 0.7594\n",
            "Epoch 9/100\n",
            "40/40 [==============================] - 0s 5ms/step - loss: 0.4600 - accuracy: 0.7780 - val_loss: 0.4849 - val_accuracy: 0.7531\n",
            "Epoch 10/100\n",
            "40/40 [==============================] - 0s 5ms/step - loss: 0.4589 - accuracy: 0.7819 - val_loss: 0.4844 - val_accuracy: 0.7500\n",
            "Epoch 11/100\n",
            "40/40 [==============================] - 0s 4ms/step - loss: 0.4583 - accuracy: 0.7811 - val_loss: 0.4837 - val_accuracy: 0.7500\n",
            "Epoch 12/100\n",
            "40/40 [==============================] - 0s 5ms/step - loss: 0.4578 - accuracy: 0.7764 - val_loss: 0.4835 - val_accuracy: 0.7500\n",
            "Epoch 13/100\n",
            "40/40 [==============================] - 0s 4ms/step - loss: 0.4556 - accuracy: 0.7795 - val_loss: 0.4848 - val_accuracy: 0.7563\n",
            "Epoch 14/100\n",
            "40/40 [==============================] - 0s 4ms/step - loss: 0.4562 - accuracy: 0.7780 - val_loss: 0.4832 - val_accuracy: 0.7500\n",
            "Epoch 15/100\n",
            "40/40 [==============================] - 0s 4ms/step - loss: 0.4547 - accuracy: 0.7834 - val_loss: 0.4821 - val_accuracy: 0.7500\n",
            "Epoch 16/100\n",
            "40/40 [==============================] - 0s 4ms/step - loss: 0.4532 - accuracy: 0.7834 - val_loss: 0.4819 - val_accuracy: 0.7531\n",
            "Epoch 17/100\n",
            "40/40 [==============================] - 0s 4ms/step - loss: 0.4530 - accuracy: 0.7795 - val_loss: 0.4815 - val_accuracy: 0.7500\n",
            "Epoch 18/100\n",
            "40/40 [==============================] - 0s 4ms/step - loss: 0.4522 - accuracy: 0.7842 - val_loss: 0.4807 - val_accuracy: 0.7469\n",
            "Epoch 19/100\n",
            "40/40 [==============================] - 0s 4ms/step - loss: 0.4508 - accuracy: 0.7826 - val_loss: 0.4800 - val_accuracy: 0.7594\n",
            "Epoch 20/100\n",
            "40/40 [==============================] - 0s 4ms/step - loss: 0.4500 - accuracy: 0.7842 - val_loss: 0.4804 - val_accuracy: 0.7531\n",
            "Epoch 21/100\n",
            "40/40 [==============================] - 0s 4ms/step - loss: 0.4500 - accuracy: 0.7858 - val_loss: 0.4798 - val_accuracy: 0.7500\n",
            "Epoch 22/100\n",
            "40/40 [==============================] - 0s 3ms/step - loss: 0.4487 - accuracy: 0.7780 - val_loss: 0.4802 - val_accuracy: 0.7594\n",
            "Epoch 23/100\n",
            "40/40 [==============================] - 0s 4ms/step - loss: 0.4480 - accuracy: 0.7858 - val_loss: 0.4782 - val_accuracy: 0.7563\n",
            "Epoch 24/100\n",
            "40/40 [==============================] - 0s 4ms/step - loss: 0.4475 - accuracy: 0.7866 - val_loss: 0.4774 - val_accuracy: 0.7531\n",
            "Epoch 25/100\n",
            "40/40 [==============================] - 0s 3ms/step - loss: 0.4465 - accuracy: 0.7873 - val_loss: 0.4776 - val_accuracy: 0.7531\n",
            "Epoch 26/100\n",
            "40/40 [==============================] - 0s 4ms/step - loss: 0.4452 - accuracy: 0.7866 - val_loss: 0.4792 - val_accuracy: 0.7594\n",
            "Epoch 27/100\n",
            "40/40 [==============================] - 0s 4ms/step - loss: 0.4456 - accuracy: 0.7858 - val_loss: 0.4768 - val_accuracy: 0.7531\n",
            "Epoch 28/100\n",
            "40/40 [==============================] - 0s 4ms/step - loss: 0.4436 - accuracy: 0.7897 - val_loss: 0.4779 - val_accuracy: 0.7563\n",
            "Epoch 29/100\n",
            "40/40 [==============================] - 0s 5ms/step - loss: 0.4434 - accuracy: 0.7834 - val_loss: 0.4765 - val_accuracy: 0.7531\n",
            "Epoch 30/100\n",
            "40/40 [==============================] - 0s 5ms/step - loss: 0.4431 - accuracy: 0.7850 - val_loss: 0.4758 - val_accuracy: 0.7594\n",
            "Epoch 31/100\n",
            "40/40 [==============================] - 0s 4ms/step - loss: 0.4420 - accuracy: 0.7897 - val_loss: 0.4754 - val_accuracy: 0.7625\n",
            "Epoch 32/100\n",
            "40/40 [==============================] - 0s 4ms/step - loss: 0.4407 - accuracy: 0.7873 - val_loss: 0.4756 - val_accuracy: 0.7656\n",
            "Epoch 33/100\n",
            "40/40 [==============================] - 0s 4ms/step - loss: 0.4409 - accuracy: 0.7866 - val_loss: 0.4749 - val_accuracy: 0.7656\n",
            "Epoch 34/100\n",
            "40/40 [==============================] - 0s 4ms/step - loss: 0.4400 - accuracy: 0.7952 - val_loss: 0.4744 - val_accuracy: 0.7563\n",
            "Epoch 35/100\n",
            "40/40 [==============================] - 0s 4ms/step - loss: 0.4386 - accuracy: 0.7912 - val_loss: 0.4744 - val_accuracy: 0.7563\n",
            "Epoch 36/100\n",
            "40/40 [==============================] - 0s 5ms/step - loss: 0.4377 - accuracy: 0.7920 - val_loss: 0.4736 - val_accuracy: 0.7625\n",
            "Epoch 37/100\n",
            "40/40 [==============================] - 0s 4ms/step - loss: 0.4370 - accuracy: 0.7936 - val_loss: 0.4729 - val_accuracy: 0.7656\n",
            "Epoch 38/100\n",
            "40/40 [==============================] - 0s 4ms/step - loss: 0.4361 - accuracy: 0.7905 - val_loss: 0.4741 - val_accuracy: 0.7625\n",
            "Epoch 39/100\n",
            "40/40 [==============================] - 0s 3ms/step - loss: 0.4356 - accuracy: 0.7912 - val_loss: 0.4736 - val_accuracy: 0.7656\n",
            "Epoch 40/100\n",
            "40/40 [==============================] - 0s 3ms/step - loss: 0.4344 - accuracy: 0.7912 - val_loss: 0.4732 - val_accuracy: 0.7625\n",
            "Epoch 41/100\n",
            "40/40 [==============================] - 0s 4ms/step - loss: 0.4333 - accuracy: 0.7952 - val_loss: 0.4722 - val_accuracy: 0.7625\n",
            "Epoch 42/100\n",
            "40/40 [==============================] - 0s 4ms/step - loss: 0.4327 - accuracy: 0.7889 - val_loss: 0.4720 - val_accuracy: 0.7656\n",
            "Epoch 43/100\n",
            "40/40 [==============================] - 0s 4ms/step - loss: 0.4318 - accuracy: 0.7975 - val_loss: 0.4714 - val_accuracy: 0.7688\n",
            "Epoch 44/100\n",
            "40/40 [==============================] - 0s 4ms/step - loss: 0.4316 - accuracy: 0.7936 - val_loss: 0.4706 - val_accuracy: 0.7719\n",
            "Epoch 45/100\n",
            "40/40 [==============================] - 0s 3ms/step - loss: 0.4301 - accuracy: 0.7983 - val_loss: 0.4715 - val_accuracy: 0.7625\n",
            "Epoch 46/100\n",
            "40/40 [==============================] - 0s 4ms/step - loss: 0.4297 - accuracy: 0.7952 - val_loss: 0.4703 - val_accuracy: 0.7656\n",
            "Epoch 47/100\n",
            "40/40 [==============================] - 0s 3ms/step - loss: 0.4292 - accuracy: 0.7998 - val_loss: 0.4710 - val_accuracy: 0.7594\n",
            "Epoch 48/100\n",
            "40/40 [==============================] - 0s 3ms/step - loss: 0.4286 - accuracy: 0.7959 - val_loss: 0.4703 - val_accuracy: 0.7688\n",
            "Epoch 49/100\n",
            "40/40 [==============================] - 0s 4ms/step - loss: 0.4272 - accuracy: 0.7967 - val_loss: 0.4708 - val_accuracy: 0.7594\n",
            "Epoch 50/100\n",
            "40/40 [==============================] - 0s 4ms/step - loss: 0.4269 - accuracy: 0.7983 - val_loss: 0.4700 - val_accuracy: 0.7625\n",
            "Epoch 51/100\n",
            "40/40 [==============================] - 0s 3ms/step - loss: 0.4261 - accuracy: 0.7991 - val_loss: 0.4699 - val_accuracy: 0.7719\n",
            "Epoch 52/100\n",
            "40/40 [==============================] - 0s 3ms/step - loss: 0.4251 - accuracy: 0.7983 - val_loss: 0.4688 - val_accuracy: 0.7750\n",
            "Epoch 53/100\n",
            "40/40 [==============================] - 0s 4ms/step - loss: 0.4241 - accuracy: 0.7959 - val_loss: 0.4686 - val_accuracy: 0.7719\n",
            "Epoch 54/100\n",
            "40/40 [==============================] - 0s 4ms/step - loss: 0.4234 - accuracy: 0.8006 - val_loss: 0.4683 - val_accuracy: 0.7719\n",
            "Epoch 55/100\n",
            "40/40 [==============================] - 0s 7ms/step - loss: 0.4217 - accuracy: 0.8014 - val_loss: 0.4684 - val_accuracy: 0.7719\n",
            "Epoch 56/100\n",
            "40/40 [==============================] - 0s 5ms/step - loss: 0.4207 - accuracy: 0.7991 - val_loss: 0.4676 - val_accuracy: 0.7750\n",
            "Epoch 57/100\n",
            "40/40 [==============================] - 0s 4ms/step - loss: 0.4198 - accuracy: 0.7975 - val_loss: 0.4689 - val_accuracy: 0.7688\n",
            "Epoch 58/100\n",
            "40/40 [==============================] - 0s 4ms/step - loss: 0.4191 - accuracy: 0.8014 - val_loss: 0.4678 - val_accuracy: 0.7656\n",
            "Epoch 59/100\n",
            "40/40 [==============================] - 0s 5ms/step - loss: 0.4190 - accuracy: 0.8038 - val_loss: 0.4666 - val_accuracy: 0.7781\n",
            "Epoch 60/100\n",
            "40/40 [==============================] - 0s 5ms/step - loss: 0.4180 - accuracy: 0.8038 - val_loss: 0.4660 - val_accuracy: 0.7781\n",
            "Epoch 61/100\n",
            "40/40 [==============================] - 0s 6ms/step - loss: 0.4168 - accuracy: 0.8022 - val_loss: 0.4663 - val_accuracy: 0.7719\n",
            "Epoch 62/100\n",
            "40/40 [==============================] - 0s 6ms/step - loss: 0.4151 - accuracy: 0.8038 - val_loss: 0.4659 - val_accuracy: 0.7812\n",
            "Epoch 63/100\n",
            "40/40 [==============================] - 0s 6ms/step - loss: 0.4156 - accuracy: 0.8053 - val_loss: 0.4653 - val_accuracy: 0.7781\n",
            "Epoch 64/100\n",
            "40/40 [==============================] - 0s 6ms/step - loss: 0.4142 - accuracy: 0.8077 - val_loss: 0.4651 - val_accuracy: 0.7781\n",
            "Epoch 65/100\n",
            "40/40 [==============================] - 0s 6ms/step - loss: 0.4124 - accuracy: 0.8069 - val_loss: 0.4671 - val_accuracy: 0.7656\n",
            "Epoch 66/100\n",
            "40/40 [==============================] - 0s 4ms/step - loss: 0.4118 - accuracy: 0.8030 - val_loss: 0.4648 - val_accuracy: 0.7781\n",
            "Epoch 67/100\n",
            "40/40 [==============================] - 0s 3ms/step - loss: 0.4114 - accuracy: 0.8045 - val_loss: 0.4639 - val_accuracy: 0.7781\n",
            "Epoch 68/100\n",
            "40/40 [==============================] - 0s 3ms/step - loss: 0.4103 - accuracy: 0.8061 - val_loss: 0.4639 - val_accuracy: 0.7812\n",
            "Epoch 69/100\n",
            "40/40 [==============================] - 0s 3ms/step - loss: 0.4085 - accuracy: 0.8139 - val_loss: 0.4662 - val_accuracy: 0.7656\n",
            "Epoch 70/100\n",
            "40/40 [==============================] - 0s 3ms/step - loss: 0.4092 - accuracy: 0.8053 - val_loss: 0.4645 - val_accuracy: 0.7781\n",
            "Epoch 71/100\n",
            "40/40 [==============================] - 0s 5ms/step - loss: 0.4080 - accuracy: 0.8124 - val_loss: 0.4649 - val_accuracy: 0.7750\n",
            "Epoch 72/100\n",
            "40/40 [==============================] - 0s 4ms/step - loss: 0.4077 - accuracy: 0.8077 - val_loss: 0.4643 - val_accuracy: 0.7781\n"
          ]
        }
      ]
    },
    {
      "cell_type": "code",
      "source": [
        "import time\n",
        "import os\n",
        "\n",
        "def save_model_path(MODEL_dir = \"TRAINED_MODEL\"):\n",
        "  os.makedirs(MODEL_dir, exist_ok= True)\n",
        "  fileName = time.strftime(\"Model_%Y_%m_%d_%H_%M_%S_.h5\")\n",
        "  model_path = os.path.join(MODEL_dir, fileName)\n",
        "  print(f\"Model {fileName} will be saved at {model_path}\")\n",
        "  return model_path"
      ],
      "metadata": {
        "id": "PpRGT_BNtb5U"
      },
      "execution_count": 39,
      "outputs": []
    },
    {
      "cell_type": "code",
      "source": [
        "UNIQUE_PATH = save_model_path()\n",
        "UNIQUE_PATH"
      ],
      "metadata": {
        "colab": {
          "base_uri": "https://localhost:8080/",
          "height": 53
        },
        "id": "xrEcw8a7tb70",
        "outputId": "10a24612-063e-43ec-d55a-4f7b1b29847b"
      },
      "execution_count": 40,
      "outputs": [
        {
          "output_type": "stream",
          "name": "stdout",
          "text": [
            "Model Model_2024_07_08_10_16_39_.h5 will be saved at TRAINED_MODEL/Model_2024_07_08_10_16_39_.h5\n"
          ]
        },
        {
          "output_type": "execute_result",
          "data": {
            "text/plain": [
              "'TRAINED_MODEL/Model_2024_07_08_10_16_39_.h5'"
            ],
            "application/vnd.google.colaboratory.intrinsic+json": {
              "type": "string"
            }
          },
          "metadata": {},
          "execution_count": 40
        }
      ]
    },
    {
      "cell_type": "code",
      "source": [
        "tf.keras.models.save_model(model_clf, UNIQUE_PATH)"
      ],
      "metadata": {
        "colab": {
          "base_uri": "https://localhost:8080/"
        },
        "id": "Md2OAFdutb-J",
        "outputId": "cd15bbe3-00e4-4ac5-ccfc-a26d37e367c1"
      },
      "execution_count": 41,
      "outputs": [
        {
          "output_type": "stream",
          "name": "stderr",
          "text": [
            "<ipython-input-41-87cef6f4b7ac>:1: UserWarning: You are saving your model as an HDF5 file via `model.save()`. This file format is considered legacy. We recommend using instead the native Keras format, e.g. `model.save('my_model.keras')`.\n",
            "  tf.keras.models.save_model(model_clf, UNIQUE_PATH)\n"
          ]
        }
      ]
    },
    {
      "cell_type": "code",
      "source": [
        "history.params"
      ],
      "metadata": {
        "colab": {
          "base_uri": "https://localhost:8080/"
        },
        "id": "QeqOM1cFtcBx",
        "outputId": "fc9e42b8-e6cf-439d-e53a-80044de4fe1a"
      },
      "execution_count": 43,
      "outputs": [
        {
          "output_type": "execute_result",
          "data": {
            "text/plain": [
              "{'verbose': 1, 'epochs': 100, 'steps': 40}"
            ]
          },
          "metadata": {},
          "execution_count": 43
        }
      ]
    },
    {
      "cell_type": "code",
      "source": [
        "pd.DataFrame(history.history)"
      ],
      "metadata": {
        "colab": {
          "base_uri": "https://localhost:8080/",
          "height": 423
        },
        "id": "FYUrmc3_2Mjc",
        "outputId": "7a2835d9-e77d-40bd-8dae-5edfbf08939c"
      },
      "execution_count": 45,
      "outputs": [
        {
          "output_type": "execute_result",
          "data": {
            "text/plain": [
              "        loss  accuracy  val_loss  val_accuracy\n",
              "0   0.467236  0.774042  0.489410      0.753125\n",
              "1   0.466052  0.772479  0.488694      0.759375\n",
              "2   0.464947  0.771697  0.488512      0.753125\n",
              "3   0.464398  0.774824  0.488011      0.753125\n",
              "4   0.463429  0.774824  0.487374      0.753125\n",
              "..       ...       ...       ...           ...\n",
              "67  0.410322  0.806099  0.463862      0.781250\n",
              "68  0.408465  0.813917  0.466158      0.765625\n",
              "69  0.409246  0.805317  0.464483      0.778125\n",
              "70  0.408042  0.812353  0.464940      0.775000\n",
              "71  0.407672  0.807662  0.464322      0.778125\n",
              "\n",
              "[72 rows x 4 columns]"
            ],
            "text/html": [
              "\n",
              "  <div id=\"df-cffd0334-f96d-483c-9492-34b562aff2ac\" class=\"colab-df-container\">\n",
              "    <div>\n",
              "<style scoped>\n",
              "    .dataframe tbody tr th:only-of-type {\n",
              "        vertical-align: middle;\n",
              "    }\n",
              "\n",
              "    .dataframe tbody tr th {\n",
              "        vertical-align: top;\n",
              "    }\n",
              "\n",
              "    .dataframe thead th {\n",
              "        text-align: right;\n",
              "    }\n",
              "</style>\n",
              "<table border=\"1\" class=\"dataframe\">\n",
              "  <thead>\n",
              "    <tr style=\"text-align: right;\">\n",
              "      <th></th>\n",
              "      <th>loss</th>\n",
              "      <th>accuracy</th>\n",
              "      <th>val_loss</th>\n",
              "      <th>val_accuracy</th>\n",
              "    </tr>\n",
              "  </thead>\n",
              "  <tbody>\n",
              "    <tr>\n",
              "      <th>0</th>\n",
              "      <td>0.467236</td>\n",
              "      <td>0.774042</td>\n",
              "      <td>0.489410</td>\n",
              "      <td>0.753125</td>\n",
              "    </tr>\n",
              "    <tr>\n",
              "      <th>1</th>\n",
              "      <td>0.466052</td>\n",
              "      <td>0.772479</td>\n",
              "      <td>0.488694</td>\n",
              "      <td>0.759375</td>\n",
              "    </tr>\n",
              "    <tr>\n",
              "      <th>2</th>\n",
              "      <td>0.464947</td>\n",
              "      <td>0.771697</td>\n",
              "      <td>0.488512</td>\n",
              "      <td>0.753125</td>\n",
              "    </tr>\n",
              "    <tr>\n",
              "      <th>3</th>\n",
              "      <td>0.464398</td>\n",
              "      <td>0.774824</td>\n",
              "      <td>0.488011</td>\n",
              "      <td>0.753125</td>\n",
              "    </tr>\n",
              "    <tr>\n",
              "      <th>4</th>\n",
              "      <td>0.463429</td>\n",
              "      <td>0.774824</td>\n",
              "      <td>0.487374</td>\n",
              "      <td>0.753125</td>\n",
              "    </tr>\n",
              "    <tr>\n",
              "      <th>...</th>\n",
              "      <td>...</td>\n",
              "      <td>...</td>\n",
              "      <td>...</td>\n",
              "      <td>...</td>\n",
              "    </tr>\n",
              "    <tr>\n",
              "      <th>67</th>\n",
              "      <td>0.410322</td>\n",
              "      <td>0.806099</td>\n",
              "      <td>0.463862</td>\n",
              "      <td>0.781250</td>\n",
              "    </tr>\n",
              "    <tr>\n",
              "      <th>68</th>\n",
              "      <td>0.408465</td>\n",
              "      <td>0.813917</td>\n",
              "      <td>0.466158</td>\n",
              "      <td>0.765625</td>\n",
              "    </tr>\n",
              "    <tr>\n",
              "      <th>69</th>\n",
              "      <td>0.409246</td>\n",
              "      <td>0.805317</td>\n",
              "      <td>0.464483</td>\n",
              "      <td>0.778125</td>\n",
              "    </tr>\n",
              "    <tr>\n",
              "      <th>70</th>\n",
              "      <td>0.408042</td>\n",
              "      <td>0.812353</td>\n",
              "      <td>0.464940</td>\n",
              "      <td>0.775000</td>\n",
              "    </tr>\n",
              "    <tr>\n",
              "      <th>71</th>\n",
              "      <td>0.407672</td>\n",
              "      <td>0.807662</td>\n",
              "      <td>0.464322</td>\n",
              "      <td>0.778125</td>\n",
              "    </tr>\n",
              "  </tbody>\n",
              "</table>\n",
              "<p>72 rows × 4 columns</p>\n",
              "</div>\n",
              "    <div class=\"colab-df-buttons\">\n",
              "\n",
              "  <div class=\"colab-df-container\">\n",
              "    <button class=\"colab-df-convert\" onclick=\"convertToInteractive('df-cffd0334-f96d-483c-9492-34b562aff2ac')\"\n",
              "            title=\"Convert this dataframe to an interactive table.\"\n",
              "            style=\"display:none;\">\n",
              "\n",
              "  <svg xmlns=\"http://www.w3.org/2000/svg\" height=\"24px\" viewBox=\"0 -960 960 960\">\n",
              "    <path d=\"M120-120v-720h720v720H120Zm60-500h600v-160H180v160Zm220 220h160v-160H400v160Zm0 220h160v-160H400v160ZM180-400h160v-160H180v160Zm440 0h160v-160H620v160ZM180-180h160v-160H180v160Zm440 0h160v-160H620v160Z\"/>\n",
              "  </svg>\n",
              "    </button>\n",
              "\n",
              "  <style>\n",
              "    .colab-df-container {\n",
              "      display:flex;\n",
              "      gap: 12px;\n",
              "    }\n",
              "\n",
              "    .colab-df-convert {\n",
              "      background-color: #E8F0FE;\n",
              "      border: none;\n",
              "      border-radius: 50%;\n",
              "      cursor: pointer;\n",
              "      display: none;\n",
              "      fill: #1967D2;\n",
              "      height: 32px;\n",
              "      padding: 0 0 0 0;\n",
              "      width: 32px;\n",
              "    }\n",
              "\n",
              "    .colab-df-convert:hover {\n",
              "      background-color: #E2EBFA;\n",
              "      box-shadow: 0px 1px 2px rgba(60, 64, 67, 0.3), 0px 1px 3px 1px rgba(60, 64, 67, 0.15);\n",
              "      fill: #174EA6;\n",
              "    }\n",
              "\n",
              "    .colab-df-buttons div {\n",
              "      margin-bottom: 4px;\n",
              "    }\n",
              "\n",
              "    [theme=dark] .colab-df-convert {\n",
              "      background-color: #3B4455;\n",
              "      fill: #D2E3FC;\n",
              "    }\n",
              "\n",
              "    [theme=dark] .colab-df-convert:hover {\n",
              "      background-color: #434B5C;\n",
              "      box-shadow: 0px 1px 3px 1px rgba(0, 0, 0, 0.15);\n",
              "      filter: drop-shadow(0px 1px 2px rgba(0, 0, 0, 0.3));\n",
              "      fill: #FFFFFF;\n",
              "    }\n",
              "  </style>\n",
              "\n",
              "    <script>\n",
              "      const buttonEl =\n",
              "        document.querySelector('#df-cffd0334-f96d-483c-9492-34b562aff2ac button.colab-df-convert');\n",
              "      buttonEl.style.display =\n",
              "        google.colab.kernel.accessAllowed ? 'block' : 'none';\n",
              "\n",
              "      async function convertToInteractive(key) {\n",
              "        const element = document.querySelector('#df-cffd0334-f96d-483c-9492-34b562aff2ac');\n",
              "        const dataTable =\n",
              "          await google.colab.kernel.invokeFunction('convertToInteractive',\n",
              "                                                    [key], {});\n",
              "        if (!dataTable) return;\n",
              "\n",
              "        const docLinkHtml = 'Like what you see? Visit the ' +\n",
              "          '<a target=\"_blank\" href=https://colab.research.google.com/notebooks/data_table.ipynb>data table notebook</a>'\n",
              "          + ' to learn more about interactive tables.';\n",
              "        element.innerHTML = '';\n",
              "        dataTable['output_type'] = 'display_data';\n",
              "        await google.colab.output.renderOutput(dataTable, element);\n",
              "        const docLink = document.createElement('div');\n",
              "        docLink.innerHTML = docLinkHtml;\n",
              "        element.appendChild(docLink);\n",
              "      }\n",
              "    </script>\n",
              "  </div>\n",
              "\n",
              "\n",
              "<div id=\"df-28a041b7-8d4d-4523-a06e-a524eabd3f83\">\n",
              "  <button class=\"colab-df-quickchart\" onclick=\"quickchart('df-28a041b7-8d4d-4523-a06e-a524eabd3f83')\"\n",
              "            title=\"Suggest charts\"\n",
              "            style=\"display:none;\">\n",
              "\n",
              "<svg xmlns=\"http://www.w3.org/2000/svg\" height=\"24px\"viewBox=\"0 0 24 24\"\n",
              "     width=\"24px\">\n",
              "    <g>\n",
              "        <path d=\"M19 3H5c-1.1 0-2 .9-2 2v14c0 1.1.9 2 2 2h14c1.1 0 2-.9 2-2V5c0-1.1-.9-2-2-2zM9 17H7v-7h2v7zm4 0h-2V7h2v10zm4 0h-2v-4h2v4z\"/>\n",
              "    </g>\n",
              "</svg>\n",
              "  </button>\n",
              "\n",
              "<style>\n",
              "  .colab-df-quickchart {\n",
              "      --bg-color: #E8F0FE;\n",
              "      --fill-color: #1967D2;\n",
              "      --hover-bg-color: #E2EBFA;\n",
              "      --hover-fill-color: #174EA6;\n",
              "      --disabled-fill-color: #AAA;\n",
              "      --disabled-bg-color: #DDD;\n",
              "  }\n",
              "\n",
              "  [theme=dark] .colab-df-quickchart {\n",
              "      --bg-color: #3B4455;\n",
              "      --fill-color: #D2E3FC;\n",
              "      --hover-bg-color: #434B5C;\n",
              "      --hover-fill-color: #FFFFFF;\n",
              "      --disabled-bg-color: #3B4455;\n",
              "      --disabled-fill-color: #666;\n",
              "  }\n",
              "\n",
              "  .colab-df-quickchart {\n",
              "    background-color: var(--bg-color);\n",
              "    border: none;\n",
              "    border-radius: 50%;\n",
              "    cursor: pointer;\n",
              "    display: none;\n",
              "    fill: var(--fill-color);\n",
              "    height: 32px;\n",
              "    padding: 0;\n",
              "    width: 32px;\n",
              "  }\n",
              "\n",
              "  .colab-df-quickchart:hover {\n",
              "    background-color: var(--hover-bg-color);\n",
              "    box-shadow: 0 1px 2px rgba(60, 64, 67, 0.3), 0 1px 3px 1px rgba(60, 64, 67, 0.15);\n",
              "    fill: var(--button-hover-fill-color);\n",
              "  }\n",
              "\n",
              "  .colab-df-quickchart-complete:disabled,\n",
              "  .colab-df-quickchart-complete:disabled:hover {\n",
              "    background-color: var(--disabled-bg-color);\n",
              "    fill: var(--disabled-fill-color);\n",
              "    box-shadow: none;\n",
              "  }\n",
              "\n",
              "  .colab-df-spinner {\n",
              "    border: 2px solid var(--fill-color);\n",
              "    border-color: transparent;\n",
              "    border-bottom-color: var(--fill-color);\n",
              "    animation:\n",
              "      spin 1s steps(1) infinite;\n",
              "  }\n",
              "\n",
              "  @keyframes spin {\n",
              "    0% {\n",
              "      border-color: transparent;\n",
              "      border-bottom-color: var(--fill-color);\n",
              "      border-left-color: var(--fill-color);\n",
              "    }\n",
              "    20% {\n",
              "      border-color: transparent;\n",
              "      border-left-color: var(--fill-color);\n",
              "      border-top-color: var(--fill-color);\n",
              "    }\n",
              "    30% {\n",
              "      border-color: transparent;\n",
              "      border-left-color: var(--fill-color);\n",
              "      border-top-color: var(--fill-color);\n",
              "      border-right-color: var(--fill-color);\n",
              "    }\n",
              "    40% {\n",
              "      border-color: transparent;\n",
              "      border-right-color: var(--fill-color);\n",
              "      border-top-color: var(--fill-color);\n",
              "    }\n",
              "    60% {\n",
              "      border-color: transparent;\n",
              "      border-right-color: var(--fill-color);\n",
              "    }\n",
              "    80% {\n",
              "      border-color: transparent;\n",
              "      border-right-color: var(--fill-color);\n",
              "      border-bottom-color: var(--fill-color);\n",
              "    }\n",
              "    90% {\n",
              "      border-color: transparent;\n",
              "      border-bottom-color: var(--fill-color);\n",
              "    }\n",
              "  }\n",
              "</style>\n",
              "\n",
              "  <script>\n",
              "    async function quickchart(key) {\n",
              "      const quickchartButtonEl =\n",
              "        document.querySelector('#' + key + ' button');\n",
              "      quickchartButtonEl.disabled = true;  // To prevent multiple clicks.\n",
              "      quickchartButtonEl.classList.add('colab-df-spinner');\n",
              "      try {\n",
              "        const charts = await google.colab.kernel.invokeFunction(\n",
              "            'suggestCharts', [key], {});\n",
              "      } catch (error) {\n",
              "        console.error('Error during call to suggestCharts:', error);\n",
              "      }\n",
              "      quickchartButtonEl.classList.remove('colab-df-spinner');\n",
              "      quickchartButtonEl.classList.add('colab-df-quickchart-complete');\n",
              "    }\n",
              "    (() => {\n",
              "      let quickchartButtonEl =\n",
              "        document.querySelector('#df-28a041b7-8d4d-4523-a06e-a524eabd3f83 button');\n",
              "      quickchartButtonEl.style.display =\n",
              "        google.colab.kernel.accessAllowed ? 'block' : 'none';\n",
              "    })();\n",
              "  </script>\n",
              "</div>\n",
              "\n",
              "    </div>\n",
              "  </div>\n"
            ],
            "application/vnd.google.colaboratory.intrinsic+json": {
              "type": "dataframe",
              "summary": "{\n  \"name\": \"pd\",\n  \"rows\": 72,\n  \"fields\": [\n    {\n      \"column\": \"loss\",\n      \"properties\": {\n        \"dtype\": \"number\",\n        \"std\": 0.017389389823395298,\n        \"min\": 0.4076719880104065,\n        \"max\": 0.4672357738018036,\n        \"num_unique_values\": 72,\n        \"samples\": [\n          0.46342936158180237,\n          0.41560474038124084,\n          0.45082318782806396\n        ],\n        \"semantic_type\": \"\",\n        \"description\": \"\"\n      }\n    },\n    {\n      \"column\": \"accuracy\",\n      \"properties\": {\n        \"dtype\": \"number\",\n        \"std\": 0.010630129662111819,\n        \"min\": 0.7716966271400452,\n        \"max\": 0.8139171004295349,\n        \"num_unique_values\": 43,\n        \"samples\": [\n          0.8068803548812866,\n          0.7888975739479065,\n          0.7974980473518372\n        ],\n        \"semantic_type\": \"\",\n        \"description\": \"\"\n      }\n    },\n    {\n      \"column\": \"val_loss\",\n      \"properties\": {\n        \"dtype\": \"number\",\n        \"std\": 0.007427605484970385,\n        \"min\": 0.46385201811790466,\n        \"max\": 0.4894099235534668,\n        \"num_unique_values\": 72,\n        \"samples\": [\n          0.4873741567134857,\n          0.46529093384742737,\n          0.47997593879699707\n        ],\n        \"semantic_type\": \"\",\n        \"description\": \"\"\n      }\n    },\n    {\n      \"column\": \"val_accuracy\",\n      \"properties\": {\n        \"dtype\": \"number\",\n        \"std\": 0.009644875749841462,\n        \"min\": 0.746874988079071,\n        \"max\": 0.78125,\n        \"num_unique_values\": 12,\n        \"samples\": [\n          0.778124988079071,\n          0.7749999761581421,\n          0.753125011920929\n        ],\n        \"semantic_type\": \"\",\n        \"description\": \"\"\n      }\n    }\n  ]\n}"
            }
          },
          "metadata": {},
          "execution_count": 45
        }
      ]
    },
    {
      "cell_type": "code",
      "source": [
        "pd.DataFrame(history.history).plot()"
      ],
      "metadata": {
        "colab": {
          "base_uri": "https://localhost:8080/",
          "height": 447
        },
        "id": "G8L0sTZo2Mlw",
        "outputId": "9f11d17a-1133-42c8-c264-1b137542e559"
      },
      "execution_count": 46,
      "outputs": [
        {
          "output_type": "execute_result",
          "data": {
            "text/plain": [
              "<Axes: >"
            ]
          },
          "metadata": {},
          "execution_count": 46
        },
        {
          "output_type": "display_data",
          "data": {
            "text/plain": [
              "<Figure size 640x480 with 1 Axes>"
            ],
            "image/png": "[encoded data removed]"
          },
          "metadata": {}
        }
      ]
    },
    {
      "cell_type": "code",
      "source": [
        "model.evaluate(scaled_X_test, y_test)"
      ],
      "metadata": {
        "colab": {
          "base_uri": "https://localhost:8080/"
        },
        "id": "02qulDwK2MoL",
        "outputId": "72640057-0b44-426d-d842-3be72a741020"
      },
      "execution_count": 50,
      "outputs": [
        {
          "output_type": "stream",
          "name": "stdout",
          "text": [
            "10/10 [==============================] - 0s 2ms/step - loss: 0.4639 - accuracy: 0.7781\n"
          ]
        },
        {
          "output_type": "execute_result",
          "data": {
            "text/plain": [
              "[0.46385201811790466, 0.778124988079071]"
            ]
          },
          "metadata": {},
          "execution_count": 50
        }
      ]
    },
    {
      "cell_type": "code",
      "source": [
        "import matplotlib.pyplot as plt\n",
        "ig, ax = plt.subplots(figsize=(17,8))\n",
        "\n",
        "plt.plot(cl.history['accuracy'], label='accuracy')\n",
        "plt.plot(cl.history['val_accuracy'], label='val_accuracy', linestyle='--')\n",
        "plt.plot(cl.history['loss'], label='loss')\n",
        "plt.plot(cl.history['val_loss'], label='val_loss', linestyle='--')\n",
        "plt.legend()"
      ],
      "metadata": {
        "colab": {
          "base_uri": "https://localhost:8080/",
          "height": 693
        },
        "id": "4NMAcBBwhXDn",
        "outputId": "fda9bf08-bc96-4054-e2f3-7340adf7fa53"
      },
      "execution_count": 30,
      "outputs": [
        {
          "output_type": "execute_result",
          "data": {
            "text/plain": [
              "<matplotlib.legend.Legend at 0x7e0a5c961030>"
            ]
          },
          "metadata": {},
          "execution_count": 30
        },
        {
          "output_type": "display_data",
          "data": {
            "text/plain": [
              "<Figure size 1700x800 with 1 Axes>"
            ],
            "image/png": "[encoded data removed]"
          },
          "metadata": {}
        }
      ]
    },
    {
      "cell_type": "code",
      "source": [],
      "metadata": {
        "id": "ZXeIILl-kPrR"
      },
      "execution_count": null,
      "outputs": []
    }
  ]
}
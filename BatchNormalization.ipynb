{
  "nbformat": 4,
  "nbformat_minor": 0,
  "metadata": {
    "colab": {
      "provenance": []
    },
    "kernelspec": {
      "name": "python3",
      "display_name": "Python 3"
    },
    "language_info": {
      "name": "python"
    }
  },
  "cells": [
    {
      "cell_type": "code",
      "execution_count": null,
      "metadata": {
        "colab": {
          "base_uri": "https://localhost:8080/"
        },
        "id": "jWAwKURU4Tx8",
        "outputId": "4124f83e-05c0-4246-b6be-24432037384e"
      },
      "outputs": [
        {
          "output_type": "stream",
          "name": "stdout",
          "text": [
            "Requirement already satisfied: tensorflow in /usr/local/lib/python3.10/dist-packages (2.15.0)\n",
            "Requirement already satisfied: absl-py>=1.0.0 in /usr/local/lib/python3.10/dist-packages (from tensorflow) (1.4.0)\n",
            "Requirement already satisfied: astunparse>=1.6.0 in /usr/local/lib/python3.10/dist-packages (from tensorflow) (1.6.3)\n",
            "Requirement already satisfied: flatbuffers>=23.5.26 in /usr/local/lib/python3.10/dist-packages (from tensorflow) (24.3.25)\n",
            "Requirement already satisfied: gast!=0.5.0,!=0.5.1,!=0.5.2,>=0.2.1 in /usr/local/lib/python3.10/dist-packages (from tensorflow) (0.6.0)\n",
            "Requirement already satisfied: google-pasta>=0.1.1 in /usr/local/lib/python3.10/dist-packages (from tensorflow) (0.2.0)\n",
            "Requirement already satisfied: h5py>=2.9.0 in /usr/local/lib/python3.10/dist-packages (from tensorflow) (3.9.0)\n",
            "Requirement already satisfied: libclang>=13.0.0 in /usr/local/lib/python3.10/dist-packages (from tensorflow) (18.1.1)\n",
            "Requirement already satisfied: ml-dtypes~=0.2.0 in /usr/local/lib/python3.10/dist-packages (from tensorflow) (0.2.0)\n",
            "Requirement already satisfied: numpy<2.0.0,>=1.23.5 in /usr/local/lib/python3.10/dist-packages (from tensorflow) (1.25.2)\n",
            "Requirement already satisfied: opt-einsum>=2.3.2 in /usr/local/lib/python3.10/dist-packages (from tensorflow) (3.3.0)\n",
            "Requirement already satisfied: packaging in /usr/local/lib/python3.10/dist-packages (from tensorflow) (24.1)\n",
            "Requirement already satisfied: protobuf!=4.21.0,!=4.21.1,!=4.21.2,!=4.21.3,!=4.21.4,!=4.21.5,<5.0.0dev,>=3.20.3 in /usr/local/lib/python3.10/dist-packages (from tensorflow) (3.20.3)\n",
            "Requirement already satisfied: setuptools in /usr/local/lib/python3.10/dist-packages (from tensorflow) (67.7.2)\n",
            "Requirement already satisfied: six>=1.12.0 in /usr/local/lib/python3.10/dist-packages (from tensorflow) (1.16.0)\n",
            "Requirement already satisfied: termcolor>=1.1.0 in /usr/local/lib/python3.10/dist-packages (from tensorflow) (2.4.0)\n",
            "Requirement already satisfied: typing-extensions>=3.6.6 in /usr/local/lib/python3.10/dist-packages (from tensorflow) (4.12.2)\n",
            "Requirement already satisfied: wrapt<1.15,>=1.11.0 in /usr/local/lib/python3.10/dist-packages (from tensorflow) (1.14.1)\n",
            "Requirement already satisfied: tensorflow-io-gcs-filesystem>=0.23.1 in /usr/local/lib/python3.10/dist-packages (from tensorflow) (0.37.0)\n",
            "Requirement already satisfied: grpcio<2.0,>=1.24.3 in /usr/local/lib/python3.10/dist-packages (from tensorflow) (1.64.1)\n",
            "Requirement already satisfied: tensorboard<2.16,>=2.15 in /usr/local/lib/python3.10/dist-packages (from tensorflow) (2.15.2)\n",
            "Requirement already satisfied: tensorflow-estimator<2.16,>=2.15.0 in /usr/local/lib/python3.10/dist-packages (from tensorflow) (2.15.0)\n",
            "Requirement already satisfied: keras<2.16,>=2.15.0 in /usr/local/lib/python3.10/dist-packages (from tensorflow) (2.15.0)\n",
            "Requirement already satisfied: wheel<1.0,>=0.23.0 in /usr/local/lib/python3.10/dist-packages (from astunparse>=1.6.0->tensorflow) (0.43.0)\n",
            "Requirement already satisfied: google-auth<3,>=1.6.3 in /usr/local/lib/python3.10/dist-packages (from tensorboard<2.16,>=2.15->tensorflow) (2.27.0)\n",
            "Requirement already satisfied: google-auth-oauthlib<2,>=0.5 in /usr/local/lib/python3.10/dist-packages (from tensorboard<2.16,>=2.15->tensorflow) (1.2.0)\n",
            "Requirement already satisfied: markdown>=2.6.8 in /usr/local/lib/python3.10/dist-packages (from tensorboard<2.16,>=2.15->tensorflow) (3.6)\n",
            "Requirement already satisfied: requests<3,>=2.21.0 in /usr/local/lib/python3.10/dist-packages (from tensorboard<2.16,>=2.15->tensorflow) (2.31.0)\n",
            "Requirement already satisfied: tensorboard-data-server<0.8.0,>=0.7.0 in /usr/local/lib/python3.10/dist-packages (from tensorboard<2.16,>=2.15->tensorflow) (0.7.2)\n",
            "Requirement already satisfied: werkzeug>=1.0.1 in /usr/local/lib/python3.10/dist-packages (from tensorboard<2.16,>=2.15->tensorflow) (3.0.3)\n",
            "Requirement already satisfied: cachetools<6.0,>=2.0.0 in /usr/local/lib/python3.10/dist-packages (from google-auth<3,>=1.6.3->tensorboard<2.16,>=2.15->tensorflow) (5.3.3)\n",
            "Requirement already satisfied: pyasn1-modules>=0.2.1 in /usr/local/lib/python3.10/dist-packages (from google-auth<3,>=1.6.3->tensorboard<2.16,>=2.15->tensorflow) (0.4.0)\n",
            "Requirement already satisfied: rsa<5,>=3.1.4 in /usr/local/lib/python3.10/dist-packages (from google-auth<3,>=1.6.3->tensorboard<2.16,>=2.15->tensorflow) (4.9)\n",
            "Requirement already satisfied: requests-oauthlib>=0.7.0 in /usr/local/lib/python3.10/dist-packages (from google-auth-oauthlib<2,>=0.5->tensorboard<2.16,>=2.15->tensorflow) (1.3.1)\n",
            "Requirement already satisfied: charset-normalizer<4,>=2 in /usr/local/lib/python3.10/dist-packages (from requests<3,>=2.21.0->tensorboard<2.16,>=2.15->tensorflow) (3.3.2)\n",
            "Requirement already satisfied: idna<4,>=2.5 in /usr/local/lib/python3.10/dist-packages (from requests<3,>=2.21.0->tensorboard<2.16,>=2.15->tensorflow) (3.7)\n",
            "Requirement already satisfied: urllib3<3,>=1.21.1 in /usr/local/lib/python3.10/dist-packages (from requests<3,>=2.21.0->tensorboard<2.16,>=2.15->tensorflow) (2.0.7)\n",
            "Requirement already satisfied: certifi>=2017.4.17 in /usr/local/lib/python3.10/dist-packages (from requests<3,>=2.21.0->tensorboard<2.16,>=2.15->tensorflow) (2024.6.2)\n",
            "Requirement already satisfied: MarkupSafe>=2.1.1 in /usr/local/lib/python3.10/dist-packages (from werkzeug>=1.0.1->tensorboard<2.16,>=2.15->tensorflow) (2.1.5)\n",
            "Requirement already satisfied: pyasn1<0.7.0,>=0.4.6 in /usr/local/lib/python3.10/dist-packages (from pyasn1-modules>=0.2.1->google-auth<3,>=1.6.3->tensorboard<2.16,>=2.15->tensorflow) (0.6.0)\n",
            "Requirement already satisfied: oauthlib>=3.0.0 in /usr/local/lib/python3.10/dist-packages (from requests-oauthlib>=0.7.0->google-auth-oauthlib<2,>=0.5->tensorboard<2.16,>=2.15->tensorflow) (3.2.2)\n"
          ]
        }
      ],
      "source": [
        "pip install tensorflow"
      ]
    },
    {
      "cell_type": "code",
      "source": [
        "import tensorflow as tf\n",
        "import seaborn as sns\n",
        "import numpy as np\n",
        "import pandas as pd\n",
        "import matplotlib.pyplot as plt"
      ],
      "metadata": {
        "id": "KxNElhUaugxB"
      },
      "execution_count": 1,
      "outputs": []
    },
    {
      "cell_type": "code",
      "source": [
        "mnist = tf.keras.datasets.mnist"
      ],
      "metadata": {
        "id": "Sa_7PYCBzmOR"
      },
      "execution_count": 2,
      "outputs": []
    },
    {
      "cell_type": "code",
      "source": [
        "(X_train, y_train), (X_test, y_test) = mnist.load_data()"
      ],
      "metadata": {
        "colab": {
          "base_uri": "https://localhost:8080/"
        },
        "id": "NI8IjnGazsMP",
        "outputId": "424fb98b-5309-4318-e3a3-f6a3a5dedc3c"
      },
      "execution_count": 3,
      "outputs": [
        {
          "output_type": "stream",
          "name": "stdout",
          "text": [
            "Downloading data from https://storage.googleapis.com/tensorflow/tf-keras-datasets/mnist.npz\n",
            "11490434/11490434 [==============================] - 1s 0us/step\n"
          ]
        }
      ]
    },
    {
      "cell_type": "code",
      "source": [
        "X_train"
      ],
      "metadata": {
        "colab": {
          "base_uri": "https://localhost:8080/"
        },
        "id": "_uM8CVLmzydh",
        "outputId": "966bbe62-36a9-40c5-95a4-b305167d3a85"
      },
      "execution_count": 4,
      "outputs": [
        {
          "output_type": "execute_result",
          "data": {
            "text/plain": [
              "array([[[0, 0, 0, ..., 0, 0, 0],\n",
              "        [0, 0, 0, ..., 0, 0, 0],\n",
              "        [0, 0, 0, ..., 0, 0, 0],\n",
              "        ...,\n",
              "        [0, 0, 0, ..., 0, 0, 0],\n",
              "        [0, 0, 0, ..., 0, 0, 0],\n",
              "        [0, 0, 0, ..., 0, 0, 0]],\n",
              "\n",
              "       [[0, 0, 0, ..., 0, 0, 0],\n",
              "        [0, 0, 0, ..., 0, 0, 0],\n",
              "        [0, 0, 0, ..., 0, 0, 0],\n",
              "        ...,\n",
              "        [0, 0, 0, ..., 0, 0, 0],\n",
              "        [0, 0, 0, ..., 0, 0, 0],\n",
              "        [0, 0, 0, ..., 0, 0, 0]],\n",
              "\n",
              "       [[0, 0, 0, ..., 0, 0, 0],\n",
              "        [0, 0, 0, ..., 0, 0, 0],\n",
              "        [0, 0, 0, ..., 0, 0, 0],\n",
              "        ...,\n",
              "        [0, 0, 0, ..., 0, 0, 0],\n",
              "        [0, 0, 0, ..., 0, 0, 0],\n",
              "        [0, 0, 0, ..., 0, 0, 0]],\n",
              "\n",
              "       ...,\n",
              "\n",
              "       [[0, 0, 0, ..., 0, 0, 0],\n",
              "        [0, 0, 0, ..., 0, 0, 0],\n",
              "        [0, 0, 0, ..., 0, 0, 0],\n",
              "        ...,\n",
              "        [0, 0, 0, ..., 0, 0, 0],\n",
              "        [0, 0, 0, ..., 0, 0, 0],\n",
              "        [0, 0, 0, ..., 0, 0, 0]],\n",
              "\n",
              "       [[0, 0, 0, ..., 0, 0, 0],\n",
              "        [0, 0, 0, ..., 0, 0, 0],\n",
              "        [0, 0, 0, ..., 0, 0, 0],\n",
              "        ...,\n",
              "        [0, 0, 0, ..., 0, 0, 0],\n",
              "        [0, 0, 0, ..., 0, 0, 0],\n",
              "        [0, 0, 0, ..., 0, 0, 0]],\n",
              "\n",
              "       [[0, 0, 0, ..., 0, 0, 0],\n",
              "        [0, 0, 0, ..., 0, 0, 0],\n",
              "        [0, 0, 0, ..., 0, 0, 0],\n",
              "        ...,\n",
              "        [0, 0, 0, ..., 0, 0, 0],\n",
              "        [0, 0, 0, ..., 0, 0, 0],\n",
              "        [0, 0, 0, ..., 0, 0, 0]]], dtype=uint8)"
            ]
          },
          "metadata": {},
          "execution_count": 4
        }
      ]
    },
    {
      "cell_type": "code",
      "source": [
        "print('The shape of the training inputs:', X_train.shape)\n",
        "print('The shape of the training labels:',y_train.shape)\n",
        "print('The shape of the testing inputs:',X_test.shape)\n",
        "print('The shape of the testing labels:',y_test.shape)"
      ],
      "metadata": {
        "colab": {
          "base_uri": "https://localhost:8080/"
        },
        "id": "d-jOIzbgzwXV",
        "outputId": "69fad3f9-4d95-4e66-fce5-8c8e7c37c97c"
      },
      "execution_count": 5,
      "outputs": [
        {
          "output_type": "stream",
          "name": "stdout",
          "text": [
            "The shape of the training inputs: (60000, 28, 28)\n",
            "The shape of the training labels: (60000,)\n",
            "The shape of the testing inputs: (10000, 28, 28)\n",
            "The shape of the testing labels: (10000,)\n"
          ]
        }
      ]
    },
    {
      "cell_type": "markdown",
      "source": [
        "## Normalize the data"
      ],
      "metadata": {
        "id": "XITfmMqu0Gql"
      }
    },
    {
      "cell_type": "code",
      "source": [
        "X_train = tf.keras.utils.normalize(X_train, axis=1)\n",
        "X_test = tf.keras.utils.normalize(X_test, axis=1)"
      ],
      "metadata": {
        "id": "jmdwDemlz-9x"
      },
      "execution_count": 6,
      "outputs": []
    },
    {
      "cell_type": "code",
      "source": [
        "from tensorflow.keras.models import Sequential\n",
        "from tensorflow.keras.layers import Dense\n",
        "LAYERS = [tf.keras.layers.Flatten(input_shape=[28, 28], name=\"inputLayer\"),\n",
        "          tf.keras.layers.Dense(300, activation=\"relu\", name=\"hiddenLayer1\"),\n",
        "          tf.keras.layers.Dense(100, activation=\"relu\", name=\"hiddenLayer2\"),\n",
        "          tf.keras.layers.Dense(10, activation=\"softmax\", name=\"outputLayer\")]\n",
        "\n",
        "model = tf.keras.models.Sequential(LAYERS)"
      ],
      "metadata": {
        "id": "JxrvM2Le0Jbt"
      },
      "execution_count": 7,
      "outputs": []
    },
    {
      "cell_type": "code",
      "source": [
        "model.summary"
      ],
      "metadata": {
        "colab": {
          "base_uri": "https://localhost:8080/"
        },
        "id": "-mOVCb_Z4S1q",
        "outputId": "e9a22ad9-8351-4404-e4ef-6d3a0f895a8f"
      },
      "execution_count": 8,
      "outputs": [
        {
          "output_type": "stream",
          "name": "stdout",
          "text": [
            "Model: \"sequential\"\n",
            "_________________________________________________________________\n",
            " Layer (type)                Output Shape              Param #   \n",
            "=================================================================\n",
            " inputLayer (Flatten)        (None, 784)               0         \n",
            "                                                                 \n",
            " hiddenLayer1 (Dense)        (None, 300)               235500    \n",
            "                                                                 \n",
            " hiddenLayer2 (Dense)        (None, 100)               30100     \n",
            "                                                                 \n",
            " outputLayer (Dense)         (None, 10)                1010      \n",
            "                                                                 \n",
            "=================================================================\n",
            "Total params: 266610 (1.02 MB)\n",
            "Trainable params: 266610 (1.02 MB)\n",
            "Non-trainable params: 0 (0.00 Byte)\n",
            "_________________________________________________________________\n"
          ]
        }
      ]
    },
    {
      "cell_type": "code",
      "source": [
        "model.compile(optimizer='sgd', loss='sparse_categorical_crossentropy', metrics=['accuracy'])"
      ],
      "metadata": {
        "id": "XwzOxllN4WXB"
      },
      "execution_count": 9,
      "outputs": []
    },
    {
      "cell_type": "code",
      "source": [
        "VALIDATION_SET = (X_test, y_test)\n",
        "\n",
        "history = model.fit(X_train, y_train, epochs=30,\n",
        "                    validation_data=VALIDATION_SET, batch_size=32)"
      ],
      "metadata": {
        "colab": {
          "base_uri": "https://localhost:8080/"
        },
        "id": "9f9KnUaO4vNg",
        "outputId": "d4ff9b9f-767b-4a09-e706-8ab6a3c7e701"
      },
      "execution_count": 11,
      "outputs": [
        {
          "output_type": "stream",
          "name": "stdout",
          "text": [
            "Epoch 1/30\n",
            "1875/1875 [==============================] - 9s 5ms/step - loss: 0.2134 - accuracy: 0.9387 - val_loss: 0.2066 - val_accuracy: 0.9389\n",
            "Epoch 2/30\n",
            "1875/1875 [==============================] - 9s 5ms/step - loss: 0.1978 - accuracy: 0.9426 - val_loss: 0.1965 - val_accuracy: 0.9417\n",
            "Epoch 3/30\n",
            "1875/1875 [==============================] - 9s 5ms/step - loss: 0.1841 - accuracy: 0.9474 - val_loss: 0.1848 - val_accuracy: 0.9459\n",
            "Epoch 4/30\n",
            "1875/1875 [==============================] - 8s 4ms/step - loss: 0.1715 - accuracy: 0.9509 - val_loss: 0.1735 - val_accuracy: 0.9473\n",
            "Epoch 5/30\n",
            "1875/1875 [==============================] - 9s 5ms/step - loss: 0.1605 - accuracy: 0.9540 - val_loss: 0.1657 - val_accuracy: 0.9508\n",
            "Epoch 6/30\n",
            "1875/1875 [==============================] - 9s 5ms/step - loss: 0.1506 - accuracy: 0.9566 - val_loss: 0.1572 - val_accuracy: 0.9532\n",
            "Epoch 7/30\n",
            "1875/1875 [==============================] - 8s 4ms/step - loss: 0.1415 - accuracy: 0.9596 - val_loss: 0.1494 - val_accuracy: 0.9543\n",
            "Epoch 8/30\n",
            "1875/1875 [==============================] - 9s 5ms/step - loss: 0.1334 - accuracy: 0.9614 - val_loss: 0.1450 - val_accuracy: 0.9581\n",
            "Epoch 9/30\n",
            "1875/1875 [==============================] - 9s 5ms/step - loss: 0.1256 - accuracy: 0.9640 - val_loss: 0.1400 - val_accuracy: 0.9590\n",
            "Epoch 10/30\n",
            "1875/1875 [==============================] - 8s 4ms/step - loss: 0.1189 - accuracy: 0.9655 - val_loss: 0.1312 - val_accuracy: 0.9610\n",
            "Epoch 11/30\n",
            "1875/1875 [==============================] - 9s 5ms/step - loss: 0.1126 - accuracy: 0.9676 - val_loss: 0.1256 - val_accuracy: 0.9627\n",
            "Epoch 12/30\n",
            "1875/1875 [==============================] - 9s 5ms/step - loss: 0.1068 - accuracy: 0.9694 - val_loss: 0.1243 - val_accuracy: 0.9637\n",
            "Epoch 13/30\n",
            "1875/1875 [==============================] - 8s 4ms/step - loss: 0.1016 - accuracy: 0.9710 - val_loss: 0.1175 - val_accuracy: 0.9651\n",
            "Epoch 14/30\n",
            "1875/1875 [==============================] - 9s 5ms/step - loss: 0.0964 - accuracy: 0.9727 - val_loss: 0.1148 - val_accuracy: 0.9655\n",
            "Epoch 15/30\n",
            "1875/1875 [==============================] - 9s 5ms/step - loss: 0.0919 - accuracy: 0.9739 - val_loss: 0.1109 - val_accuracy: 0.9678\n",
            "Epoch 16/30\n",
            "1875/1875 [==============================] - 8s 4ms/step - loss: 0.0877 - accuracy: 0.9753 - val_loss: 0.1078 - val_accuracy: 0.9678\n",
            "Epoch 17/30\n",
            "1875/1875 [==============================] - 9s 5ms/step - loss: 0.0835 - accuracy: 0.9763 - val_loss: 0.1064 - val_accuracy: 0.9688\n",
            "Epoch 18/30\n",
            "1875/1875 [==============================] - 9s 5ms/step - loss: 0.0799 - accuracy: 0.9773 - val_loss: 0.1041 - val_accuracy: 0.9690\n",
            "Epoch 19/30\n",
            "1875/1875 [==============================] - 9s 5ms/step - loss: 0.0764 - accuracy: 0.9784 - val_loss: 0.1004 - val_accuracy: 0.9698\n",
            "Epoch 20/30\n",
            "1875/1875 [==============================] - 9s 5ms/step - loss: 0.0731 - accuracy: 0.9796 - val_loss: 0.1001 - val_accuracy: 0.9692\n",
            "Epoch 21/30\n",
            "1875/1875 [==============================] - 8s 5ms/step - loss: 0.0701 - accuracy: 0.9808 - val_loss: 0.0977 - val_accuracy: 0.9710\n",
            "Epoch 22/30\n",
            "1875/1875 [==============================] - 8s 4ms/step - loss: 0.0673 - accuracy: 0.9811 - val_loss: 0.0933 - val_accuracy: 0.9718\n",
            "Epoch 23/30\n",
            "1875/1875 [==============================] - 9s 5ms/step - loss: 0.0643 - accuracy: 0.9824 - val_loss: 0.0935 - val_accuracy: 0.9710\n",
            "Epoch 24/30\n",
            "1875/1875 [==============================] - 9s 5ms/step - loss: 0.0617 - accuracy: 0.9833 - val_loss: 0.0922 - val_accuracy: 0.9715\n",
            "Epoch 25/30\n",
            "1875/1875 [==============================] - 9s 5ms/step - loss: 0.0594 - accuracy: 0.9836 - val_loss: 0.0918 - val_accuracy: 0.9712\n",
            "Epoch 26/30\n",
            "1875/1875 [==============================] - 10s 5ms/step - loss: 0.0570 - accuracy: 0.9845 - val_loss: 0.0894 - val_accuracy: 0.9731\n",
            "Epoch 27/30\n",
            "1875/1875 [==============================] - 8s 4ms/step - loss: 0.0548 - accuracy: 0.9851 - val_loss: 0.0879 - val_accuracy: 0.9734\n",
            "Epoch 28/30\n",
            "1875/1875 [==============================] - 9s 5ms/step - loss: 0.0526 - accuracy: 0.9863 - val_loss: 0.0853 - val_accuracy: 0.9747\n",
            "Epoch 29/30\n",
            "1875/1875 [==============================] - 9s 5ms/step - loss: 0.0506 - accuracy: 0.9864 - val_loss: 0.0868 - val_accuracy: 0.9730\n",
            "Epoch 30/30\n",
            "1875/1875 [==============================] - 9s 5ms/step - loss: 0.0487 - accuracy: 0.9871 - val_loss: 0.0852 - val_accuracy: 0.9731\n"
          ]
        }
      ]
    },
    {
      "cell_type": "code",
      "source": [
        "loss, accuracy = model.evaluate(X_test, y_test)\n",
        "print(\"loss: \", loss)\n",
        "print(\"Accuracy: \", accuracy)"
      ],
      "metadata": {
        "colab": {
          "base_uri": "https://localhost:8080/"
        },
        "id": "Yrmj9j_-5D97",
        "outputId": "8246e7ea-9438-480a-ac1a-366413c2c5ad"
      },
      "execution_count": 13,
      "outputs": [
        {
          "output_type": "stream",
          "name": "stdout",
          "text": [
            "313/313 [==============================] - 1s 3ms/step - loss: 0.0852 - accuracy: 0.9731\n",
            "loss:  0.08515927195549011\n",
            "Accuracy:  0.9731000065803528\n"
          ]
        }
      ]
    },
    {
      "cell_type": "markdown",
      "source": [
        "## **Adding Batch Normalization in Neural Network**"
      ],
      "metadata": {
        "id": "HSv5tAlTGVZK"
      }
    },
    {
      "cell_type": "code",
      "source": [
        "from tensorflow.keras.models import Sequential\n",
        "from tensorflow.keras.layers import Dense\n",
        "LAYERS2 = [tf.keras.layers.Flatten(input_shape=[28, 28], name=\"inputLayer\"),\n",
        "          tf.keras.layers.Dense(300, activation=\"relu\", name=\"hiddenLayer1\"),\n",
        "          tf.keras.layers.BatchNormalization(),  # Batch Normalization Layer\n",
        "          tf.keras.layers.Dense(100, activation=\"relu\", name=\"hiddenLayer2\"),\n",
        "          tf.keras.layers.BatchNormalization(),  # Batch Normalization Layer\n",
        "          tf.keras.layers.Dense(10, activation=\"softmax\", name=\"outputLayer\")]\n",
        "\n",
        "model2 = tf.keras.models.Sequential(LAYERS2)"
      ],
      "metadata": {
        "id": "Mx468FzA7x90"
      },
      "execution_count": 15,
      "outputs": []
    },
    {
      "cell_type": "code",
      "source": [
        "model2.summary()"
      ],
      "metadata": {
        "colab": {
          "base_uri": "https://localhost:8080/"
        },
        "id": "ndn048jkHCFP",
        "outputId": "c84dd9f9-da8e-47ea-a7b6-6592fb3e7d5b"
      },
      "execution_count": 16,
      "outputs": [
        {
          "output_type": "stream",
          "name": "stdout",
          "text": [
            "Model: \"sequential_2\"\n",
            "_________________________________________________________________\n",
            " Layer (type)                Output Shape              Param #   \n",
            "=================================================================\n",
            " inputLayer (Flatten)        (None, 784)               0         \n",
            "                                                                 \n",
            " hiddenLayer1 (Dense)        (None, 300)               235500    \n",
            "                                                                 \n",
            " batch_normalization (Batch  (None, 300)               1200      \n",
            " Normalization)                                                  \n",
            "                                                                 \n",
            " hiddenLayer2 (Dense)        (None, 100)               30100     \n",
            "                                                                 \n",
            " batch_normalization_1 (Bat  (None, 100)               400       \n",
            " chNormalization)                                                \n",
            "                                                                 \n",
            " outputLayer (Dense)         (None, 10)                1010      \n",
            "                                                                 \n",
            "=================================================================\n",
            "Total params: 268210 (1.02 MB)\n",
            "Trainable params: 267410 (1.02 MB)\n",
            "Non-trainable params: 800 (3.12 KB)\n",
            "_________________________________________________________________\n"
          ]
        }
      ]
    },
    {
      "cell_type": "code",
      "source": [
        "model2.compile(optimizer='sgd', loss='sparse_categorical_crossentropy', metrics=['accuracy'])"
      ],
      "metadata": {
        "id": "q01SC7FCHxEf"
      },
      "execution_count": 18,
      "outputs": []
    },
    {
      "cell_type": "code",
      "source": [
        "VALIDATION_SET = (X_test, y_test)\n",
        "\n",
        "history2 = model2.fit(X_train, y_train, epochs=30,\n",
        "                    validation_data=VALIDATION_SET, batch_size=32)"
      ],
      "metadata": {
        "colab": {
          "base_uri": "https://localhost:8080/"
        },
        "id": "hg-7uPcrHzcD",
        "outputId": "32c83e40-8f3b-451a-a3e6-b393e54662c5"
      },
      "execution_count": 19,
      "outputs": [
        {
          "output_type": "stream",
          "name": "stdout",
          "text": [
            "Epoch 1/30\n",
            "1875/1875 [==============================] - 12s 6ms/step - loss: 0.3381 - accuracy: 0.8997 - val_loss: 0.1672 - val_accuracy: 0.9504\n",
            "Epoch 2/30\n",
            "1875/1875 [==============================] - 10s 5ms/step - loss: 0.1669 - accuracy: 0.9513 - val_loss: 0.1286 - val_accuracy: 0.9602\n",
            "Epoch 3/30\n",
            "1875/1875 [==============================] - 11s 6ms/step - loss: 0.1232 - accuracy: 0.9638 - val_loss: 0.1138 - val_accuracy: 0.9646\n",
            "Epoch 4/30\n",
            "1875/1875 [==============================] - 11s 6ms/step - loss: 0.0980 - accuracy: 0.9719 - val_loss: 0.1050 - val_accuracy: 0.9669\n",
            "Epoch 5/30\n",
            "1875/1875 [==============================] - 11s 6ms/step - loss: 0.0806 - accuracy: 0.9766 - val_loss: 0.0976 - val_accuracy: 0.9712\n",
            "Epoch 6/30\n",
            "1875/1875 [==============================] - 10s 5ms/step - loss: 0.0659 - accuracy: 0.9816 - val_loss: 0.0949 - val_accuracy: 0.9708\n",
            "Epoch 7/30\n",
            "1875/1875 [==============================] - 11s 6ms/step - loss: 0.0570 - accuracy: 0.9842 - val_loss: 0.0924 - val_accuracy: 0.9737\n",
            "Epoch 8/30\n",
            "1875/1875 [==============================] - 11s 6ms/step - loss: 0.0484 - accuracy: 0.9860 - val_loss: 0.0913 - val_accuracy: 0.9723\n",
            "Epoch 9/30\n",
            "1875/1875 [==============================] - 11s 6ms/step - loss: 0.0413 - accuracy: 0.9886 - val_loss: 0.0908 - val_accuracy: 0.9731\n",
            "Epoch 10/30\n",
            "1875/1875 [==============================] - 11s 6ms/step - loss: 0.0367 - accuracy: 0.9900 - val_loss: 0.0886 - val_accuracy: 0.9735\n",
            "Epoch 11/30\n",
            "1875/1875 [==============================] - 11s 6ms/step - loss: 0.0305 - accuracy: 0.9922 - val_loss: 0.0907 - val_accuracy: 0.9745\n",
            "Epoch 12/30\n",
            "1875/1875 [==============================] - 11s 6ms/step - loss: 0.0275 - accuracy: 0.9926 - val_loss: 0.0897 - val_accuracy: 0.9746\n",
            "Epoch 13/30\n",
            "1875/1875 [==============================] - 11s 6ms/step - loss: 0.0236 - accuracy: 0.9944 - val_loss: 0.0871 - val_accuracy: 0.9751\n",
            "Epoch 14/30\n",
            "1875/1875 [==============================] - 11s 6ms/step - loss: 0.0212 - accuracy: 0.9945 - val_loss: 0.0905 - val_accuracy: 0.9753\n",
            "Epoch 15/30\n",
            "1875/1875 [==============================] - 11s 6ms/step - loss: 0.0186 - accuracy: 0.9956 - val_loss: 0.0907 - val_accuracy: 0.9754\n",
            "Epoch 16/30\n",
            "1875/1875 [==============================] - 10s 5ms/step - loss: 0.0171 - accuracy: 0.9960 - val_loss: 0.0875 - val_accuracy: 0.9758\n",
            "Epoch 17/30\n",
            "1875/1875 [==============================] - 12s 6ms/step - loss: 0.0146 - accuracy: 0.9969 - val_loss: 0.0922 - val_accuracy: 0.9758\n",
            "Epoch 18/30\n",
            "1875/1875 [==============================] - 12s 6ms/step - loss: 0.0135 - accuracy: 0.9970 - val_loss: 0.0927 - val_accuracy: 0.9759\n",
            "Epoch 19/30\n",
            "1875/1875 [==============================] - 12s 6ms/step - loss: 0.0127 - accuracy: 0.9972 - val_loss: 0.0945 - val_accuracy: 0.9759\n",
            "Epoch 20/30\n",
            "1875/1875 [==============================] - 12s 6ms/step - loss: 0.0109 - accuracy: 0.9979 - val_loss: 0.0942 - val_accuracy: 0.9764\n",
            "Epoch 21/30\n",
            "1875/1875 [==============================] - 12s 6ms/step - loss: 0.0109 - accuracy: 0.9978 - val_loss: 0.0929 - val_accuracy: 0.9764\n",
            "Epoch 22/30\n",
            "1875/1875 [==============================] - 11s 6ms/step - loss: 0.0095 - accuracy: 0.9983 - val_loss: 0.0945 - val_accuracy: 0.9758\n",
            "Epoch 23/30\n",
            "1875/1875 [==============================] - 11s 6ms/step - loss: 0.0098 - accuracy: 0.9981 - val_loss: 0.0941 - val_accuracy: 0.9776\n",
            "Epoch 24/30\n",
            "1875/1875 [==============================] - 12s 6ms/step - loss: 0.0090 - accuracy: 0.9982 - val_loss: 0.0952 - val_accuracy: 0.9764\n",
            "Epoch 25/30\n",
            "1875/1875 [==============================] - 12s 6ms/step - loss: 0.0079 - accuracy: 0.9985 - val_loss: 0.0951 - val_accuracy: 0.9758\n",
            "Epoch 26/30\n",
            "1875/1875 [==============================] - 11s 6ms/step - loss: 0.0080 - accuracy: 0.9984 - val_loss: 0.0971 - val_accuracy: 0.9756\n",
            "Epoch 27/30\n",
            "1875/1875 [==============================] - 11s 6ms/step - loss: 0.0075 - accuracy: 0.9985 - val_loss: 0.0957 - val_accuracy: 0.9761\n",
            "Epoch 28/30\n",
            "1875/1875 [==============================] - 10s 6ms/step - loss: 0.0072 - accuracy: 0.9985 - val_loss: 0.0946 - val_accuracy: 0.9760\n",
            "Epoch 29/30\n",
            "1875/1875 [==============================] - 11s 6ms/step - loss: 0.0069 - accuracy: 0.9988 - val_loss: 0.0966 - val_accuracy: 0.9753\n",
            "Epoch 30/30\n",
            "1875/1875 [==============================] - 12s 6ms/step - loss: 0.0061 - accuracy: 0.9990 - val_loss: 0.0971 - val_accuracy: 0.9766\n"
          ]
        }
      ]
    },
    {
      "cell_type": "code",
      "source": [
        "loss, accuracy = model2.evaluate(X_test, y_test)\n",
        "print(\"loss: \", loss)\n",
        "print(\"Accuracy: \", accuracy)"
      ],
      "metadata": {
        "colab": {
          "base_uri": "https://localhost:8080/"
        },
        "id": "cz11tn_PH-Kl",
        "outputId": "a5810cba-2100-444d-ece2-fea5fe6e060a"
      },
      "execution_count": 21,
      "outputs": [
        {
          "output_type": "stream",
          "name": "stdout",
          "text": [
            "313/313 [==============================] - 1s 3ms/step - loss: 0.0971 - accuracy: 0.9766\n",
            "loss:  0.09713394194841385\n",
            "Accuracy:  0.9765999913215637\n"
          ]
        }
      ]
    },
    {
      "cell_type": "code",
      "source": [
        "loss, accuracy = model.evaluate(X_test, y_test)\n",
        "print(\"loss: \", loss)\n",
        "print(\"Accuracy: \", accuracy)"
      ],
      "metadata": {
        "colab": {
          "base_uri": "https://localhost:8080/"
        },
        "id": "yAx0VZFMJlht",
        "outputId": "36f90785-2c5f-40e6-bbe9-2d7badf78a41"
      },
      "execution_count": 22,
      "outputs": [
        {
          "output_type": "stream",
          "name": "stdout",
          "text": [
            "313/313 [==============================] - 1s 3ms/step - loss: 0.0852 - accuracy: 0.9731\n",
            "loss:  0.08515927195549011\n",
            "Accuracy:  0.9731000065803528\n"
          ]
        }
      ]
    },
    {
      "cell_type": "markdown",
      "source": [
        "## **BATCH NORMALIZATION + CALLBACK FUNCTIONS (EARLY STOPPING)**"
      ],
      "metadata": {
        "id": "LapVlgmZJxHA"
      }
    },
    {
      "cell_type": "code",
      "source": [
        "from tensorflow.keras.callbacks import EarlyStopping"
      ],
      "metadata": {
        "id": "rWtRabcoJrSp"
      },
      "execution_count": 23,
      "outputs": []
    },
    {
      "cell_type": "code",
      "source": [
        "earlyStopping = EarlyStopping(monitor='val_loss',patience=3)"
      ],
      "metadata": {
        "id": "hnKQiCm8KEeY"
      },
      "execution_count": 24,
      "outputs": []
    },
    {
      "cell_type": "code",
      "source": [
        "from tensorflow.keras.models import Sequential\n",
        "from tensorflow.keras.layers import Dense\n",
        "LAYERS3 = [tf.keras.layers.Flatten(input_shape=[28, 28], name=\"inputLayer\"),\n",
        "          tf.keras.layers.Dense(300, activation=\"relu\", name=\"hiddenLayer1\"),\n",
        "          tf.keras.layers.BatchNormalization(),  # Batch Normalization Layer\n",
        "          tf.keras.layers.Dense(100, activation=\"relu\", name=\"hiddenLayer2\"),\n",
        "          tf.keras.layers.BatchNormalization(),  # Batch Normalization Layer\n",
        "          tf.keras.layers.Dense(10, activation=\"softmax\", name=\"outputLayer\")]\n",
        "\n",
        "model3 = tf.keras.models.Sequential(LAYERS3)"
      ],
      "metadata": {
        "id": "Qc8yi_EbKMaQ"
      },
      "execution_count": 25,
      "outputs": []
    },
    {
      "cell_type": "code",
      "source": [
        "model3.compile(optimizer='sgd', loss='sparse_categorical_crossentropy', metrics=['accuracy'])"
      ],
      "metadata": {
        "id": "1r1nANjJKPZc"
      },
      "execution_count": 26,
      "outputs": []
    },
    {
      "cell_type": "code",
      "source": [
        "VALIDATION_SET = (X_test, y_test)\n",
        "\n",
        "history3 = model3.fit(X_train, y_train, epochs=30,\n",
        "                    validation_data=VALIDATION_SET, batch_size=32, callbacks=[earlyStopping])"
      ],
      "metadata": {
        "colab": {
          "base_uri": "https://localhost:8080/"
        },
        "id": "Cqy2q3cuKXn_",
        "outputId": "d186febb-ccca-456d-c590-0f3e77e03a93"
      },
      "execution_count": 27,
      "outputs": [
        {
          "output_type": "stream",
          "name": "stdout",
          "text": [
            "Epoch 1/30\n",
            "1875/1875 [==============================] - 12s 6ms/step - loss: 0.3364 - accuracy: 0.9011 - val_loss: 0.1711 - val_accuracy: 0.9505\n",
            "Epoch 2/30\n",
            "1875/1875 [==============================] - 12s 6ms/step - loss: 0.1724 - accuracy: 0.9495 - val_loss: 0.1325 - val_accuracy: 0.9611\n",
            "Epoch 3/30\n",
            "1875/1875 [==============================] - 12s 6ms/step - loss: 0.1289 - accuracy: 0.9618 - val_loss: 0.1138 - val_accuracy: 0.9643\n",
            "Epoch 4/30\n",
            "1875/1875 [==============================] - 10s 5ms/step - loss: 0.1043 - accuracy: 0.9689 - val_loss: 0.1065 - val_accuracy: 0.9666\n",
            "Epoch 5/30\n",
            "1875/1875 [==============================] - 10s 5ms/step - loss: 0.0846 - accuracy: 0.9754 - val_loss: 0.1015 - val_accuracy: 0.9681\n",
            "Epoch 6/30\n",
            "1875/1875 [==============================] - 12s 6ms/step - loss: 0.0721 - accuracy: 0.9791 - val_loss: 0.0982 - val_accuracy: 0.9699\n",
            "Epoch 7/30\n",
            "1875/1875 [==============================] - 11s 6ms/step - loss: 0.0601 - accuracy: 0.9832 - val_loss: 0.0919 - val_accuracy: 0.9715\n",
            "Epoch 8/30\n",
            "1875/1875 [==============================] - 11s 6ms/step - loss: 0.0494 - accuracy: 0.9858 - val_loss: 0.0962 - val_accuracy: 0.9698\n",
            "Epoch 9/30\n",
            "1875/1875 [==============================] - 10s 6ms/step - loss: 0.0444 - accuracy: 0.9878 - val_loss: 0.0896 - val_accuracy: 0.9726\n",
            "Epoch 10/30\n",
            "1875/1875 [==============================] - 10s 5ms/step - loss: 0.0387 - accuracy: 0.9895 - val_loss: 0.0918 - val_accuracy: 0.9717\n",
            "Epoch 11/30\n",
            "1875/1875 [==============================] - 11s 6ms/step - loss: 0.0316 - accuracy: 0.9918 - val_loss: 0.0910 - val_accuracy: 0.9723\n",
            "Epoch 12/30\n",
            "1875/1875 [==============================] - 11s 6ms/step - loss: 0.0277 - accuracy: 0.9930 - val_loss: 0.0906 - val_accuracy: 0.9727\n"
          ]
        }
      ]
    },
    {
      "cell_type": "code",
      "source": [
        "loss, accuracy = model3.evaluate(X_test, y_test)\n",
        "print(\"loss: \", loss)\n",
        "print(\"Accuracy: \", accuracy)"
      ],
      "metadata": {
        "colab": {
          "base_uri": "https://localhost:8080/"
        },
        "id": "u92fNdLAKi_0",
        "outputId": "6e7f3085-5ab2-4f83-faae-01ab273f4b44"
      },
      "execution_count": 28,
      "outputs": [
        {
          "output_type": "stream",
          "name": "stdout",
          "text": [
            "313/313 [==============================] - 1s 3ms/step - loss: 0.0906 - accuracy: 0.9727\n",
            "loss:  0.09055305272340775\n",
            "Accuracy:  0.9726999998092651\n"
          ]
        }
      ]
    },
    {
      "cell_type": "code",
      "source": [],
      "metadata": {
        "id": "8v58vVTnL2sn"
      },
      "execution_count": null,
      "outputs": []
    }
  ]
}
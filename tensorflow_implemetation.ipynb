{
  "nbformat": 4,
  "nbformat_minor": 0,
  "metadata": {
    "colab": {
      "provenance": []
    },
    "kernelspec": {
      "name": "python3",
      "display_name": "Python 3"
    },
    "language_info": {
      "name": "python"
    }
  },
  "cells": [
    {
      "cell_type": "code",
      "execution_count": 1,
      "metadata": {
        "colab": {
          "base_uri": "https://localhost:8080/"
        },
        "id": "hI3xQO0D4o3l",
        "outputId": "0300c1ee-ad20-49e6-ac57-5eed161952c1"
      },
      "outputs": [
        {
          "output_type": "stream",
          "name": "stdout",
          "text": [
            "Requirement already satisfied: tensorflow in /usr/local/lib/python3.10/dist-packages (2.15.0)\n",
            "Requirement already satisfied: absl-py>=1.0.0 in /usr/local/lib/python3.10/dist-packages (from tensorflow) (1.4.0)\n",
            "Requirement already satisfied: astunparse>=1.6.0 in /usr/local/lib/python3.10/dist-packages (from tensorflow) (1.6.3)\n",
            "Requirement already satisfied: flatbuffers>=23.5.26 in /usr/local/lib/python3.10/dist-packages (from tensorflow) (24.3.25)\n",
            "Requirement already satisfied: gast!=0.5.0,!=0.5.1,!=0.5.2,>=0.2.1 in /usr/local/lib/python3.10/dist-packages (from tensorflow) (0.6.0)\n",
            "Requirement already satisfied: google-pasta>=0.1.1 in /usr/local/lib/python3.10/dist-packages (from tensorflow) (0.2.0)\n",
            "Requirement already satisfied: h5py>=2.9.0 in /usr/local/lib/python3.10/dist-packages (from tensorflow) (3.9.0)\n",
            "Requirement already satisfied: libclang>=13.0.0 in /usr/local/lib/python3.10/dist-packages (from tensorflow) (18.1.1)\n",
            "Requirement already satisfied: ml-dtypes~=0.2.0 in /usr/local/lib/python3.10/dist-packages (from tensorflow) (0.2.0)\n",
            "Requirement already satisfied: numpy<2.0.0,>=1.23.5 in /usr/local/lib/python3.10/dist-packages (from tensorflow) (1.25.2)\n",
            "Requirement already satisfied: opt-einsum>=2.3.2 in /usr/local/lib/python3.10/dist-packages (from tensorflow) (3.3.0)\n",
            "Requirement already satisfied: packaging in /usr/local/lib/python3.10/dist-packages (from tensorflow) (24.1)\n",
            "Requirement already satisfied: protobuf!=4.21.0,!=4.21.1,!=4.21.2,!=4.21.3,!=4.21.4,!=4.21.5,<5.0.0dev,>=3.20.3 in /usr/local/lib/python3.10/dist-packages (from tensorflow) (3.20.3)\n",
            "Requirement already satisfied: setuptools in /usr/local/lib/python3.10/dist-packages (from tensorflow) (67.7.2)\n",
            "Requirement already satisfied: six>=1.12.0 in /usr/local/lib/python3.10/dist-packages (from tensorflow) (1.16.0)\n",
            "Requirement already satisfied: termcolor>=1.1.0 in /usr/local/lib/python3.10/dist-packages (from tensorflow) (2.4.0)\n",
            "Requirement already satisfied: typing-extensions>=3.6.6 in /usr/local/lib/python3.10/dist-packages (from tensorflow) (4.12.2)\n",
            "Requirement already satisfied: wrapt<1.15,>=1.11.0 in /usr/local/lib/python3.10/dist-packages (from tensorflow) (1.14.1)\n",
            "Requirement already satisfied: tensorflow-io-gcs-filesystem>=0.23.1 in /usr/local/lib/python3.10/dist-packages (from tensorflow) (0.37.0)\n",
            "Requirement already satisfied: grpcio<2.0,>=1.24.3 in /usr/local/lib/python3.10/dist-packages (from tensorflow) (1.64.1)\n",
            "Requirement already satisfied: tensorboard<2.16,>=2.15 in /usr/local/lib/python3.10/dist-packages (from tensorflow) (2.15.2)\n",
            "Requirement already satisfied: tensorflow-estimator<2.16,>=2.15.0 in /usr/local/lib/python3.10/dist-packages (from tensorflow) (2.15.0)\n",
            "Requirement already satisfied: keras<2.16,>=2.15.0 in /usr/local/lib/python3.10/dist-packages (from tensorflow) (2.15.0)\n",
            "Requirement already satisfied: wheel<1.0,>=0.23.0 in /usr/local/lib/python3.10/dist-packages (from astunparse>=1.6.0->tensorflow) (0.43.0)\n",
            "Requirement already satisfied: google-auth<3,>=1.6.3 in /usr/local/lib/python3.10/dist-packages (from tensorboard<2.16,>=2.15->tensorflow) (2.27.0)\n",
            "Requirement already satisfied: google-auth-oauthlib<2,>=0.5 in /usr/local/lib/python3.10/dist-packages (from tensorboard<2.16,>=2.15->tensorflow) (1.2.0)\n",
            "Requirement already satisfied: markdown>=2.6.8 in /usr/local/lib/python3.10/dist-packages (from tensorboard<2.16,>=2.15->tensorflow) (3.6)\n",
            "Requirement already satisfied: requests<3,>=2.21.0 in /usr/local/lib/python3.10/dist-packages (from tensorboard<2.16,>=2.15->tensorflow) (2.31.0)\n",
            "Requirement already satisfied: tensorboard-data-server<0.8.0,>=0.7.0 in /usr/local/lib/python3.10/dist-packages (from tensorboard<2.16,>=2.15->tensorflow) (0.7.2)\n",
            "Requirement already satisfied: werkzeug>=1.0.1 in /usr/local/lib/python3.10/dist-packages (from tensorboard<2.16,>=2.15->tensorflow) (3.0.3)\n",
            "Requirement already satisfied: cachetools<6.0,>=2.0.0 in /usr/local/lib/python3.10/dist-packages (from google-auth<3,>=1.6.3->tensorboard<2.16,>=2.15->tensorflow) (5.3.3)\n",
            "Requirement already satisfied: pyasn1-modules>=0.2.1 in /usr/local/lib/python3.10/dist-packages (from google-auth<3,>=1.6.3->tensorboard<2.16,>=2.15->tensorflow) (0.4.0)\n",
            "Requirement already satisfied: rsa<5,>=3.1.4 in /usr/local/lib/python3.10/dist-packages (from google-auth<3,>=1.6.3->tensorboard<2.16,>=2.15->tensorflow) (4.9)\n",
            "Requirement already satisfied: requests-oauthlib>=0.7.0 in /usr/local/lib/python3.10/dist-packages (from google-auth-oauthlib<2,>=0.5->tensorboard<2.16,>=2.15->tensorflow) (1.3.1)\n",
            "Requirement already satisfied: charset-normalizer<4,>=2 in /usr/local/lib/python3.10/dist-packages (from requests<3,>=2.21.0->tensorboard<2.16,>=2.15->tensorflow) (3.3.2)\n",
            "Requirement already satisfied: idna<4,>=2.5 in /usr/local/lib/python3.10/dist-packages (from requests<3,>=2.21.0->tensorboard<2.16,>=2.15->tensorflow) (3.7)\n",
            "Requirement already satisfied: urllib3<3,>=1.21.1 in /usr/local/lib/python3.10/dist-packages (from requests<3,>=2.21.0->tensorboard<2.16,>=2.15->tensorflow) (2.0.7)\n",
            "Requirement already satisfied: certifi>=2017.4.17 in /usr/local/lib/python3.10/dist-packages (from requests<3,>=2.21.0->tensorboard<2.16,>=2.15->tensorflow) (2024.6.2)\n",
            "Requirement already satisfied: MarkupSafe>=2.1.1 in /usr/local/lib/python3.10/dist-packages (from werkzeug>=1.0.1->tensorboard<2.16,>=2.15->tensorflow) (2.1.5)\n",
            "Requirement already satisfied: pyasn1<0.7.0,>=0.4.6 in /usr/local/lib/python3.10/dist-packages (from pyasn1-modules>=0.2.1->google-auth<3,>=1.6.3->tensorboard<2.16,>=2.15->tensorflow) (0.6.0)\n",
            "Requirement already satisfied: oauthlib>=3.0.0 in /usr/local/lib/python3.10/dist-packages (from requests-oauthlib>=0.7.0->google-auth-oauthlib<2,>=0.5->tensorboard<2.16,>=2.15->tensorflow) (3.2.2)\n"
          ]
        }
      ],
      "source": [
        "pip install tensorflow"
      ]
    },
    {
      "cell_type": "code",
      "source": [
        "import tensorflow as tf\n",
        "\n",
        "# Step 1: Create matrix A using random_normal\n",
        "A = tf.random.normal(shape=(2, 2))\n",
        "print(\"Matrix A:\\n\", A)\n",
        "\n",
        "# Step 2: Create matrix B using truncated_normal\n",
        "B = tf.random.truncated_normal(shape=(2, 2))\n",
        "print(\"Matrix B:\\n\", B)\n",
        "\n",
        "# Step 3: Create matrix C using random.normal with mean=2 and stddev=0.1\n",
        "C = tf.random.normal(shape=(2, 2), mean=2, stddev=0.1)\n",
        "print(\"Matrix C:\\n\", C)\n",
        "\n",
        "# Step 4: Perform matrix addition A + B and store the result in D\n",
        "D = tf.add(A, B)\n",
        "print(\"Matrix D (A + B):\\n\", D)\n",
        "\n",
        "# Step 5: Perform matrix multiplication C * D and store the result in E\n",
        "E = tf.matmul(C, D)\n",
        "print(\"Matrix E (C * D):\\n\", E)"
      ],
      "metadata": {
        "colab": {
          "base_uri": "https://localhost:8080/"
        },
        "id": "uIBfoB0D4qtD",
        "outputId": "e3152866-9cb5-43cd-8571-df2561c067e3"
      },
      "execution_count": 2,
      "outputs": [
        {
          "output_type": "stream",
          "name": "stdout",
          "text": [
            "Matrix A:\n",
            " tf.Tensor(\n",
            "[[ 0.54638994 -0.18373139]\n",
            " [-1.541067   -0.17257476]], shape=(2, 2), dtype=float32)\n",
            "Matrix B:\n",
            " tf.Tensor(\n",
            "[[ 1.209704   -0.11185267]\n",
            " [ 0.02318727 -0.8189688 ]], shape=(2, 2), dtype=float32)\n",
            "Matrix C:\n",
            " tf.Tensor(\n",
            "[[1.8826077 2.0611537]\n",
            " [2.0231788 2.0703888]], shape=(2, 2), dtype=float32)\n",
            "Matrix D (A + B):\n",
            " tf.Tensor(\n",
            "[[ 1.756094   -0.29558405]\n",
            " [-1.5178797  -0.99154353]], shape=(2, 2), dtype=float32)\n",
            "Matrix E (C * D):\n",
            " tf.Tensor(\n",
            "[[ 0.17745256 -2.6001923 ]\n",
            " [ 0.41029096 -2.6509    ]], shape=(2, 2), dtype=float32)\n"
          ]
        }
      ]
    },
    {
      "cell_type": "markdown",
      "source": [
        "Let's proceed with the tasks using TensorFlow:\n",
        "\n",
        "Create a matrix F with dimensions 2x2, initialized with random values using TensorFlow's random_uniform function.\n",
        "\n",
        "Calculate the transpose of matrix F and store the result in matrix G.\n",
        "\n",
        "Calculate the element-wise exponential of matrix F and store the result in matrix H.\n",
        "\n",
        "Create a matrix I by concatenating matrix F and matrix G horizontally.\n",
        "\n",
        "Create a matrix J by concatenating matrix F and matrix H vertically.\n",
        "\n",
        "Here's the code to perform these tasks:"
      ],
      "metadata": {
        "id": "f3p9fZ-P5Fcu"
      }
    },
    {
      "cell_type": "code",
      "source": [
        "import tensorflow as tf\n",
        "\n",
        "# Step 1: Create matrix F using random_uniform\n",
        "F = tf.random.uniform(shape=(2, 2))\n",
        "print(\"Matrix F:\\n\", F)\n",
        "\n",
        "# Step 2: Calculate the transpose of matrix F and store the result in G\n",
        "G = tf.transpose(F)\n",
        "print(\"Matrix G (Transpose of F):\\n\", G)\n",
        "\n",
        "# Step 3: Calculate the element-wise exponential of matrix F and store the result in H\n",
        "H = tf.exp(F)\n",
        "print(\"Matrix H (Element-wise exponential of F):\\n\", H)\n",
        "\n",
        "# Step 4: Create matrix I by concatenating matrix F and G horizontally\n",
        "I = tf.concat([F, G], axis=1)\n",
        "print(\"Matrix I (Concatenation of F and G horizontally):\\n\", I)\n",
        "\n",
        "# Step 5: Create matrix J by concatenating matrix F and H vertically\n",
        "J = tf.concat([F, H], axis=0)\n",
        "print(\"Matrix J (Concatenation of F and H vertically):\\n\", J)\n"
      ],
      "metadata": {
        "colab": {
          "base_uri": "https://localhost:8080/"
        },
        "id": "k86dU1At43NY",
        "outputId": "0641b8dd-736b-498f-d28f-fa78f7395902"
      },
      "execution_count": 3,
      "outputs": [
        {
          "output_type": "stream",
          "name": "stdout",
          "text": [
            "Matrix F:\n",
            " tf.Tensor(\n",
            "[[0.91577995 0.66393924]\n",
            " [0.6803143  0.987972  ]], shape=(2, 2), dtype=float32)\n",
            "Matrix G (Transpose of F):\n",
            " tf.Tensor(\n",
            "[[0.91577995 0.6803143 ]\n",
            " [0.66393924 0.987972  ]], shape=(2, 2), dtype=float32)\n",
            "Matrix H (Element-wise exponential of F):\n",
            " tf.Tensor(\n",
            "[[2.4987233 1.942429 ]\n",
            " [1.9744983 2.6857822]], shape=(2, 2), dtype=float32)\n",
            "Matrix I (Concatenation of F and G horizontally):\n",
            " tf.Tensor(\n",
            "[[0.91577995 0.66393924 0.91577995 0.6803143 ]\n",
            " [0.6803143  0.987972   0.66393924 0.987972  ]], shape=(2, 4), dtype=float32)\n",
            "Matrix J (Concatenation of F and H vertically):\n",
            " tf.Tensor(\n",
            "[[0.91577995 0.66393924]\n",
            " [0.6803143  0.987972  ]\n",
            " [2.4987233  1.942429  ]\n",
            " [1.9744983  2.6857822 ]], shape=(4, 2), dtype=float32)\n"
          ]
        }
      ]
    },
    {
      "cell_type": "code",
      "source": [],
      "metadata": {
        "id": "EvyfS51d5Mv4"
      },
      "execution_count": null,
      "outputs": []
    }
  ]
}
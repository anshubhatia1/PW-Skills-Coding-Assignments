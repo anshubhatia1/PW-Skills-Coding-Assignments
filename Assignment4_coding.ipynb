{
 "cells": [
  {
   "cell_type": "markdown",
   "id": "3347d850",
   "metadata": {},
   "source": [
    " Build a random forest classifier to predict the risk of heart disease based on a dataset of patient \n",
    "information. The dataset contains 303 instances with 14 features, including age, sex, chest pain type, \n",
    "resting blood pressure, serum cholesterol, and maximum heart rate achieved."
   ]
  },
  {
   "cell_type": "code",
   "execution_count": 1,
   "id": "bd0869dd",
   "metadata": {},
   "outputs": [],
   "source": [
    "import pandas as pd\n",
    "import numpy as np\n",
    "import matplotlib.pyplot as plt\n",
    "import seaborn as sns"
   ]
  },
  {
   "cell_type": "code",
   "execution_count": 4,
   "id": "84946b80",
   "metadata": {},
   "outputs": [],
   "source": [
    "df = pd.read_csv(\"C:/Users/HP/Desktop/datascience/pw_skills/ensemble/dataset_assign4.csv\")"
   ]
  },
  {
   "cell_type": "code",
   "execution_count": 6,
   "id": "992d75c6",
   "metadata": {},
   "outputs": [
    {
     "data": {
      "text/html": [
       "<div>\n",
       "<style scoped>\n",
       "    .dataframe tbody tr th:only-of-type {\n",
       "        vertical-align: middle;\n",
       "    }\n",
       "\n",
       "    .dataframe tbody tr th {\n",
       "        vertical-align: top;\n",
       "    }\n",
       "\n",
       "    .dataframe thead th {\n",
       "        text-align: right;\n",
       "    }\n",
       "</style>\n",
       "<table border=\"1\" class=\"dataframe\">\n",
       "  <thead>\n",
       "    <tr style=\"text-align: right;\">\n",
       "      <th></th>\n",
       "      <th>age</th>\n",
       "      <th>sex</th>\n",
       "      <th>cp</th>\n",
       "      <th>trestbps</th>\n",
       "      <th>chol</th>\n",
       "      <th>fbs</th>\n",
       "      <th>restecg</th>\n",
       "      <th>thalach</th>\n",
       "      <th>exang</th>\n",
       "      <th>oldpeak</th>\n",
       "      <th>slope</th>\n",
       "      <th>ca</th>\n",
       "      <th>thal</th>\n",
       "      <th>target</th>\n",
       "    </tr>\n",
       "  </thead>\n",
       "  <tbody>\n",
       "    <tr>\n",
       "      <th>0</th>\n",
       "      <td>63</td>\n",
       "      <td>1</td>\n",
       "      <td>3</td>\n",
       "      <td>145</td>\n",
       "      <td>233</td>\n",
       "      <td>1</td>\n",
       "      <td>0</td>\n",
       "      <td>150</td>\n",
       "      <td>0</td>\n",
       "      <td>2.3</td>\n",
       "      <td>0</td>\n",
       "      <td>0</td>\n",
       "      <td>1</td>\n",
       "      <td>1</td>\n",
       "    </tr>\n",
       "    <tr>\n",
       "      <th>1</th>\n",
       "      <td>37</td>\n",
       "      <td>1</td>\n",
       "      <td>2</td>\n",
       "      <td>130</td>\n",
       "      <td>250</td>\n",
       "      <td>0</td>\n",
       "      <td>1</td>\n",
       "      <td>187</td>\n",
       "      <td>0</td>\n",
       "      <td>3.5</td>\n",
       "      <td>0</td>\n",
       "      <td>0</td>\n",
       "      <td>2</td>\n",
       "      <td>1</td>\n",
       "    </tr>\n",
       "    <tr>\n",
       "      <th>2</th>\n",
       "      <td>41</td>\n",
       "      <td>0</td>\n",
       "      <td>1</td>\n",
       "      <td>130</td>\n",
       "      <td>204</td>\n",
       "      <td>0</td>\n",
       "      <td>0</td>\n",
       "      <td>172</td>\n",
       "      <td>0</td>\n",
       "      <td>1.4</td>\n",
       "      <td>2</td>\n",
       "      <td>0</td>\n",
       "      <td>2</td>\n",
       "      <td>1</td>\n",
       "    </tr>\n",
       "    <tr>\n",
       "      <th>3</th>\n",
       "      <td>56</td>\n",
       "      <td>1</td>\n",
       "      <td>1</td>\n",
       "      <td>120</td>\n",
       "      <td>236</td>\n",
       "      <td>0</td>\n",
       "      <td>1</td>\n",
       "      <td>178</td>\n",
       "      <td>0</td>\n",
       "      <td>0.8</td>\n",
       "      <td>2</td>\n",
       "      <td>0</td>\n",
       "      <td>2</td>\n",
       "      <td>1</td>\n",
       "    </tr>\n",
       "    <tr>\n",
       "      <th>4</th>\n",
       "      <td>57</td>\n",
       "      <td>0</td>\n",
       "      <td>0</td>\n",
       "      <td>120</td>\n",
       "      <td>354</td>\n",
       "      <td>0</td>\n",
       "      <td>1</td>\n",
       "      <td>163</td>\n",
       "      <td>1</td>\n",
       "      <td>0.6</td>\n",
       "      <td>2</td>\n",
       "      <td>0</td>\n",
       "      <td>2</td>\n",
       "      <td>1</td>\n",
       "    </tr>\n",
       "  </tbody>\n",
       "</table>\n",
       "</div>"
      ],
      "text/plain": [
       "   age  sex  cp  trestbps  chol  fbs  restecg  thalach  exang  oldpeak  slope  \\\n",
       "0   63    1   3       145   233    1        0      150      0      2.3      0   \n",
       "1   37    1   2       130   250    0        1      187      0      3.5      0   \n",
       "2   41    0   1       130   204    0        0      172      0      1.4      2   \n",
       "3   56    1   1       120   236    0        1      178      0      0.8      2   \n",
       "4   57    0   0       120   354    0        1      163      1      0.6      2   \n",
       "\n",
       "   ca  thal  target  \n",
       "0   0     1       1  \n",
       "1   0     2       1  \n",
       "2   0     2       1  \n",
       "3   0     2       1  \n",
       "4   0     2       1  "
      ]
     },
     "execution_count": 6,
     "metadata": {},
     "output_type": "execute_result"
    }
   ],
   "source": [
    "df.head()"
   ]
  },
  {
   "cell_type": "code",
   "execution_count": 10,
   "id": "ca8c0836",
   "metadata": {},
   "outputs": [
    {
     "data": {
      "text/plain": [
       "14"
      ]
     },
     "execution_count": 10,
     "metadata": {},
     "output_type": "execute_result"
    }
   ],
   "source": [
    "len(df.columns)"
   ]
  },
  {
   "cell_type": "code",
   "execution_count": 8,
   "id": "282398f1",
   "metadata": {},
   "outputs": [
    {
     "name": "stdout",
     "output_type": "stream",
     "text": [
      "<class 'pandas.core.frame.DataFrame'>\n",
      "RangeIndex: 303 entries, 0 to 302\n",
      "Data columns (total 14 columns):\n",
      " #   Column    Non-Null Count  Dtype  \n",
      "---  ------    --------------  -----  \n",
      " 0   age       303 non-null    int64  \n",
      " 1   sex       303 non-null    int64  \n",
      " 2   cp        303 non-null    int64  \n",
      " 3   trestbps  303 non-null    int64  \n",
      " 4   chol      303 non-null    int64  \n",
      " 5   fbs       303 non-null    int64  \n",
      " 6   restecg   303 non-null    int64  \n",
      " 7   thalach   303 non-null    int64  \n",
      " 8   exang     303 non-null    int64  \n",
      " 9   oldpeak   303 non-null    float64\n",
      " 10  slope     303 non-null    int64  \n",
      " 11  ca        303 non-null    int64  \n",
      " 12  thal      303 non-null    int64  \n",
      " 13  target    303 non-null    int64  \n",
      "dtypes: float64(1), int64(13)\n",
      "memory usage: 33.3 KB\n"
     ]
    }
   ],
   "source": [
    "df.info()"
   ]
  },
  {
   "cell_type": "markdown",
   "id": "c07e4031",
   "metadata": {},
   "source": [
    "Note- All the columns are Numeric. They are either int or float. No categorical column"
   ]
  },
  {
   "cell_type": "code",
   "execution_count": 9,
   "id": "3c4c2207",
   "metadata": {},
   "outputs": [
    {
     "data": {
      "text/html": [
       "<div>\n",
       "<style scoped>\n",
       "    .dataframe tbody tr th:only-of-type {\n",
       "        vertical-align: middle;\n",
       "    }\n",
       "\n",
       "    .dataframe tbody tr th {\n",
       "        vertical-align: top;\n",
       "    }\n",
       "\n",
       "    .dataframe thead th {\n",
       "        text-align: right;\n",
       "    }\n",
       "</style>\n",
       "<table border=\"1\" class=\"dataframe\">\n",
       "  <thead>\n",
       "    <tr style=\"text-align: right;\">\n",
       "      <th></th>\n",
       "      <th>age</th>\n",
       "      <th>sex</th>\n",
       "      <th>cp</th>\n",
       "      <th>trestbps</th>\n",
       "      <th>chol</th>\n",
       "      <th>fbs</th>\n",
       "      <th>restecg</th>\n",
       "      <th>thalach</th>\n",
       "      <th>exang</th>\n",
       "      <th>oldpeak</th>\n",
       "      <th>slope</th>\n",
       "      <th>ca</th>\n",
       "      <th>thal</th>\n",
       "      <th>target</th>\n",
       "    </tr>\n",
       "  </thead>\n",
       "  <tbody>\n",
       "    <tr>\n",
       "      <th>count</th>\n",
       "      <td>303.000000</td>\n",
       "      <td>303.000000</td>\n",
       "      <td>303.000000</td>\n",
       "      <td>303.000000</td>\n",
       "      <td>303.000000</td>\n",
       "      <td>303.000000</td>\n",
       "      <td>303.000000</td>\n",
       "      <td>303.000000</td>\n",
       "      <td>303.000000</td>\n",
       "      <td>303.000000</td>\n",
       "      <td>303.000000</td>\n",
       "      <td>303.000000</td>\n",
       "      <td>303.000000</td>\n",
       "      <td>303.000000</td>\n",
       "    </tr>\n",
       "    <tr>\n",
       "      <th>mean</th>\n",
       "      <td>54.366337</td>\n",
       "      <td>0.683168</td>\n",
       "      <td>0.966997</td>\n",
       "      <td>131.623762</td>\n",
       "      <td>246.264026</td>\n",
       "      <td>0.148515</td>\n",
       "      <td>0.528053</td>\n",
       "      <td>149.646865</td>\n",
       "      <td>0.326733</td>\n",
       "      <td>1.039604</td>\n",
       "      <td>1.399340</td>\n",
       "      <td>0.729373</td>\n",
       "      <td>2.313531</td>\n",
       "      <td>0.544554</td>\n",
       "    </tr>\n",
       "    <tr>\n",
       "      <th>std</th>\n",
       "      <td>9.082101</td>\n",
       "      <td>0.466011</td>\n",
       "      <td>1.032052</td>\n",
       "      <td>17.538143</td>\n",
       "      <td>51.830751</td>\n",
       "      <td>0.356198</td>\n",
       "      <td>0.525860</td>\n",
       "      <td>22.905161</td>\n",
       "      <td>0.469794</td>\n",
       "      <td>1.161075</td>\n",
       "      <td>0.616226</td>\n",
       "      <td>1.022606</td>\n",
       "      <td>0.612277</td>\n",
       "      <td>0.498835</td>\n",
       "    </tr>\n",
       "    <tr>\n",
       "      <th>min</th>\n",
       "      <td>29.000000</td>\n",
       "      <td>0.000000</td>\n",
       "      <td>0.000000</td>\n",
       "      <td>94.000000</td>\n",
       "      <td>126.000000</td>\n",
       "      <td>0.000000</td>\n",
       "      <td>0.000000</td>\n",
       "      <td>71.000000</td>\n",
       "      <td>0.000000</td>\n",
       "      <td>0.000000</td>\n",
       "      <td>0.000000</td>\n",
       "      <td>0.000000</td>\n",
       "      <td>0.000000</td>\n",
       "      <td>0.000000</td>\n",
       "    </tr>\n",
       "    <tr>\n",
       "      <th>25%</th>\n",
       "      <td>47.500000</td>\n",
       "      <td>0.000000</td>\n",
       "      <td>0.000000</td>\n",
       "      <td>120.000000</td>\n",
       "      <td>211.000000</td>\n",
       "      <td>0.000000</td>\n",
       "      <td>0.000000</td>\n",
       "      <td>133.500000</td>\n",
       "      <td>0.000000</td>\n",
       "      <td>0.000000</td>\n",
       "      <td>1.000000</td>\n",
       "      <td>0.000000</td>\n",
       "      <td>2.000000</td>\n",
       "      <td>0.000000</td>\n",
       "    </tr>\n",
       "    <tr>\n",
       "      <th>50%</th>\n",
       "      <td>55.000000</td>\n",
       "      <td>1.000000</td>\n",
       "      <td>1.000000</td>\n",
       "      <td>130.000000</td>\n",
       "      <td>240.000000</td>\n",
       "      <td>0.000000</td>\n",
       "      <td>1.000000</td>\n",
       "      <td>153.000000</td>\n",
       "      <td>0.000000</td>\n",
       "      <td>0.800000</td>\n",
       "      <td>1.000000</td>\n",
       "      <td>0.000000</td>\n",
       "      <td>2.000000</td>\n",
       "      <td>1.000000</td>\n",
       "    </tr>\n",
       "    <tr>\n",
       "      <th>75%</th>\n",
       "      <td>61.000000</td>\n",
       "      <td>1.000000</td>\n",
       "      <td>2.000000</td>\n",
       "      <td>140.000000</td>\n",
       "      <td>274.500000</td>\n",
       "      <td>0.000000</td>\n",
       "      <td>1.000000</td>\n",
       "      <td>166.000000</td>\n",
       "      <td>1.000000</td>\n",
       "      <td>1.600000</td>\n",
       "      <td>2.000000</td>\n",
       "      <td>1.000000</td>\n",
       "      <td>3.000000</td>\n",
       "      <td>1.000000</td>\n",
       "    </tr>\n",
       "    <tr>\n",
       "      <th>max</th>\n",
       "      <td>77.000000</td>\n",
       "      <td>1.000000</td>\n",
       "      <td>3.000000</td>\n",
       "      <td>200.000000</td>\n",
       "      <td>564.000000</td>\n",
       "      <td>1.000000</td>\n",
       "      <td>2.000000</td>\n",
       "      <td>202.000000</td>\n",
       "      <td>1.000000</td>\n",
       "      <td>6.200000</td>\n",
       "      <td>2.000000</td>\n",
       "      <td>4.000000</td>\n",
       "      <td>3.000000</td>\n",
       "      <td>1.000000</td>\n",
       "    </tr>\n",
       "  </tbody>\n",
       "</table>\n",
       "</div>"
      ],
      "text/plain": [
       "              age         sex          cp    trestbps        chol         fbs  \\\n",
       "count  303.000000  303.000000  303.000000  303.000000  303.000000  303.000000   \n",
       "mean    54.366337    0.683168    0.966997  131.623762  246.264026    0.148515   \n",
       "std      9.082101    0.466011    1.032052   17.538143   51.830751    0.356198   \n",
       "min     29.000000    0.000000    0.000000   94.000000  126.000000    0.000000   \n",
       "25%     47.500000    0.000000    0.000000  120.000000  211.000000    0.000000   \n",
       "50%     55.000000    1.000000    1.000000  130.000000  240.000000    0.000000   \n",
       "75%     61.000000    1.000000    2.000000  140.000000  274.500000    0.000000   \n",
       "max     77.000000    1.000000    3.000000  200.000000  564.000000    1.000000   \n",
       "\n",
       "          restecg     thalach       exang     oldpeak       slope          ca  \\\n",
       "count  303.000000  303.000000  303.000000  303.000000  303.000000  303.000000   \n",
       "mean     0.528053  149.646865    0.326733    1.039604    1.399340    0.729373   \n",
       "std      0.525860   22.905161    0.469794    1.161075    0.616226    1.022606   \n",
       "min      0.000000   71.000000    0.000000    0.000000    0.000000    0.000000   \n",
       "25%      0.000000  133.500000    0.000000    0.000000    1.000000    0.000000   \n",
       "50%      1.000000  153.000000    0.000000    0.800000    1.000000    0.000000   \n",
       "75%      1.000000  166.000000    1.000000    1.600000    2.000000    1.000000   \n",
       "max      2.000000  202.000000    1.000000    6.200000    2.000000    4.000000   \n",
       "\n",
       "             thal      target  \n",
       "count  303.000000  303.000000  \n",
       "mean     2.313531    0.544554  \n",
       "std      0.612277    0.498835  \n",
       "min      0.000000    0.000000  \n",
       "25%      2.000000    0.000000  \n",
       "50%      2.000000    1.000000  \n",
       "75%      3.000000    1.000000  \n",
       "max      3.000000    1.000000  "
      ]
     },
     "execution_count": 9,
     "metadata": {},
     "output_type": "execute_result"
    }
   ],
   "source": [
    "df.describe()"
   ]
  },
  {
   "cell_type": "code",
   "execution_count": 11,
   "id": "4748556b",
   "metadata": {},
   "outputs": [
    {
     "data": {
      "text/plain": [
       "age         0\n",
       "sex         0\n",
       "cp          0\n",
       "trestbps    0\n",
       "chol        0\n",
       "fbs         0\n",
       "restecg     0\n",
       "thalach     0\n",
       "exang       0\n",
       "oldpeak     0\n",
       "slope       0\n",
       "ca          0\n",
       "thal        0\n",
       "target      0\n",
       "dtype: int64"
      ]
     },
     "execution_count": 11,
     "metadata": {},
     "output_type": "execute_result"
    }
   ],
   "source": [
    "df.isnull().sum()"
   ]
  },
  {
   "cell_type": "markdown",
   "id": "3f7dcb9f",
   "metadata": {},
   "source": [
    "There are no missing values in this dataset"
   ]
  },
  {
   "cell_type": "code",
   "execution_count": 22,
   "id": "003feb32",
   "metadata": {},
   "outputs": [
    {
     "data": {
      "text/plain": [
       "Index(['age', 'sex', 'cp', 'trestbps', 'chol', 'fbs', 'restecg', 'thalach',\n",
       "       'exang', 'oldpeak', 'slope', 'ca', 'thal', 'target'],\n",
       "      dtype='object')"
      ]
     },
     "execution_count": 22,
     "metadata": {},
     "output_type": "execute_result"
    }
   ],
   "source": [
    "df.columns"
   ]
  },
  {
   "cell_type": "code",
   "execution_count": 21,
   "id": "ec830f43",
   "metadata": {},
   "outputs": [],
   "source": [
    "def plot_boxplot(df,feature):\n",
    "    df.boxplot(column=[feature])\n",
    "    plt.grid(False)\n",
    "    plt.show()"
   ]
  },
  {
   "cell_type": "code",
   "execution_count": 29,
   "id": "7730a587",
   "metadata": {},
   "outputs": [
    {
     "data": {
      "image/png": "[encoded data removed]",
      "text/plain": [
       "<Figure size 432x288 with 1 Axes>"
      ]
     },
     "metadata": {
      "needs_background": "light"
     },
     "output_type": "display_data"
    }
   ],
   "source": [
    "plot_boxplot(df,\"trestbps\")"
   ]
  },
  {
   "cell_type": "code",
   "execution_count": 33,
   "id": "a2cc9422",
   "metadata": {},
   "outputs": [],
   "source": [
    "df.columns\n",
    "X = df.drop(['target'], axis = 1)\n",
    "y = df['target']"
   ]
  },
  {
   "cell_type": "code",
   "execution_count": 37,
   "id": "6d71d203",
   "metadata": {},
   "outputs": [
    {
     "data": {
      "text/plain": [
       "1    165\n",
       "0    138\n",
       "Name: target, dtype: int64"
      ]
     },
     "execution_count": 37,
     "metadata": {},
     "output_type": "execute_result"
    }
   ],
   "source": [
    "y.value_counts()\n",
    "##almost balanced dataset"
   ]
  },
  {
   "cell_type": "markdown",
   "id": "91f906bc",
   "metadata": {},
   "source": [
    "## Q2. Split the dataset into a training set (70%) and a test set (30%)."
   ]
  },
  {
   "cell_type": "code",
   "execution_count": 39,
   "id": "d966a01e",
   "metadata": {},
   "outputs": [
    {
     "name": "stdout",
     "output_type": "stream",
     "text": [
      "X_train shape:  (212, 13)\n",
      "X_test shape:  (91, 13)\n",
      "y_train shape:  (212,)\n",
      "y_test shape:  (91,)\n"
     ]
    }
   ],
   "source": [
    "from sklearn.model_selection import train_test_split\n",
    "X_train, X_test, y_train, y_test = train_test_split( X, y, test_size=0.3, random_state=42)\n",
    "print(\"X_train shape: \",X_train.shape)\n",
    "print(\"X_test shape: \",X_test.shape)\n",
    "print(\"y_train shape: \",y_train.shape)\n",
    "print(\"y_test shape: \",y_test.shape)"
   ]
  },
  {
   "cell_type": "code",
   "execution_count": 13,
   "id": "d30c9a20",
   "metadata": {},
   "outputs": [],
   "source": [
    "from sklearn.preprocessing import StandardScaler"
   ]
  },
  {
   "cell_type": "code",
   "execution_count": 14,
   "id": "5318668f",
   "metadata": {},
   "outputs": [],
   "source": [
    "scaler = StandardScaler()"
   ]
  },
  {
   "cell_type": "code",
   "execution_count": 40,
   "id": "b831661c",
   "metadata": {},
   "outputs": [],
   "source": [
    "scaled_X_train = scaler.fit_transform(X_train)\n",
    "scaled_X_test = scaler.fit_transform(X_test)"
   ]
  },
  {
   "cell_type": "code",
   "execution_count": 41,
   "id": "13131319",
   "metadata": {},
   "outputs": [
    {
     "data": {
      "text/plain": [
       "array([[-1.67339636, -1.39443338,  0.95280942, ...,  0.955317  ,\n",
       "        -0.67629057, -0.54888242],\n",
       "       [-2.76362385,  0.71713717, -0.01367669, ...,  0.955317  ,\n",
       "        -0.67629057, -0.54888242],\n",
       "       [-0.47414611, -1.39443338,  0.95280942, ..., -0.67796691,\n",
       "        -0.67629057, -0.54888242],\n",
       "       ...,\n",
       "       [ 1.59728613,  0.71713717,  1.91929553, ..., -0.67796691,\n",
       "         0.37792709, -0.54888242],\n",
       "       [-0.91023711,  0.71713717, -0.9801628 , ...,  0.955317  ,\n",
       "        -0.67629057,  1.13753893],\n",
       "       [ 0.94314964, -1.39443338, -0.01367669, ...,  0.955317  ,\n",
       "         1.43214475, -0.54888242]])"
      ]
     },
     "execution_count": 41,
     "metadata": {},
     "output_type": "execute_result"
    }
   ],
   "source": [
    "scaled_X_train"
   ]
  },
  {
   "cell_type": "markdown",
   "id": "67fe3d33",
   "metadata": {},
   "source": [
    "## Q1. Preprocess the dataset by handling missing values, encoding categorical variables, and scaling the numerical features if necessary."
   ]
  },
  {
   "cell_type": "markdown",
   "id": "60aded4e",
   "metadata": {},
   "source": [
    "No missing values, categorical variables, and scaling done"
   ]
  },
  {
   "cell_type": "markdown",
   "id": "b84ef58f",
   "metadata": {},
   "source": [
    "## Q3. Train a random forest classifier on the training set using 100 trees and a maximum depth of 10 for each tree. Use the default values for other hyperparameters."
   ]
  },
  {
   "cell_type": "code",
   "execution_count": 44,
   "id": "c0ddc4ef",
   "metadata": {},
   "outputs": [],
   "source": [
    "from sklearn.ensemble import RandomForestClassifier"
   ]
  },
  {
   "cell_type": "code",
   "execution_count": 46,
   "id": "0ff4becb",
   "metadata": {},
   "outputs": [],
   "source": [
    "# Use 40 random trees\n",
    "rfc = RandomForestClassifier(n_estimators=100,max_depth=10, random_state=101)"
   ]
  },
  {
   "cell_type": "code",
   "execution_count": 47,
   "id": "21c213e1",
   "metadata": {},
   "outputs": [
    {
     "data": {
      "text/plain": [
       "RandomForestClassifier(max_depth=10, random_state=101)"
      ]
     },
     "execution_count": 47,
     "metadata": {},
     "output_type": "execute_result"
    }
   ],
   "source": [
    "rfc.fit(scaled_X_train,y_train)"
   ]
  },
  {
   "cell_type": "code",
   "execution_count": 48,
   "id": "1472bfb0",
   "metadata": {},
   "outputs": [],
   "source": [
    "pred = rfc.predict(scaled_X_test)"
   ]
  },
  {
   "cell_type": "markdown",
   "id": "b0029877",
   "metadata": {},
   "source": [
    "## Q4. Evaluate the performance of the model on the test set using accuracy, precision, recall, and F1 score. "
   ]
  },
  {
   "cell_type": "code",
   "execution_count": 49,
   "id": "bb2be9fb",
   "metadata": {},
   "outputs": [],
   "source": [
    "from sklearn.metrics import confusion_matrix,classification_report,plot_confusion_matrix,accuracy_score"
   ]
  },
  {
   "cell_type": "code",
   "execution_count": 50,
   "id": "2eacd004",
   "metadata": {},
   "outputs": [
    {
     "data": {
      "text/plain": [
       "array([[33,  8],\n",
       "       [ 7, 43]], dtype=int64)"
      ]
     },
     "execution_count": 50,
     "metadata": {},
     "output_type": "execute_result"
    }
   ],
   "source": [
    "confusion_matrix(y_test,pred)"
   ]
  },
  {
   "cell_type": "code",
   "execution_count": 51,
   "id": "a3ad158c",
   "metadata": {},
   "outputs": [
    {
     "name": "stdout",
     "output_type": "stream",
     "text": [
      "              precision    recall  f1-score   support\n",
      "\n",
      "           0       0.82      0.80      0.81        41\n",
      "           1       0.84      0.86      0.85        50\n",
      "\n",
      "    accuracy                           0.84        91\n",
      "   macro avg       0.83      0.83      0.83        91\n",
      "weighted avg       0.83      0.84      0.83        91\n",
      "\n"
     ]
    }
   ],
   "source": [
    "print(classification_report(y_test,pred))"
   ]
  },
  {
   "cell_type": "markdown",
   "id": "6cfbccc7",
   "metadata": {},
   "source": [
    "## Q5. Use the feature importance scores to identify the top 5 most important features in predicting heart ## disease risk. Visualise the feature importances using a bar chart."
   ]
  },
  {
   "cell_type": "code",
   "execution_count": 52,
   "id": "d87fcf94",
   "metadata": {},
   "outputs": [
    {
     "data": {
      "text/plain": [
       "array([0.0803787 , 0.03552816, 0.12345923, 0.07389125, 0.07305583,\n",
       "       0.01367128, 0.01816764, 0.11190993, 0.06334849, 0.11296701,\n",
       "       0.05008914, 0.13052498, 0.11300836])"
      ]
     },
     "execution_count": 52,
     "metadata": {},
     "output_type": "execute_result"
    }
   ],
   "source": [
    "rfc.feature_importances_"
   ]
  },
  {
   "cell_type": "code",
   "execution_count": 56,
   "id": "f2359042",
   "metadata": {},
   "outputs": [],
   "source": [
    "#Get the indices of the top 5 most important features\n",
    "top5_indices = rfc.feature_importances_.argsort()[-5:][::-1]"
   ]
  },
  {
   "cell_type": "code",
   "execution_count": 58,
   "id": "d55409a4",
   "metadata": {},
   "outputs": [],
   "source": [
    "# Get the names of the top 5 most important features\n",
    "top5_features = [X.columns[i] for i in top5_indices]"
   ]
  },
  {
   "cell_type": "code",
   "execution_count": 59,
   "id": "06167bd6",
   "metadata": {},
   "outputs": [
    {
     "data": {
      "text/plain": [
       "['ca', 'cp', 'thal', 'oldpeak', 'thalach']"
      ]
     },
     "execution_count": 59,
     "metadata": {},
     "output_type": "execute_result"
    }
   ],
   "source": [
    "top5_features"
   ]
  },
  {
   "cell_type": "code",
   "execution_count": 61,
   "id": "fb25ac10",
   "metadata": {},
   "outputs": [
    {
     "data": {
      "image/png": "[encoded data removed]",
      "text/plain": [
       "<Figure size 720x432 with 1 Axes>"
      ]
     },
     "metadata": {
      "needs_background": "light"
     },
     "output_type": "display_data"
    }
   ],
   "source": [
    "# Plotting feature importances\n",
    "plt.figure(figsize=(10, 6))\n",
    "plt.bar(top5_features, rfc.feature_importances_[top5_indices], color='skyblue')\n",
    "plt.xlabel('Features')\n",
    "plt.ylabel('Feature Importance')\n",
    "plt.title('Top 5 Most Important Features')\n",
    "plt.xticks(rotation=45, ha='right')\n",
    "plt.tight_layout()\n",
    "plt.show()"
   ]
  },
  {
   "cell_type": "markdown",
   "id": "d7e2e30d",
   "metadata": {},
   "source": [
    "## Q6. Tune the hyperparameters of the random forest classifier using grid search or random search. Try different values of the number of trees, maximum depth, minimum samples split, and minimum samples leaf. Use 5-fold cross-validation to evaluate the performance of each set of hyperparameters."
   ]
  },
  {
   "cell_type": "code",
   "execution_count": 62,
   "id": "791191f0",
   "metadata": {},
   "outputs": [],
   "source": [
    "## Hypeparameter Tuning\n",
    "params={'max_depth':[3,5,10],\n",
    "        'min_samples_split': [2,5,10,15,20],\n",
    "        'min_samples_leaf': [2,5,10,20],\n",
    "        'n_estimators':[50,75, 100],\n",
    "        'criterion':['gini','entropy']\n",
    "        }"
   ]
  },
  {
   "cell_type": "code",
   "execution_count": 63,
   "id": "1bc2d61e",
   "metadata": {},
   "outputs": [],
   "source": [
    "from sklearn.model_selection import RandomizedSearchCV"
   ]
  },
  {
   "cell_type": "code",
   "execution_count": 64,
   "id": "6d781531",
   "metadata": {},
   "outputs": [
    {
     "name": "stdout",
     "output_type": "stream",
     "text": [
      "Fitting 5 folds for each of 10 candidates, totalling 50 fits\n",
      "[CV 1/5] END criterion=gini, max_depth=5, min_samples_leaf=20, min_samples_split=15, n_estimators=100;, score=0.907 total time=   0.0s\n",
      "[CV 2/5] END criterion=gini, max_depth=5, min_samples_leaf=20, min_samples_split=15, n_estimators=100;, score=0.860 total time=   0.0s\n",
      "[CV 3/5] END criterion=gini, max_depth=5, min_samples_leaf=20, min_samples_split=15, n_estimators=100;, score=0.738 total time=   0.0s\n",
      "[CV 4/5] END criterion=gini, max_depth=5, min_samples_leaf=20, min_samples_split=15, n_estimators=100;, score=0.881 total time=   0.0s\n",
      "[CV 5/5] END criterion=gini, max_depth=5, min_samples_leaf=20, min_samples_split=15, n_estimators=100;, score=0.762 total time=   0.0s\n",
      "[CV 1/5] END criterion=gini, max_depth=5, min_samples_leaf=10, min_samples_split=15, n_estimators=100;, score=0.884 total time=   0.0s\n",
      "[CV 2/5] END criterion=gini, max_depth=5, min_samples_leaf=10, min_samples_split=15, n_estimators=100;, score=0.860 total time=   0.0s\n",
      "[CV 3/5] END criterion=gini, max_depth=5, min_samples_leaf=10, min_samples_split=15, n_estimators=100;, score=0.738 total time=   0.0s\n",
      "[CV 4/5] END criterion=gini, max_depth=5, min_samples_leaf=10, min_samples_split=15, n_estimators=100;, score=0.905 total time=   0.0s\n",
      "[CV 5/5] END criterion=gini, max_depth=5, min_samples_leaf=10, min_samples_split=15, n_estimators=100;, score=0.738 total time=   0.0s\n",
      "[CV 1/5] END criterion=gini, max_depth=5, min_samples_leaf=2, min_samples_split=5, n_estimators=100;, score=0.860 total time=   0.0s\n",
      "[CV 2/5] END criterion=gini, max_depth=5, min_samples_leaf=2, min_samples_split=5, n_estimators=100;, score=0.837 total time=   0.0s\n",
      "[CV 3/5] END criterion=gini, max_depth=5, min_samples_leaf=2, min_samples_split=5, n_estimators=100;, score=0.714 total time=   0.0s\n",
      "[CV 4/5] END criterion=gini, max_depth=5, min_samples_leaf=2, min_samples_split=5, n_estimators=100;, score=0.881 total time=   0.0s\n",
      "[CV 5/5] END criterion=gini, max_depth=5, min_samples_leaf=2, min_samples_split=5, n_estimators=100;, score=0.738 total time=   0.0s\n",
      "[CV 1/5] END criterion=entropy, max_depth=3, min_samples_leaf=10, min_samples_split=2, n_estimators=100;, score=0.907 total time=   0.0s\n",
      "[CV 2/5] END criterion=entropy, max_depth=3, min_samples_leaf=10, min_samples_split=2, n_estimators=100;, score=0.860 total time=   0.0s\n",
      "[CV 3/5] END criterion=entropy, max_depth=3, min_samples_leaf=10, min_samples_split=2, n_estimators=100;, score=0.738 total time=   0.0s\n",
      "[CV 4/5] END criterion=entropy, max_depth=3, min_samples_leaf=10, min_samples_split=2, n_estimators=100;, score=0.905 total time=   0.0s\n",
      "[CV 5/5] END criterion=entropy, max_depth=3, min_samples_leaf=10, min_samples_split=2, n_estimators=100;, score=0.762 total time=   0.0s\n",
      "[CV 1/5] END criterion=gini, max_depth=10, min_samples_leaf=20, min_samples_split=5, n_estimators=75;, score=0.907 total time=   0.0s\n",
      "[CV 2/5] END criterion=gini, max_depth=10, min_samples_leaf=20, min_samples_split=5, n_estimators=75;, score=0.860 total time=   0.0s\n",
      "[CV 3/5] END criterion=gini, max_depth=10, min_samples_leaf=20, min_samples_split=5, n_estimators=75;, score=0.714 total time=   0.0s\n",
      "[CV 4/5] END criterion=gini, max_depth=10, min_samples_leaf=20, min_samples_split=5, n_estimators=75;, score=0.881 total time=   0.0s\n",
      "[CV 5/5] END criterion=gini, max_depth=10, min_samples_leaf=20, min_samples_split=5, n_estimators=75;, score=0.786 total time=   0.0s\n",
      "[CV 1/5] END criterion=entropy, max_depth=5, min_samples_leaf=20, min_samples_split=20, n_estimators=75;, score=0.907 total time=   0.0s\n",
      "[CV 2/5] END criterion=entropy, max_depth=5, min_samples_leaf=20, min_samples_split=20, n_estimators=75;, score=0.860 total time=   0.0s\n",
      "[CV 3/5] END criterion=entropy, max_depth=5, min_samples_leaf=20, min_samples_split=20, n_estimators=75;, score=0.762 total time=   0.0s\n",
      "[CV 4/5] END criterion=entropy, max_depth=5, min_samples_leaf=20, min_samples_split=20, n_estimators=75;, score=0.881 total time=   0.0s\n",
      "[CV 5/5] END criterion=entropy, max_depth=5, min_samples_leaf=20, min_samples_split=20, n_estimators=75;, score=0.786 total time=   0.0s\n",
      "[CV 1/5] END criterion=gini, max_depth=5, min_samples_leaf=5, min_samples_split=2, n_estimators=100;, score=0.860 total time=   0.0s\n",
      "[CV 2/5] END criterion=gini, max_depth=5, min_samples_leaf=5, min_samples_split=2, n_estimators=100;, score=0.837 total time=   0.0s\n",
      "[CV 3/5] END criterion=gini, max_depth=5, min_samples_leaf=5, min_samples_split=2, n_estimators=100;, score=0.690 total time=   0.0s\n",
      "[CV 4/5] END criterion=gini, max_depth=5, min_samples_leaf=5, min_samples_split=2, n_estimators=100;, score=0.905 total time=   0.0s\n",
      "[CV 5/5] END criterion=gini, max_depth=5, min_samples_leaf=5, min_samples_split=2, n_estimators=100;, score=0.762 total time=   0.0s\n",
      "[CV 1/5] END criterion=gini, max_depth=3, min_samples_leaf=20, min_samples_split=20, n_estimators=50;, score=0.907 total time=   0.0s\n",
      "[CV 2/5] END criterion=gini, max_depth=3, min_samples_leaf=20, min_samples_split=20, n_estimators=50;, score=0.860 total time=   0.0s\n",
      "[CV 3/5] END criterion=gini, max_depth=3, min_samples_leaf=20, min_samples_split=20, n_estimators=50;, score=0.762 total time=   0.0s\n",
      "[CV 4/5] END criterion=gini, max_depth=3, min_samples_leaf=20, min_samples_split=20, n_estimators=50;, score=0.881 total time=   0.0s\n",
      "[CV 5/5] END criterion=gini, max_depth=3, min_samples_leaf=20, min_samples_split=20, n_estimators=50;, score=0.810 total time=   0.0s\n",
      "[CV 1/5] END criterion=entropy, max_depth=10, min_samples_leaf=2, min_samples_split=10, n_estimators=100;, score=0.860 total time=   0.0s\n",
      "[CV 2/5] END criterion=entropy, max_depth=10, min_samples_leaf=2, min_samples_split=10, n_estimators=100;, score=0.837 total time=   0.0s\n",
      "[CV 3/5] END criterion=entropy, max_depth=10, min_samples_leaf=2, min_samples_split=10, n_estimators=100;, score=0.714 total time=   0.0s\n",
      "[CV 4/5] END criterion=entropy, max_depth=10, min_samples_leaf=2, min_samples_split=10, n_estimators=100;, score=0.905 total time=   0.0s\n",
      "[CV 5/5] END criterion=entropy, max_depth=10, min_samples_leaf=2, min_samples_split=10, n_estimators=100;, score=0.762 total time=   0.0s\n",
      "[CV 1/5] END criterion=entropy, max_depth=3, min_samples_leaf=2, min_samples_split=5, n_estimators=75;, score=0.907 total time=   0.0s\n",
      "[CV 2/5] END criterion=entropy, max_depth=3, min_samples_leaf=2, min_samples_split=5, n_estimators=75;, score=0.837 total time=   0.0s\n",
      "[CV 3/5] END criterion=entropy, max_depth=3, min_samples_leaf=2, min_samples_split=5, n_estimators=75;, score=0.738 total time=   0.0s\n",
      "[CV 4/5] END criterion=entropy, max_depth=3, min_samples_leaf=2, min_samples_split=5, n_estimators=75;, score=0.929 total time=   0.0s\n",
      "[CV 5/5] END criterion=entropy, max_depth=3, min_samples_leaf=2, min_samples_split=5, n_estimators=75;, score=0.738 total time=   0.0s\n"
     ]
    },
    {
     "data": {
      "text/plain": [
       "RandomizedSearchCV(cv=5,\n",
       "                   estimator=RandomForestClassifier(max_depth=10,\n",
       "                                                    random_state=101),\n",
       "                   param_distributions={'criterion': ['gini', 'entropy'],\n",
       "                                        'max_depth': [3, 5, 10],\n",
       "                                        'min_samples_leaf': [2, 5, 10, 20],\n",
       "                                        'min_samples_split': [2, 5, 10, 15, 20],\n",
       "                                        'n_estimators': [50, 75, 100]},\n",
       "                   scoring='accuracy', verbose=3)"
      ]
     },
     "execution_count": 64,
     "metadata": {},
     "output_type": "execute_result"
    }
   ],
   "source": [
    "cv=RandomizedSearchCV(rfc,param_distributions=params,scoring='accuracy',cv=5,verbose=3)\n",
    "cv.fit(scaled_X_train,y_train)"
   ]
  },
  {
   "cell_type": "code",
   "execution_count": 65,
   "id": "d9c406ef",
   "metadata": {},
   "outputs": [
    {
     "data": {
      "text/plain": [
       "{'n_estimators': 50,\n",
       " 'min_samples_split': 20,\n",
       " 'min_samples_leaf': 20,\n",
       " 'max_depth': 3,\n",
       " 'criterion': 'gini'}"
      ]
     },
     "execution_count": 65,
     "metadata": {},
     "output_type": "execute_result"
    }
   ],
   "source": [
    "cv.best_params_"
   ]
  },
  {
   "cell_type": "code",
   "execution_count": 67,
   "id": "0372eb8b",
   "metadata": {},
   "outputs": [],
   "source": [
    "# Use 40 random trees\n",
    "rfc2 = RandomForestClassifier(n_estimators=50,max_depth=3,min_samples_split= 20,min_samples_leaf= 20,criterion= 'gini', random_state=101)"
   ]
  },
  {
   "cell_type": "code",
   "execution_count": 68,
   "id": "2f1fe7a3",
   "metadata": {},
   "outputs": [
    {
     "data": {
      "text/plain": [
       "RandomForestClassifier(max_depth=3, min_samples_leaf=20, min_samples_split=20,\n",
       "                       n_estimators=50, random_state=101)"
      ]
     },
     "execution_count": 68,
     "metadata": {},
     "output_type": "execute_result"
    }
   ],
   "source": [
    "rfc2.fit(scaled_X_train,y_train)"
   ]
  },
  {
   "cell_type": "code",
   "execution_count": 69,
   "id": "f5205718",
   "metadata": {},
   "outputs": [],
   "source": [
    "pred = rfc2.predict(scaled_X_test)"
   ]
  },
  {
   "cell_type": "code",
   "execution_count": 70,
   "id": "7b723f57",
   "metadata": {},
   "outputs": [
    {
     "data": {
      "text/plain": [
       "array([[32,  9],\n",
       "       [ 7, 43]], dtype=int64)"
      ]
     },
     "execution_count": 70,
     "metadata": {},
     "output_type": "execute_result"
    }
   ],
   "source": [
    "confusion_matrix(y_test,pred)"
   ]
  },
  {
   "cell_type": "code",
   "execution_count": 71,
   "id": "32213919",
   "metadata": {},
   "outputs": [
    {
     "name": "stdout",
     "output_type": "stream",
     "text": [
      "              precision    recall  f1-score   support\n",
      "\n",
      "           0       0.82      0.78      0.80        41\n",
      "           1       0.83      0.86      0.84        50\n",
      "\n",
      "    accuracy                           0.82        91\n",
      "   macro avg       0.82      0.82      0.82        91\n",
      "weighted avg       0.82      0.82      0.82        91\n",
      "\n"
     ]
    }
   ],
   "source": [
    "print(classification_report(y_test,pred))"
   ]
  },
  {
   "cell_type": "markdown",
   "id": "fd7d8135",
   "metadata": {},
   "source": [
    "## Q7. Report the best set of hyperparameters found by the search and the corresponding performance metrics. Compare the performance of the tuned model with the default model."
   ]
  },
  {
   "cell_type": "markdown",
   "id": "56d4d793",
   "metadata": {},
   "source": [
    "best parameters: \n",
    "{'n_estimators': 50,\n",
    " 'min_samples_split': 20,\n",
    " 'min_samples_leaf': 20,\n",
    " 'max_depth': 3,\n",
    " 'criterion': 'gini'}"
   ]
  },
  {
   "cell_type": "markdown",
   "id": "65ff3fd7",
   "metadata": {},
   "source": [
    "Not much difference in performance"
   ]
  },
  {
   "cell_type": "code",
   "execution_count": 72,
   "id": "2a2712af",
   "metadata": {},
   "outputs": [
    {
     "data": {
      "text/plain": [
       "array([0.02998757, 0.03144612, 0.16715319, 0.00628743, 0.01530116,\n",
       "       0.        , 0.00271953, 0.13008103, 0.10978274, 0.09856759,\n",
       "       0.08784696, 0.17157504, 0.14925165])"
      ]
     },
     "execution_count": 72,
     "metadata": {},
     "output_type": "execute_result"
    }
   ],
   "source": [
    "rfc2.feature_importances_"
   ]
  },
  {
   "cell_type": "code",
   "execution_count": 76,
   "id": "c533e283",
   "metadata": {},
   "outputs": [],
   "source": [
    "#Get the indices of the top 5 most important features\n",
    "top5_indices = rfc2.feature_importances_.argsort()[-5:][::-1]"
   ]
  },
  {
   "cell_type": "code",
   "execution_count": 77,
   "id": "a5588bbc",
   "metadata": {},
   "outputs": [],
   "source": [
    "# Get the names of the top 5 most important features\n",
    "top5_features = [X.columns[i] for i in top5_indices]"
   ]
  },
  {
   "cell_type": "code",
   "execution_count": 78,
   "id": "3661c626",
   "metadata": {},
   "outputs": [
    {
     "data": {
      "text/plain": [
       "['ca', 'cp', 'thal', 'thalach', 'exang']"
      ]
     },
     "execution_count": 78,
     "metadata": {},
     "output_type": "execute_result"
    }
   ],
   "source": [
    "top5_features"
   ]
  },
  {
   "cell_type": "code",
   "execution_count": 79,
   "id": "db5ee84a",
   "metadata": {},
   "outputs": [
    {
     "data": {
      "image/png": "[encoded data removed]",
      "text/plain": [
       "<Figure size 720x432 with 1 Axes>"
      ]
     },
     "metadata": {
      "needs_background": "light"
     },
     "output_type": "display_data"
    }
   ],
   "source": [
    "# Plotting feature importances\n",
    "plt.figure(figsize=(10, 6))\n",
    "plt.bar(top5_features, rfc.feature_importances_[top5_indices], color='skyblue')\n",
    "plt.xlabel('Features')\n",
    "plt.ylabel('Feature Importance')\n",
    "plt.title('Top 5 Most Important Features')\n",
    "plt.xticks(rotation=45, ha='right')\n",
    "plt.tight_layout()\n",
    "plt.show()"
   ]
  },
  {
   "cell_type": "code",
   "execution_count": null,
   "id": "b9036040",
   "metadata": {},
   "outputs": [],
   "source": []
  }
 ],
 "metadata": {
  "kernelspec": {
   "display_name": "Python 3 (ipykernel)",
   "language": "python",
   "name": "python3"
  },
  "language_info": {
   "codemirror_mode": {
    "name": "ipython",
    "version": 3
   },
   "file_extension": ".py",
   "mimetype": "text/x-python",
   "name": "python",
   "nbconvert_exporter": "python",
   "pygments_lexer": "ipython3",
   "version": "3.9.12"
  }
 },
 "nbformat": 4,
 "nbformat_minor": 5
}
